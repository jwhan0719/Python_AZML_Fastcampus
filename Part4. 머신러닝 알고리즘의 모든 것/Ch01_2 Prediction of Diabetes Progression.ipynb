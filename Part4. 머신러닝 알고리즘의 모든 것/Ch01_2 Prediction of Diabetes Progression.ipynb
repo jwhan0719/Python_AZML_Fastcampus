{
 "cells": [
  {
   "cell_type": "markdown",
   "metadata": {},
   "source": [
    "# 1. Diabetes Data and Linear Regression\n",
    "- 당뇨병 진행도와 관련된 데이터를 이용해 당뇨병 진행을 예측하는 Linear Regression을 학습"
   ]
  },
  {
   "cell_type": "code",
   "execution_count": 1,
   "metadata": {
    "ExecuteTime": {
     "end_time": "2022-03-31T06:36:26.425925Z",
     "start_time": "2022-03-31T06:36:24.215591Z"
    }
   },
   "outputs": [],
   "source": [
    "import pandas as pd\n",
    "import numpy as np\n",
    "import matplotlib.pyplot as plt\n",
    "\n",
    "np.random.seed(2021)"
   ]
  },
  {
   "cell_type": "markdown",
   "metadata": {},
   "source": [
    "### 1.1 Data"
   ]
  },
  {
   "cell_type": "markdown",
   "metadata": {},
   "source": [
    "당뇨병 데이터에서 사용되는 변수명은 `feature_names` 으로 키 값으로 들어와 있음  \n",
    "변수명과 변수에 대한 설명\n",
    "- `age`: 나이\n",
    "- `sex`: 성별\n",
    "- `bmi`: Body mass index\n",
    "- `bp`: Average blood pressure\n",
    "- 혈청에 대한 6가지 지표들\n",
    "    - `S1`, `S2`, `S3`, `S4`, `S5`, `S6`"
   ]
  },
  {
   "cell_type": "code",
   "execution_count": 2,
   "metadata": {
    "ExecuteTime": {
     "end_time": "2022-03-31T06:36:27.869461Z",
     "start_time": "2022-03-31T06:36:26.433937Z"
    }
   },
   "outputs": [
    {
     "data": {
      "text/plain": [
       "['age', 'sex', 'bmi', 'bp', 's1', 's2', 's3', 's4', 's5', 's6']"
      ]
     },
     "execution_count": 2,
     "metadata": {},
     "output_type": "execute_result"
    }
   ],
   "source": [
    "from sklearn.datasets import load_diabetes\n",
    "\n",
    "diabetes = load_diabetes()\n",
    "diabetes[\"feature_names\"]"
   ]
  },
  {
   "cell_type": "code",
   "execution_count": 3,
   "metadata": {
    "ExecuteTime": {
     "end_time": "2022-03-31T06:36:27.885475Z",
     "start_time": "2022-03-31T06:36:27.872474Z"
    }
   },
   "outputs": [
    {
     "name": "stdout",
     "output_type": "stream",
     "text": [
      "[ 0.03807591  0.05068012  0.06169621  0.02187235 -0.0442235  -0.03482076\n",
      " -0.04340085 -0.00259226  0.01990842 -0.01764613]\n",
      "151.0\n"
     ]
    }
   ],
   "source": [
    "data, target = diabetes[\"data\"], diabetes[\"target\"]\n",
    "\n",
    "# 데이터 및 정답 확인\n",
    "print(data[0])\n",
    "print(target[0])"
   ]
  },
  {
   "cell_type": "markdown",
   "metadata": {},
   "source": [
    "### 1.2 EDA"
   ]
  },
  {
   "cell_type": "code",
   "execution_count": 4,
   "metadata": {
    "ExecuteTime": {
     "end_time": "2022-03-31T06:36:27.995324Z",
     "start_time": "2022-03-31T06:36:27.889473Z"
    }
   },
   "outputs": [
    {
     "data": {
      "text/html": [
       "<div>\n",
       "<style scoped>\n",
       "    .dataframe tbody tr th:only-of-type {\n",
       "        vertical-align: middle;\n",
       "    }\n",
       "\n",
       "    .dataframe tbody tr th {\n",
       "        vertical-align: top;\n",
       "    }\n",
       "\n",
       "    .dataframe thead th {\n",
       "        text-align: right;\n",
       "    }\n",
       "</style>\n",
       "<table border=\"1\" class=\"dataframe\">\n",
       "  <thead>\n",
       "    <tr style=\"text-align: right;\">\n",
       "      <th></th>\n",
       "      <th>age</th>\n",
       "      <th>sex</th>\n",
       "      <th>bmi</th>\n",
       "      <th>bp</th>\n",
       "      <th>s1</th>\n",
       "      <th>s2</th>\n",
       "      <th>s3</th>\n",
       "      <th>s4</th>\n",
       "      <th>s5</th>\n",
       "      <th>s6</th>\n",
       "    </tr>\n",
       "  </thead>\n",
       "  <tbody>\n",
       "    <tr>\n",
       "      <th>count</th>\n",
       "      <td>4.420000e+02</td>\n",
       "      <td>4.420000e+02</td>\n",
       "      <td>4.420000e+02</td>\n",
       "      <td>4.420000e+02</td>\n",
       "      <td>4.420000e+02</td>\n",
       "      <td>4.420000e+02</td>\n",
       "      <td>4.420000e+02</td>\n",
       "      <td>4.420000e+02</td>\n",
       "      <td>4.420000e+02</td>\n",
       "      <td>4.420000e+02</td>\n",
       "    </tr>\n",
       "    <tr>\n",
       "      <th>mean</th>\n",
       "      <td>-3.639623e-16</td>\n",
       "      <td>1.309912e-16</td>\n",
       "      <td>-8.013951e-16</td>\n",
       "      <td>1.289818e-16</td>\n",
       "      <td>-9.042540e-17</td>\n",
       "      <td>1.301121e-16</td>\n",
       "      <td>-4.563971e-16</td>\n",
       "      <td>3.863174e-16</td>\n",
       "      <td>-3.848103e-16</td>\n",
       "      <td>-3.398488e-16</td>\n",
       "    </tr>\n",
       "    <tr>\n",
       "      <th>std</th>\n",
       "      <td>4.761905e-02</td>\n",
       "      <td>4.761905e-02</td>\n",
       "      <td>4.761905e-02</td>\n",
       "      <td>4.761905e-02</td>\n",
       "      <td>4.761905e-02</td>\n",
       "      <td>4.761905e-02</td>\n",
       "      <td>4.761905e-02</td>\n",
       "      <td>4.761905e-02</td>\n",
       "      <td>4.761905e-02</td>\n",
       "      <td>4.761905e-02</td>\n",
       "    </tr>\n",
       "    <tr>\n",
       "      <th>min</th>\n",
       "      <td>-1.072256e-01</td>\n",
       "      <td>-4.464164e-02</td>\n",
       "      <td>-9.027530e-02</td>\n",
       "      <td>-1.123996e-01</td>\n",
       "      <td>-1.267807e-01</td>\n",
       "      <td>-1.156131e-01</td>\n",
       "      <td>-1.023071e-01</td>\n",
       "      <td>-7.639450e-02</td>\n",
       "      <td>-1.260974e-01</td>\n",
       "      <td>-1.377672e-01</td>\n",
       "    </tr>\n",
       "    <tr>\n",
       "      <th>25%</th>\n",
       "      <td>-3.729927e-02</td>\n",
       "      <td>-4.464164e-02</td>\n",
       "      <td>-3.422907e-02</td>\n",
       "      <td>-3.665645e-02</td>\n",
       "      <td>-3.424784e-02</td>\n",
       "      <td>-3.035840e-02</td>\n",
       "      <td>-3.511716e-02</td>\n",
       "      <td>-3.949338e-02</td>\n",
       "      <td>-3.324879e-02</td>\n",
       "      <td>-3.317903e-02</td>\n",
       "    </tr>\n",
       "    <tr>\n",
       "      <th>50%</th>\n",
       "      <td>5.383060e-03</td>\n",
       "      <td>-4.464164e-02</td>\n",
       "      <td>-7.283766e-03</td>\n",
       "      <td>-5.670611e-03</td>\n",
       "      <td>-4.320866e-03</td>\n",
       "      <td>-3.819065e-03</td>\n",
       "      <td>-6.584468e-03</td>\n",
       "      <td>-2.592262e-03</td>\n",
       "      <td>-1.947634e-03</td>\n",
       "      <td>-1.077698e-03</td>\n",
       "    </tr>\n",
       "    <tr>\n",
       "      <th>75%</th>\n",
       "      <td>3.807591e-02</td>\n",
       "      <td>5.068012e-02</td>\n",
       "      <td>3.124802e-02</td>\n",
       "      <td>3.564384e-02</td>\n",
       "      <td>2.835801e-02</td>\n",
       "      <td>2.984439e-02</td>\n",
       "      <td>2.931150e-02</td>\n",
       "      <td>3.430886e-02</td>\n",
       "      <td>3.243323e-02</td>\n",
       "      <td>2.791705e-02</td>\n",
       "    </tr>\n",
       "    <tr>\n",
       "      <th>max</th>\n",
       "      <td>1.107267e-01</td>\n",
       "      <td>5.068012e-02</td>\n",
       "      <td>1.705552e-01</td>\n",
       "      <td>1.320442e-01</td>\n",
       "      <td>1.539137e-01</td>\n",
       "      <td>1.987880e-01</td>\n",
       "      <td>1.811791e-01</td>\n",
       "      <td>1.852344e-01</td>\n",
       "      <td>1.335990e-01</td>\n",
       "      <td>1.356118e-01</td>\n",
       "    </tr>\n",
       "  </tbody>\n",
       "</table>\n",
       "</div>"
      ],
      "text/plain": [
       "                age           sex           bmi            bp            s1  \\\n",
       "count  4.420000e+02  4.420000e+02  4.420000e+02  4.420000e+02  4.420000e+02   \n",
       "mean  -3.639623e-16  1.309912e-16 -8.013951e-16  1.289818e-16 -9.042540e-17   \n",
       "std    4.761905e-02  4.761905e-02  4.761905e-02  4.761905e-02  4.761905e-02   \n",
       "min   -1.072256e-01 -4.464164e-02 -9.027530e-02 -1.123996e-01 -1.267807e-01   \n",
       "25%   -3.729927e-02 -4.464164e-02 -3.422907e-02 -3.665645e-02 -3.424784e-02   \n",
       "50%    5.383060e-03 -4.464164e-02 -7.283766e-03 -5.670611e-03 -4.320866e-03   \n",
       "75%    3.807591e-02  5.068012e-02  3.124802e-02  3.564384e-02  2.835801e-02   \n",
       "max    1.107267e-01  5.068012e-02  1.705552e-01  1.320442e-01  1.539137e-01   \n",
       "\n",
       "                 s2            s3            s4            s5            s6  \n",
       "count  4.420000e+02  4.420000e+02  4.420000e+02  4.420000e+02  4.420000e+02  \n",
       "mean   1.301121e-16 -4.563971e-16  3.863174e-16 -3.848103e-16 -3.398488e-16  \n",
       "std    4.761905e-02  4.761905e-02  4.761905e-02  4.761905e-02  4.761905e-02  \n",
       "min   -1.156131e-01 -1.023071e-01 -7.639450e-02 -1.260974e-01 -1.377672e-01  \n",
       "25%   -3.035840e-02 -3.511716e-02 -3.949338e-02 -3.324879e-02 -3.317903e-02  \n",
       "50%   -3.819065e-03 -6.584468e-03 -2.592262e-03 -1.947634e-03 -1.077698e-03  \n",
       "75%    2.984439e-02  2.931150e-02  3.430886e-02  3.243323e-02  2.791705e-02  \n",
       "max    1.987880e-01  1.811791e-01  1.852344e-01  1.335990e-01  1.356118e-01  "
      ]
     },
     "execution_count": 4,
     "metadata": {},
     "output_type": "execute_result"
    }
   ],
   "source": [
    "df = pd.DataFrame(data, columns=diabetes[\"feature_names\"])\n",
    "df.describe()"
   ]
  },
  {
   "cell_type": "markdown",
   "metadata": {},
   "source": [
    "### 1.3 Data Split"
   ]
  },
  {
   "cell_type": "markdown",
   "metadata": {},
   "source": [
    "`sklearn.model_selection`의 `train_test_split`함수를 이용해 데이터 분리\n",
    "\n",
    "\n",
    "```python\n",
    " train_test_split(\n",
    "    *arrays,\n",
    "    test_size=None,\n",
    "    train_size=None,\n",
    "    random_state=None,\n",
    "    shuffle=True,\n",
    "    stratify=None,\n",
    ")\n",
    "```\n",
    "- `*arrays`: 입력은 array로 이루어진 데이터을 받음\n",
    "- `test_size`: test로 분할될 사이즈를 설정\n",
    "- `train_size`: train으로 분할될 사이즈를 정합니다.\n",
    "- `random_state`: 다음에도 같은 값을 얻기 위해서 난수를 고정\n",
    "- `shuffle`: 데이터를 섞을지 말지 결정\n",
    "- `stratify`: 데이터를 나눌 때 정답의 분포를 반영"
   ]
  },
  {
   "cell_type": "code",
   "execution_count": 5,
   "metadata": {
    "ExecuteTime": {
     "end_time": "2022-03-31T06:36:28.089929Z",
     "start_time": "2022-03-31T06:36:28.005380Z"
    }
   },
   "outputs": [
    {
     "data": {
      "text/plain": [
       "(442, 309, 133)"
      ]
     },
     "execution_count": 5,
     "metadata": {},
     "output_type": "execute_result"
    }
   ],
   "source": [
    "from sklearn.model_selection import train_test_split\n",
    "\n",
    "# train/test 7:3 비율\n",
    "train_data, test_data, train_target, test_target = train_test_split(data, target, test_size=0.3)\n",
    "\n",
    "len(data), len(train_data), len(test_data)"
   ]
  },
  {
   "cell_type": "code",
   "execution_count": 6,
   "metadata": {
    "ExecuteTime": {
     "end_time": "2022-03-31T06:36:28.105066Z",
     "start_time": "2022-03-31T06:36:28.089929Z"
    }
   },
   "outputs": [
    {
     "name": "stdout",
     "output_type": "stream",
     "text": [
      "train ratio : 0.70\n",
      "test ratio : 0.30\n"
     ]
    }
   ],
   "source": [
    "print(\"train ratio : {:.2f}\".format(len(train_data)/len(data)))\n",
    "print(\"test ratio : {:.2f}\".format(len(test_data)/len(data)))"
   ]
  },
  {
   "cell_type": "markdown",
   "metadata": {},
   "source": [
    "# 2. Multivariate Regression(다변량 회귀분석)"
   ]
  },
  {
   "cell_type": "markdown",
   "metadata": {},
   "source": [
    "### 2.1 Learning"
   ]
  },
  {
   "cell_type": "code",
   "execution_count": 7,
   "metadata": {
    "ExecuteTime": {
     "end_time": "2022-03-31T06:36:28.214555Z",
     "start_time": "2022-03-31T06:36:28.110079Z"
    }
   },
   "outputs": [
    {
     "name": "stdout",
     "output_type": "stream",
     "text": [
      "147.71524417759434\n",
      "[  15.28529701 -218.59128442  545.19999487  263.6592052  -582.66349612\n",
      "  317.33684049   48.53542723  215.51374612  655.7965519    64.04030953]\n"
     ]
    }
   ],
   "source": [
    "from sklearn.linear_model import LinearRegression\n",
    "\n",
    "multi_regressor = LinearRegression()\n",
    "multi_regressor.fit(train_data, train_target)\n",
    "\n",
    "# 회귀식\n",
    "print(multi_regressor.intercept_)\n",
    "\n",
    "# 회귀계수\n",
    "print(multi_regressor.coef_)"
   ]
  },
  {
   "cell_type": "markdown",
   "metadata": {},
   "source": [
    "### 2.2 Predict"
   ]
  },
  {
   "cell_type": "code",
   "execution_count": 8,
   "metadata": {
    "ExecuteTime": {
     "end_time": "2022-03-31T06:36:28.235336Z",
     "start_time": "2022-03-31T06:36:28.220142Z"
    }
   },
   "outputs": [],
   "source": [
    "multi_train_pred = multi_regressor.predict(train_data)\n",
    "multi_test_pred = multi_regressor.predict(test_data)"
   ]
  },
  {
   "cell_type": "markdown",
   "metadata": {},
   "source": [
    "### 2.3 Evaluation\n",
    "\n",
    "- 평가는 `sklearn.metrics` 의 `mean_squared_error`를 이용   \n",
    "- mean_squared_error는 두 값의 차이의 제곱의 평균을 계산"
   ]
  },
  {
   "cell_type": "code",
   "execution_count": 9,
   "metadata": {
    "ExecuteTime": {
     "end_time": "2022-03-31T06:36:28.255190Z",
     "start_time": "2022-03-31T06:36:28.236879Z"
    }
   },
   "outputs": [
    {
     "name": "stdout",
     "output_type": "stream",
     "text": [
      "Multi Regression Train MSE is 3034.2623\n",
      "Multi Regression Test MSE is 2562.2750\n"
     ]
    }
   ],
   "source": [
    "from sklearn.metrics import mean_squared_error\n",
    "\n",
    "multi_train_mse = mean_squared_error(multi_train_pred, train_target)\n",
    "multi_test_mse = mean_squared_error(multi_test_pred, test_target)\n",
    "\n",
    "print(f\"Multi Regression Train MSE is {multi_train_mse:.4f}\")\n",
    "print(f\"Multi Regression Test MSE is {multi_test_mse:.4f}\")"
   ]
  },
  {
   "cell_type": "markdown",
   "metadata": {},
   "source": [
    "# 3. Ridge Regression(릿지 회귀분석)"
   ]
  },
  {
   "cell_type": "markdown",
   "metadata": {},
   "source": [
    "### 3.1 Learning"
   ]
  },
  {
   "cell_type": "code",
   "execution_count": 10,
   "metadata": {
    "ExecuteTime": {
     "end_time": "2022-03-31T06:36:28.270301Z",
     "start_time": "2022-03-31T06:36:28.257241Z"
    }
   },
   "outputs": [
    {
     "name": "stdout",
     "output_type": "stream",
     "text": [
      "147.74060119766182\n",
      "[  46.89201977  -55.64009506  270.71747699  158.68867814   23.59440223\n",
      "  -11.13019705 -130.05870493  122.00237806  225.92117758  107.08728777]\n"
     ]
    }
   ],
   "source": [
    "from sklearn.linear_model import Ridge\n",
    "\n",
    "ridge_regressor = Ridge()\n",
    "ridge_regressor.fit(train_data, train_target)\n",
    "\n",
    "# 회귀식\n",
    "print(ridge_regressor.intercept_)\n",
    "\n",
    "# 회귀계수\n",
    "print(ridge_regressor.coef_)"
   ]
  },
  {
   "cell_type": "markdown",
   "metadata": {},
   "source": [
    "### 3.2 Predict"
   ]
  },
  {
   "cell_type": "code",
   "execution_count": 11,
   "metadata": {
    "ExecuteTime": {
     "end_time": "2022-03-31T06:36:28.285597Z",
     "start_time": "2022-03-31T06:36:28.270301Z"
    }
   },
   "outputs": [],
   "source": [
    "ridge_train_pred = ridge_regressor.predict(train_data)\n",
    "ridge_test_pred = ridge_regressor.predict(test_data)"
   ]
  },
  {
   "cell_type": "markdown",
   "metadata": {
    "ExecuteTime": {
     "end_time": "2022-03-31T06:33:07.682540Z",
     "start_time": "2022-03-31T06:33:07.670543Z"
    }
   },
   "source": [
    "### 3.3 Evaluation"
   ]
  },
  {
   "cell_type": "code",
   "execution_count": 12,
   "metadata": {
    "ExecuteTime": {
     "end_time": "2022-03-31T06:36:28.301113Z",
     "start_time": "2022-03-31T06:36:28.287646Z"
    }
   },
   "outputs": [
    {
     "name": "stdout",
     "output_type": "stream",
     "text": [
      "Ridge Regression Train MSE is 3556.1983\n",
      "Ridge Regression Test MSE is 3200.4051\n"
     ]
    }
   ],
   "source": [
    "ridge_train_mse = mean_squared_error(ridge_train_pred, train_target)\n",
    "ridge_test_mse = mean_squared_error(ridge_test_pred, test_target)\n",
    "\n",
    "print(f\"Ridge Regression Train MSE is {ridge_train_mse:.4f}\")\n",
    "print(f\"Ridge Regression Test MSE is {ridge_test_mse:.4f}\")"
   ]
  },
  {
   "cell_type": "markdown",
   "metadata": {},
   "source": [
    "# 4. LASSO Regression(라쏘 회귀분석)"
   ]
  },
  {
   "cell_type": "markdown",
   "metadata": {},
   "source": [
    "### 4.1 Learning"
   ]
  },
  {
   "cell_type": "code",
   "execution_count": 13,
   "metadata": {
    "ExecuteTime": {
     "end_time": "2022-03-31T06:36:28.334960Z",
     "start_time": "2022-03-31T06:36:28.304113Z"
    }
   },
   "outputs": [
    {
     "name": "stdout",
     "output_type": "stream",
     "text": [
      "148.13825690433762\n"
     ]
    },
    {
     "data": {
      "text/plain": [
       "array(['bmi', 's5'], dtype='<U3')"
      ]
     },
     "execution_count": 13,
     "metadata": {},
     "output_type": "execute_result"
    }
   ],
   "source": [
    "from sklearn.linear_model import Lasso\n",
    "\n",
    "lasso_regressor = Lasso()\n",
    "lasso_regressor.fit(train_data, train_target)\n",
    "\n",
    "# 회귀식\n",
    "print(lasso_regressor.intercept_)\n",
    "\n",
    "# 회귀계수\n",
    "lasso_regressor.coef_\n",
    "\n",
    "# 회귀 계수가 0이 아닌 피처\n",
    "np.array(diabetes[\"feature_names\"])[lasso_regressor.coef_ != 0]"
   ]
  },
  {
   "cell_type": "markdown",
   "metadata": {},
   "source": [
    "### 4.2 Predict"
   ]
  },
  {
   "cell_type": "code",
   "execution_count": 14,
   "metadata": {
    "ExecuteTime": {
     "end_time": "2022-03-31T06:36:28.350039Z",
     "start_time": "2022-03-31T06:36:28.336491Z"
    }
   },
   "outputs": [],
   "source": [
    "lasso_train_pred = lasso_regressor.predict(train_data)\n",
    "lasso_test_pred = lasso_regressor.predict(test_data)"
   ]
  },
  {
   "cell_type": "markdown",
   "metadata": {},
   "source": [
    "### 4.3 Evaluation"
   ]
  },
  {
   "cell_type": "code",
   "execution_count": 15,
   "metadata": {
    "ExecuteTime": {
     "end_time": "2022-03-31T06:36:28.370163Z",
     "start_time": "2022-03-31T06:36:28.350039Z"
    }
   },
   "outputs": [
    {
     "name": "stdout",
     "output_type": "stream",
     "text": [
      "LASSO Regression Train MSE is 3897.9528\n",
      "LASSO Regression Test MSE is 3581.6843\n"
     ]
    }
   ],
   "source": [
    "lasso_train_mse = mean_squared_error(lasso_train_pred, train_target)\n",
    "lasso_test_mse = mean_squared_error(lasso_test_pred, test_target)\n",
    "\n",
    "print(f\"LASSO Regression Train MSE is {lasso_train_mse:.4f}\")\n",
    "print(f\"LASSO Regression Test MSE is {lasso_test_mse:.4f}\")"
   ]
  },
  {
   "cell_type": "markdown",
   "metadata": {},
   "source": [
    "# 5. Summary"
   ]
  },
  {
   "cell_type": "markdown",
   "metadata": {
    "ExecuteTime": {
     "end_time": "2022-03-31T06:35:32.121062Z",
     "start_time": "2022-03-31T06:35:32.109028Z"
    }
   },
   "source": [
    "### 5.1 Evaluation"
   ]
  },
  {
   "cell_type": "code",
   "execution_count": 16,
   "metadata": {
    "ExecuteTime": {
     "end_time": "2022-03-31T06:36:28.390269Z",
     "start_time": "2022-03-31T06:36:28.370163Z"
    }
   },
   "outputs": [
    {
     "name": "stdout",
     "output_type": "stream",
     "text": [
      "Multi Regression Test MSE is 2562.2750\n",
      "Ridge Regression Test MSE is 3200.4051\n",
      "LASSO Regression Test MSE is 3581.6843\n"
     ]
    }
   ],
   "source": [
    "print(f\"Multi Regression Test MSE is {multi_test_mse:.4f}\")\n",
    "print(f\"Ridge Regression Test MSE is {ridge_test_mse:.4f}\")\n",
    "print(f\"LASSO Regression Test MSE is {lasso_test_mse:.4f}\")"
   ]
  },
  {
   "cell_type": "markdown",
   "metadata": {},
   "source": [
    "### 5.2 Visualization"
   ]
  },
  {
   "cell_type": "code",
   "execution_count": 17,
   "metadata": {
    "ExecuteTime": {
     "end_time": "2022-03-31T06:36:29.020962Z",
     "start_time": "2022-03-31T06:36:28.390269Z"
    }
   },
   "outputs": [
    {
     "data": {
      "image/png": "[encoded data removed]",
      "text/plain": [
       "<Figure size 1080x360 with 3 Axes>"
      ]
     },
     "metadata": {
      "needs_background": "light"
     },
     "output_type": "display_data"
    }
   ],
   "source": [
    "fig, axes = plt.subplots(nrows=1, ncols=3, figsize=(15, 5))\n",
    "preds = [\n",
    "    (\"Multi regression\", multi_test_pred),\n",
    "    (\"Ridge regression\", ridge_test_pred),\n",
    "    (\"LASSO regression\", lasso_test_pred),\n",
    "]\n",
    "\n",
    "for idx, (name, test_pred) in enumerate(preds):\n",
    "    ax = axes[idx]\n",
    "    ax.scatter(test_pred, test_target)\n",
    "    ax.plot(np.linspace(0, 330, 100), np.linspace(0, 330, 100), color=\"red\")\n",
    "    ax.set_xlabel(\"Predict\")\n",
    "    ax.set_ylabel(\"Real\")\n",
    "    ax.set_title(name)"
   ]
  },
  {
   "cell_type": "code",
   "execution_count": null,
   "metadata": {},
   "outputs": [],
   "source": []
  }
 ],
 "metadata": {
  "hide_input": false,
  "kernelspec": {
   "display_name": "ojt",
   "language": "python",
   "name": "ojt"
  },
  "language_info": {
   "codemirror_mode": {
    "name": "ipython",
    "version": 3
   },
   "file_extension": ".py",
   "mimetype": "text/x-python",
   "name": "python",
   "nbconvert_exporter": "python",
   "pygments_lexer": "ipython3",
   "version": "3.6.5"
  },
  "toc": {
   "base_numbering": 1,
   "nav_menu": {},
   "number_sections": false,
   "sideBar": true,
   "skip_h1_title": false,
   "title_cell": "Table of Contents",
   "title_sidebar": "Contents",
   "toc_cell": false,
   "toc_position": {},
   "toc_section_display": true,
   "toc_window_display": false
  },
  "varInspector": {
   "cols": {
    "lenName": 16,
    "lenType": 16,
    "lenVar": 40
   },
   "kernels_config": {
    "python": {
     "delete_cmd_postfix": "",
     "delete_cmd_prefix": "del ",
     "library": "var_list.py",
     "varRefreshCmd": "print(var_dic_list())"
    },
    "r": {
     "delete_cmd_postfix": ") ",
     "delete_cmd_prefix": "rm(",
     "library": "var_list.r",
     "varRefreshCmd": "cat(var_dic_list()) "
    }
   },
   "types_to_exclude": [
    "module",
    "function",
    "builtin_function_or_method",
    "instance",
    "_Feature"
   ],
   "window_display": false
  }
 },
 "nbformat": 4,
 "nbformat_minor": 2
}
