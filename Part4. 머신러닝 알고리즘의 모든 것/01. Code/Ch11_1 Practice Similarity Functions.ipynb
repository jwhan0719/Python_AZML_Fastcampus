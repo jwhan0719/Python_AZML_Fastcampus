{
 "cells": [
  {
   "cell_type": "markdown",
   "metadata": {},
   "source": [
    "# Practice similarity functions with Sample Data"
   ]
  },
  {
   "cell_type": "code",
   "execution_count": 1,
   "metadata": {
    "ExecuteTime": {
     "end_time": "2022-04-18T07:28:53.023944Z",
     "start_time": "2022-04-18T07:28:51.370516Z"
    }
   },
   "outputs": [],
   "source": [
    "import pandas as pd\n",
    "import numpy as np\n",
    "import matplotlib.pyplot as plt\n",
    "\n",
    "np.random.seed(2021)"
   ]
  },
  {
   "cell_type": "markdown",
   "metadata": {},
   "source": [
    "# 1. Euclidean similarity\n",
    "- 유사도를 계산할 유저를 인덱스로 아이템을 컬럼으로 하는 데이터를 정의\n",
    "- 유저가 평가하지 않은 아이템에 대해서는 결측값으로 표시"
   ]
  },
  {
   "cell_type": "markdown",
   "metadata": {},
   "source": [
    "### 1.1 Sample Data"
   ]
  },
  {
   "cell_type": "code",
   "execution_count": 2,
   "metadata": {
    "ExecuteTime": {
     "end_time": "2022-04-18T07:28:53.134886Z",
     "start_time": "2022-04-18T07:28:53.023944Z"
    }
   },
   "outputs": [
    {
     "data": {
      "text/html": [
       "<div>\n",
       "<style scoped>\n",
       "    .dataframe tbody tr th:only-of-type {\n",
       "        vertical-align: middle;\n",
       "    }\n",
       "\n",
       "    .dataframe tbody tr th {\n",
       "        vertical-align: top;\n",
       "    }\n",
       "\n",
       "    .dataframe thead th {\n",
       "        text-align: right;\n",
       "    }\n",
       "</style>\n",
       "<table border=\"1\" class=\"dataframe\">\n",
       "  <thead>\n",
       "    <tr style=\"text-align: right;\">\n",
       "      <th></th>\n",
       "      <th>itemA</th>\n",
       "      <th>itemB</th>\n",
       "      <th>itemC</th>\n",
       "      <th>itemD</th>\n",
       "    </tr>\n",
       "  </thead>\n",
       "  <tbody>\n",
       "    <tr>\n",
       "      <th>userA</th>\n",
       "      <td>1.0</td>\n",
       "      <td>NaN</td>\n",
       "      <td>1.0</td>\n",
       "      <td>NaN</td>\n",
       "    </tr>\n",
       "    <tr>\n",
       "      <th>userB</th>\n",
       "      <td>NaN</td>\n",
       "      <td>1.0</td>\n",
       "      <td>1.0</td>\n",
       "      <td>NaN</td>\n",
       "    </tr>\n",
       "    <tr>\n",
       "      <th>userC</th>\n",
       "      <td>1.0</td>\n",
       "      <td>NaN</td>\n",
       "      <td>1.0</td>\n",
       "      <td>1.0</td>\n",
       "    </tr>\n",
       "  </tbody>\n",
       "</table>\n",
       "</div>"
      ],
      "text/plain": [
       "       itemA  itemB  itemC  itemD\n",
       "userA    1.0    NaN    1.0    NaN\n",
       "userB    NaN    1.0    1.0    NaN\n",
       "userC    1.0    NaN    1.0    1.0"
      ]
     },
     "execution_count": 2,
     "metadata": {},
     "output_type": "execute_result"
    }
   ],
   "source": [
    "data = [\n",
    "    [1., None, 1., None],\n",
    "    [None, 1., 1., None],\n",
    "    [1., None, 1., 1.],\n",
    "]\n",
    "\n",
    "df = pd.DataFrame(\n",
    "    data=data,\n",
    "    index=[\"userA\", \"userB\", \"userC\"],\n",
    "    columns=[\"itemA\", \"itemB\", \"itemC\", \"itemD\"],\n",
    ")\n",
    "\n",
    "df"
   ]
  },
  {
   "cell_type": "markdown",
   "metadata": {},
   "source": [
    "### 1.2 Remove missing values\n",
    "- 결측값 0으로 대체"
   ]
  },
  {
   "cell_type": "code",
   "execution_count": 3,
   "metadata": {
    "ExecuteTime": {
     "end_time": "2022-04-18T07:28:53.166885Z",
     "start_time": "2022-04-18T07:28:53.139886Z"
    }
   },
   "outputs": [
    {
     "data": {
      "text/html": [
       "<div>\n",
       "<style scoped>\n",
       "    .dataframe tbody tr th:only-of-type {\n",
       "        vertical-align: middle;\n",
       "    }\n",
       "\n",
       "    .dataframe tbody tr th {\n",
       "        vertical-align: top;\n",
       "    }\n",
       "\n",
       "    .dataframe thead th {\n",
       "        text-align: right;\n",
       "    }\n",
       "</style>\n",
       "<table border=\"1\" class=\"dataframe\">\n",
       "  <thead>\n",
       "    <tr style=\"text-align: right;\">\n",
       "      <th></th>\n",
       "      <th>itemA</th>\n",
       "      <th>itemB</th>\n",
       "      <th>itemC</th>\n",
       "      <th>itemD</th>\n",
       "    </tr>\n",
       "  </thead>\n",
       "  <tbody>\n",
       "    <tr>\n",
       "      <th>userA</th>\n",
       "      <td>1.0</td>\n",
       "      <td>0.0</td>\n",
       "      <td>1.0</td>\n",
       "      <td>0.0</td>\n",
       "    </tr>\n",
       "    <tr>\n",
       "      <th>userB</th>\n",
       "      <td>0.0</td>\n",
       "      <td>1.0</td>\n",
       "      <td>1.0</td>\n",
       "      <td>0.0</td>\n",
       "    </tr>\n",
       "    <tr>\n",
       "      <th>userC</th>\n",
       "      <td>1.0</td>\n",
       "      <td>0.0</td>\n",
       "      <td>1.0</td>\n",
       "      <td>1.0</td>\n",
       "    </tr>\n",
       "  </tbody>\n",
       "</table>\n",
       "</div>"
      ],
      "text/plain": [
       "       itemA  itemB  itemC  itemD\n",
       "userA    1.0    0.0    1.0    0.0\n",
       "userB    0.0    1.0    1.0    0.0\n",
       "userC    1.0    0.0    1.0    1.0"
      ]
     },
     "execution_count": 3,
     "metadata": {},
     "output_type": "execute_result"
    }
   ],
   "source": [
    "df = df.fillna(0)\n",
    "df"
   ]
  },
  {
   "cell_type": "markdown",
   "metadata": {},
   "source": [
    "### 1.3 Euclidean similarity calculations"
   ]
  },
  {
   "cell_type": "markdown",
   "metadata": {},
   "source": [
    "유저-아이템 평가 행렬에서 유저별로 유클리디안 유사도를 계산\n",
    "$$\n",
    "유클리디안 유사도 = \\frac{1}{\\text{유클리디안 거리} + \\text{1e-5}}\n",
    "$$\n",
    "\n",
    "`sklearn.metrics.pairwise`의 `euclidean_distances`를 이용해 유클리디안 거리를 계산"
   ]
  },
  {
   "cell_type": "code",
   "execution_count": 4,
   "metadata": {
    "ExecuteTime": {
     "end_time": "2022-04-18T07:28:54.470873Z",
     "start_time": "2022-04-18T07:28:53.177888Z"
    }
   },
   "outputs": [
    {
     "data": {
      "text/plain": [
       "array([[1.41421356]])"
      ]
     },
     "execution_count": 4,
     "metadata": {},
     "output_type": "execute_result"
    }
   ],
   "source": [
    "from sklearn.metrics.pairwise import euclidean_distances\n",
    "\n",
    "euclidean_distances(\n",
    "    X=df.loc[[\"userA\"]], \n",
    "    Y=df.loc[[\"userB\"]],\n",
    ")"
   ]
  },
  {
   "cell_type": "markdown",
   "metadata": {},
   "source": [
    "`euclidean_distances`에 X와 Y를 입력할 경우, X와 Y의 각 Row끼리 유클리디안 거리를 계산  \n",
    "유저A와 유저B의 Row를 각각 X와 Y로 입력하면 두 유저의 유클리디안 거리를 계산"
   ]
  },
  {
   "cell_type": "code",
   "execution_count": 5,
   "metadata": {
    "ExecuteTime": {
     "end_time": "2022-04-18T07:28:54.518904Z",
     "start_time": "2022-04-18T07:28:54.475873Z"
    }
   },
   "outputs": [
    {
     "data": {
      "text/plain": [
       "array([[0.        , 1.41421356, 1.        ],\n",
       "       [1.41421356, 0.        , 1.73205081],\n",
       "       [1.        , 1.73205081, 0.        ]])"
      ]
     },
     "execution_count": 5,
     "metadata": {},
     "output_type": "execute_result"
    }
   ],
   "source": [
    "euclidean_distances(df)"
   ]
  },
  {
   "cell_type": "markdown",
   "metadata": {},
   "source": [
    "유클리디안 거리에 역수를 취해 유클리디안 유사도를 계산"
   ]
  },
  {
   "cell_type": "code",
   "execution_count": 6,
   "metadata": {
    "ExecuteTime": {
     "end_time": "2022-04-18T07:28:54.550876Z",
     "start_time": "2022-04-18T07:28:54.521882Z"
    }
   },
   "outputs": [
    {
     "data": {
      "text/plain": [
       "array([[1.00000000e+05, 7.07101781e-01, 9.99990000e-01],\n",
       "       [7.07101781e-01, 1.00000000e+05, 5.77346936e-01],\n",
       "       [9.99990000e-01, 5.77346936e-01, 1.00000000e+05]])"
      ]
     },
     "execution_count": 6,
     "metadata": {},
     "output_type": "execute_result"
    }
   ],
   "source": [
    "distance = euclidean_distances(df)\n",
    "similarity = 1 / (distance + 1e-5)\n",
    "similarity"
   ]
  },
  {
   "cell_type": "markdown",
   "metadata": {},
   "source": [
    "# 2. Cosine similarity\n",
    "\n",
    "### 2.1 Calculation of cosine similarity\n",
    "- 유클리디안 유사도 계산에 사용한 데이터를 이용해 코사인 유사도를 계산  \n",
    "- `sklearn.metrics.pairwise`의 `cosine_similarity`를 이용해 계산\n",
    "- 유클리디안 유사도 계산과 마찬가지로 X와 Y를 각각 입력할 수 있고, X만 입력할 수 있음"
   ]
  },
  {
   "cell_type": "code",
   "execution_count": 7,
   "metadata": {
    "ExecuteTime": {
     "end_time": "2022-04-18T07:28:54.582880Z",
     "start_time": "2022-04-18T07:28:54.555869Z"
    }
   },
   "outputs": [
    {
     "data": {
      "text/plain": [
       "array([[0.5]])"
      ]
     },
     "execution_count": 7,
     "metadata": {},
     "output_type": "execute_result"
    }
   ],
   "source": [
    "from sklearn.metrics.pairwise import cosine_similarity\n",
    "\n",
    "cosine_similarity(\n",
    "    X=df.loc[[\"userA\"]], \n",
    "    Y=df.loc[[\"userB\"]],\n",
    ")"
   ]
  },
  {
   "cell_type": "code",
   "execution_count": 8,
   "metadata": {
    "ExecuteTime": {
     "end_time": "2022-04-18T07:28:54.614877Z",
     "start_time": "2022-04-18T07:28:54.591871Z"
    }
   },
   "outputs": [
    {
     "data": {
      "text/plain": [
       "array([[1.        , 0.5       , 0.81649658],\n",
       "       [0.5       , 1.        , 0.40824829],\n",
       "       [0.81649658, 0.40824829, 1.        ]])"
      ]
     },
     "execution_count": 8,
     "metadata": {},
     "output_type": "execute_result"
    }
   ],
   "source": [
    "# 모든 유저 사이의 코사인 유사도 계산\n",
    "cosine_similarity(df)"
   ]
  },
  {
   "cell_type": "markdown",
   "metadata": {},
   "source": [
    "# 3. Pearson similarity\n",
    "- 아이템에 대한 유저의 선호도를 반영한 행렬에 대해 피어슨 유사도를 적용"
   ]
  },
  {
   "cell_type": "markdown",
   "metadata": {},
   "source": [
    "### 3.1 Sample Data"
   ]
  },
  {
   "cell_type": "code",
   "execution_count": 9,
   "metadata": {
    "ExecuteTime": {
     "end_time": "2022-04-18T07:28:54.677399Z",
     "start_time": "2022-04-18T07:28:54.621873Z"
    }
   },
   "outputs": [
    {
     "data": {
      "text/html": [
       "<div>\n",
       "<style scoped>\n",
       "    .dataframe tbody tr th:only-of-type {\n",
       "        vertical-align: middle;\n",
       "    }\n",
       "\n",
       "    .dataframe tbody tr th {\n",
       "        vertical-align: top;\n",
       "    }\n",
       "\n",
       "    .dataframe thead th {\n",
       "        text-align: right;\n",
       "    }\n",
       "</style>\n",
       "<table border=\"1\" class=\"dataframe\">\n",
       "  <thead>\n",
       "    <tr style=\"text-align: right;\">\n",
       "      <th></th>\n",
       "      <th>itemA</th>\n",
       "      <th>itemB</th>\n",
       "      <th>itemC</th>\n",
       "      <th>itemD</th>\n",
       "    </tr>\n",
       "  </thead>\n",
       "  <tbody>\n",
       "    <tr>\n",
       "      <th>userA</th>\n",
       "      <td>4.0</td>\n",
       "      <td>5.0</td>\n",
       "      <td>4.0</td>\n",
       "      <td>3.0</td>\n",
       "    </tr>\n",
       "    <tr>\n",
       "      <th>userB</th>\n",
       "      <td>3.0</td>\n",
       "      <td>4.0</td>\n",
       "      <td>3.0</td>\n",
       "      <td>2.0</td>\n",
       "    </tr>\n",
       "    <tr>\n",
       "      <th>userC</th>\n",
       "      <td>4.0</td>\n",
       "      <td>4.0</td>\n",
       "      <td>5.0</td>\n",
       "      <td>3.0</td>\n",
       "    </tr>\n",
       "  </tbody>\n",
       "</table>\n",
       "</div>"
      ],
      "text/plain": [
       "       itemA  itemB  itemC  itemD\n",
       "userA    4.0    5.0    4.0    3.0\n",
       "userB    3.0    4.0    3.0    2.0\n",
       "userC    4.0    4.0    5.0    3.0"
      ]
     },
     "execution_count": 9,
     "metadata": {},
     "output_type": "execute_result"
    }
   ],
   "source": [
    "# 새로운 데이터 정의\n",
    "data = [\n",
    "    [4., 5., 4., 3.],\n",
    "    [3., 4., 3., 2.],\n",
    "    [4., 4., 5., 3.],\n",
    "]\n",
    "\n",
    "df = pd.DataFrame(\n",
    "    data=data,\n",
    "    index=[\"userA\", \"userB\", \"userC\"],\n",
    "    columns=[\"itemA\", \"itemB\", \"itemC\", \"itemD\"],\n",
    ")\n",
    "\n",
    "df"
   ]
  },
  {
   "cell_type": "markdown",
   "metadata": {},
   "source": [
    "### 3.2 Pearson similarity calculation\n",
    "- 피어슨 유사도는 `numpy.corrcoef`를 이용해 계산\n",
    "- `numpy.corrcoef`는 데이터의 각 Row별로 유사도를 계산"
   ]
  },
  {
   "cell_type": "code",
   "execution_count": 10,
   "metadata": {
    "ExecuteTime": {
     "end_time": "2022-04-18T07:28:54.709398Z",
     "start_time": "2022-04-18T07:28:54.685414Z"
    }
   },
   "outputs": [
    {
     "data": {
      "text/plain": [
       "array([[1. , 1. , 0.5],\n",
       "       [1. , 1. , 0.5],\n",
       "       [0.5, 0.5, 1. ]])"
      ]
     },
     "execution_count": 10,
     "metadata": {},
     "output_type": "execute_result"
    }
   ],
   "source": [
    "np.corrcoef(df)"
   ]
  },
  {
   "cell_type": "markdown",
   "metadata": {},
   "source": [
    "### 3.3 Calculation of cosine similarity\n",
    "- 피어슨 유사도는 유저 또는 아이템 별로 특성을 제거한 데이터에 코사인 유사도를 적용한 것과 동일\n",
    "- 유저별로 선호도 평균을 계산하고, 기존 데이터에서 유저별 선호도를 제거\n",
    "    1. `df.mean(axis=1)`은 각 행에 대해 평균을 계산\n",
    "    2. `df1.sub(df2, axis=0)`은 인덱스를 기준으로 두 데이터의 차를 계산"
   ]
  },
  {
   "cell_type": "code",
   "execution_count": 11,
   "metadata": {
    "ExecuteTime": {
     "end_time": "2022-04-18T07:28:54.741404Z",
     "start_time": "2022-04-18T07:28:54.713403Z"
    }
   },
   "outputs": [
    {
     "data": {
      "text/plain": [
       "userA    4.0\n",
       "userB    3.0\n",
       "userC    4.0\n",
       "dtype: float64"
      ]
     },
     "execution_count": 11,
     "metadata": {},
     "output_type": "execute_result"
    }
   ],
   "source": [
    " df.mean(axis=1)"
   ]
  },
  {
   "cell_type": "code",
   "execution_count": 12,
   "metadata": {
    "ExecuteTime": {
     "end_time": "2022-04-18T07:28:54.788401Z",
     "start_time": "2022-04-18T07:28:54.746404Z"
    }
   },
   "outputs": [
    {
     "data": {
      "text/html": [
       "<div>\n",
       "<style scoped>\n",
       "    .dataframe tbody tr th:only-of-type {\n",
       "        vertical-align: middle;\n",
       "    }\n",
       "\n",
       "    .dataframe tbody tr th {\n",
       "        vertical-align: top;\n",
       "    }\n",
       "\n",
       "    .dataframe thead th {\n",
       "        text-align: right;\n",
       "    }\n",
       "</style>\n",
       "<table border=\"1\" class=\"dataframe\">\n",
       "  <thead>\n",
       "    <tr style=\"text-align: right;\">\n",
       "      <th></th>\n",
       "      <th>itemA</th>\n",
       "      <th>itemB</th>\n",
       "      <th>itemC</th>\n",
       "      <th>itemD</th>\n",
       "    </tr>\n",
       "  </thead>\n",
       "  <tbody>\n",
       "    <tr>\n",
       "      <th>userA</th>\n",
       "      <td>0.0</td>\n",
       "      <td>1.0</td>\n",
       "      <td>0.0</td>\n",
       "      <td>-1.0</td>\n",
       "    </tr>\n",
       "    <tr>\n",
       "      <th>userB</th>\n",
       "      <td>0.0</td>\n",
       "      <td>1.0</td>\n",
       "      <td>0.0</td>\n",
       "      <td>-1.0</td>\n",
       "    </tr>\n",
       "    <tr>\n",
       "      <th>userC</th>\n",
       "      <td>0.0</td>\n",
       "      <td>0.0</td>\n",
       "      <td>1.0</td>\n",
       "      <td>-1.0</td>\n",
       "    </tr>\n",
       "  </tbody>\n",
       "</table>\n",
       "</div>"
      ],
      "text/plain": [
       "       itemA  itemB  itemC  itemD\n",
       "userA    0.0    1.0    0.0   -1.0\n",
       "userB    0.0    1.0    0.0   -1.0\n",
       "userC    0.0    0.0    1.0   -1.0"
      ]
     },
     "execution_count": 12,
     "metadata": {},
     "output_type": "execute_result"
    }
   ],
   "source": [
    "user_mean = df.mean(axis=1)\n",
    "df_sub = df.sub(user_mean, axis=0)\n",
    "\n",
    "df_sub"
   ]
  },
  {
   "cell_type": "code",
   "execution_count": 13,
   "metadata": {
    "ExecuteTime": {
     "end_time": "2022-04-18T07:28:54.809403Z",
     "start_time": "2022-04-18T07:28:54.792404Z"
    }
   },
   "outputs": [
    {
     "data": {
      "text/plain": [
       "array([[1. , 1. , 0.5],\n",
       "       [1. , 1. , 0.5],\n",
       "       [0.5, 0.5, 1. ]])"
      ]
     },
     "execution_count": 13,
     "metadata": {},
     "output_type": "execute_result"
    }
   ],
   "source": [
    "cosine_similarity(df_sub)"
   ]
  },
  {
   "cell_type": "markdown",
   "metadata": {},
   "source": [
    "## 4. Jacquard similarity\n",
    "\n",
    "### 4.1 Sample Data\n",
    "- 유저마다 다른 아이템에 대해 선호도를 평가한 데이터를 정의"
   ]
  },
  {
   "cell_type": "code",
   "execution_count": 14,
   "metadata": {
    "ExecuteTime": {
     "end_time": "2022-04-18T07:28:54.867403Z",
     "start_time": "2022-04-18T07:28:54.822403Z"
    }
   },
   "outputs": [
    {
     "data": {
      "text/html": [
       "<div>\n",
       "<style scoped>\n",
       "    .dataframe tbody tr th:only-of-type {\n",
       "        vertical-align: middle;\n",
       "    }\n",
       "\n",
       "    .dataframe tbody tr th {\n",
       "        vertical-align: top;\n",
       "    }\n",
       "\n",
       "    .dataframe thead th {\n",
       "        text-align: right;\n",
       "    }\n",
       "</style>\n",
       "<table border=\"1\" class=\"dataframe\">\n",
       "  <thead>\n",
       "    <tr style=\"text-align: right;\">\n",
       "      <th></th>\n",
       "      <th>itemA</th>\n",
       "      <th>itemB</th>\n",
       "      <th>itemC</th>\n",
       "      <th>itemD</th>\n",
       "      <th>itemE</th>\n",
       "    </tr>\n",
       "  </thead>\n",
       "  <tbody>\n",
       "    <tr>\n",
       "      <th>userA</th>\n",
       "      <td>4.0</td>\n",
       "      <td>0.0</td>\n",
       "      <td>4.0</td>\n",
       "      <td>3.0</td>\n",
       "      <td>0.0</td>\n",
       "    </tr>\n",
       "    <tr>\n",
       "      <th>userB</th>\n",
       "      <td>3.0</td>\n",
       "      <td>4.0</td>\n",
       "      <td>0.0</td>\n",
       "      <td>2.0</td>\n",
       "      <td>0.0</td>\n",
       "    </tr>\n",
       "    <tr>\n",
       "      <th>userC</th>\n",
       "      <td>0.0</td>\n",
       "      <td>0.0</td>\n",
       "      <td>4.0</td>\n",
       "      <td>5.0</td>\n",
       "      <td>3.0</td>\n",
       "    </tr>\n",
       "  </tbody>\n",
       "</table>\n",
       "</div>"
      ],
      "text/plain": [
       "       itemA  itemB  itemC  itemD  itemE\n",
       "userA    4.0    0.0    4.0    3.0    0.0\n",
       "userB    3.0    4.0    0.0    2.0    0.0\n",
       "userC    0.0    0.0    4.0    5.0    3.0"
      ]
     },
     "execution_count": 14,
     "metadata": {},
     "output_type": "execute_result"
    }
   ],
   "source": [
    "data = [\n",
    "    [4., 0., 4., 3., 0.],\n",
    "    [3., 4., 0., 2., 0.],\n",
    "    [0., 0., 4., 5., 3.],\n",
    "]\n",
    "\n",
    "df = pd.DataFrame(\n",
    "    data=data,\n",
    "    index=[\"userA\", \"userB\", \"userC\"],\n",
    "    columns=[\"itemA\", \"itemB\", \"itemC\", \"itemD\", \"itemE\"],\n",
    ")\n",
    "\n",
    "df"
   ]
  },
  {
   "cell_type": "markdown",
   "metadata": {},
   "source": [
    "### 4.2 Calculating Jacquard Similarity\n",
    "- `sklearn.metrics`의 `jaccard_score`를 이용해 자카드 유사도를 계산\n",
    "- `jaccard_score`는 값의 크기는 무시하고 아이템의 유무를 0과 1로 표현\n",
    "- 0보다 큰 값을 가지는 경우 선호도를 평가한 것을 표현하기 위해 1로 대체"
   ]
  },
  {
   "cell_type": "code",
   "execution_count": 15,
   "metadata": {
    "ExecuteTime": {
     "end_time": "2022-04-18T07:28:54.931402Z",
     "start_time": "2022-04-18T07:28:54.878403Z"
    }
   },
   "outputs": [
    {
     "data": {
      "text/html": [
       "<div>\n",
       "<style scoped>\n",
       "    .dataframe tbody tr th:only-of-type {\n",
       "        vertical-align: middle;\n",
       "    }\n",
       "\n",
       "    .dataframe tbody tr th {\n",
       "        vertical-align: top;\n",
       "    }\n",
       "\n",
       "    .dataframe thead th {\n",
       "        text-align: right;\n",
       "    }\n",
       "</style>\n",
       "<table border=\"1\" class=\"dataframe\">\n",
       "  <thead>\n",
       "    <tr style=\"text-align: right;\">\n",
       "      <th></th>\n",
       "      <th>itemA</th>\n",
       "      <th>itemB</th>\n",
       "      <th>itemC</th>\n",
       "      <th>itemD</th>\n",
       "      <th>itemE</th>\n",
       "    </tr>\n",
       "  </thead>\n",
       "  <tbody>\n",
       "    <tr>\n",
       "      <th>userA</th>\n",
       "      <td>1.0</td>\n",
       "      <td>0.0</td>\n",
       "      <td>1.0</td>\n",
       "      <td>1.0</td>\n",
       "      <td>0.0</td>\n",
       "    </tr>\n",
       "    <tr>\n",
       "      <th>userB</th>\n",
       "      <td>1.0</td>\n",
       "      <td>1.0</td>\n",
       "      <td>0.0</td>\n",
       "      <td>1.0</td>\n",
       "      <td>0.0</td>\n",
       "    </tr>\n",
       "    <tr>\n",
       "      <th>userC</th>\n",
       "      <td>0.0</td>\n",
       "      <td>0.0</td>\n",
       "      <td>1.0</td>\n",
       "      <td>1.0</td>\n",
       "      <td>1.0</td>\n",
       "    </tr>\n",
       "  </tbody>\n",
       "</table>\n",
       "</div>"
      ],
      "text/plain": [
       "       itemA  itemB  itemC  itemD  itemE\n",
       "userA    1.0    0.0    1.0    1.0    0.0\n",
       "userB    1.0    1.0    0.0    1.0    0.0\n",
       "userC    0.0    0.0    1.0    1.0    1.0"
      ]
     },
     "execution_count": 15,
     "metadata": {},
     "output_type": "execute_result"
    }
   ],
   "source": [
    "from sklearn.metrics import jaccard_score\n",
    "\n",
    "df[df > 0] = 1\n",
    "df"
   ]
  },
  {
   "cell_type": "markdown",
   "metadata": {},
   "source": [
    "`jaccard_score`는 비교하는 두 유저의 값을 각각 입력"
   ]
  },
  {
   "cell_type": "code",
   "execution_count": 16,
   "metadata": {
    "ExecuteTime": {
     "end_time": "2022-04-18T07:28:54.963401Z",
     "start_time": "2022-04-18T07:28:54.943406Z"
    }
   },
   "outputs": [
    {
     "data": {
      "text/plain": [
       "0.2"
      ]
     },
     "execution_count": 16,
     "metadata": {},
     "output_type": "execute_result"
    }
   ],
   "source": [
    "jaccard_score(\n",
    "    df.loc[\"userB\"],\n",
    "    df.loc[\"userC\"],\n",
    ")"
   ]
  },
  {
   "cell_type": "markdown",
   "metadata": {},
   "source": [
    "# 5. Summary\n",
    "\n",
    "> 추천 시스템\n",
    "- 사용자의 취향을 알아내 새로운 아이템 추천하는 것\n",
    "\n",
    ">> 추천 시스템 알고리즘\n",
    "- Contents Based Filtering : 유저가 기존에 선호한 아이템과 유사 아이템을 추천\n",
    "    - TF-IDF(Term Frequency ‒ Inverse Document Frequency)\n",
    "        - 텍스트 기반 컨텐츠의 특징 벡터 추출 방법\n",
    "        - 출현 빈도를 이용해 특성 문서 내에서 키워드의 중요도 측정\n",
    "        - 자주 등장하는 키워드는 낮은 중요도 부여\n",
    "- Collaborative Filtering(협업 필터링) : 여러 유저의 과거 아이템 상호작용 정보를 이용해 추천\n",
    "    - 메모리 기반(Memory Based) 협업 필터링 : 여러 유저의 과거 아이템 상호작용 정보를 메모리에 저장하고, 추천 필요할 때마다 전체 데이터 이용해서 추천\n",
    "        - 사용자 기반(User Based) : 아이템 선호도가 비슷한 유저를 탐색하고 비슷한 유저가 좋아한 것 중 새로운 아이템 추천\n",
    "        - 아이템 기반(Item Based) : 유저들의 선호도가 비슷한 아이템 탐색하고, 유저가 기존에 선호한 아이템과 유사한 아이템 추천\n",
    "    - 모델 기반(Model Based) : 여러 유저의 과거 아이템 상호작용 정보를 이용해 추천 위한 모델 흑삽하고, 학습된 모델을 이용해 추천\n",
    "        - 잠재요인 기반(Latent Factor Model) : 관찰된 값을 설명하는 잠재된 특정(요인)들을 밝히고, 이를 이용해 추천\n",
    "            - 행렬분해(Matrix Factorization)\n",
    "                - 유저 - 아이템 행렬을 유저와 아이템 행렬로 분해하는 방법\n",
    "                - 유저가 평가하지 않은 아이템에 대한 선호도를 예측 가능\n",
    "    - KNN 협업 필터링 : 가장 유사한 K개의 이웃을 통해 아이템을 추천하는 방법, 유저별 아이템 선호도 예측\n",
    "        - KNN Basic\n",
    "            - KNN Basic 유저 기반 : 아이템 i에 대한 유전 u의 선호도를 예측\n",
    "                - 1. 유저 간의 유사도 계산\n",
    "                - 2. 아이템 i를 평가한 유저들 중에서 유저 u와 비슷한 유저 k명을 찾는다\n",
    "                - 3. k명의 유사한 유저들이 아이템 i에 평가한 선호도를 유사도 기준으로 가중 평균한다\n",
    "                - 4. 예측 선호도가 높은 아이템을 유저에게 추천\n",
    "            - KNN Basic 아이템 기반 : 아이템 i에 대한 유전 u의 선호도를 예측\n",
    "                - 1. 아이템 간의 유사도 계산\n",
    "                - 2. 아이템 i와 비슷한 아이템을 k개 찾는다\n",
    "                - 3. 유저가 평가한 k개의 아이템의 선호드를 유사도 기준으로 가중 평균한다\n",
    "                - 4. 예측 선호도가 높은 아이템을 유저에게 추천\n",
    "        - KNN with Means : 선호도의 평균에 선호도 편차를 유사도 기준으로 가중 평균 더하는 방법, 유저/아이템의 평균 선호도 반영\n",
    "            - KNN with Means 유저 기반\n",
    "                - 1. 유저 간의 유사도 계산\n",
    "                - 2. 아이템 i를 평가한 유저들 중에서 유저 u와 비슷한 유저 k명을 찾는다\n",
    "                - 3. 아이템 i의 평균 선호도 계산\n",
    "                - 4. k명의 유사한 유저들이 아이템 i에 평가한 선호도의 편차를 유사도 기준으로 가중 평균한다\n",
    "                - 5. 예측 선호도가 높은 아이템을 유저에게 추천\n",
    "            - KNN with Means 아이템 기반\n",
    "                - 1. 아이템간의 유사도를 계산\n",
    "                - 2. 아이템 i와 비슷한 아이템을 k개 찾는다\n",
    "                - 3. 아이템 i의 평균 선호도 계산\n",
    "                - 4. 유저가 평가한 k개의 아이템의 선호도의 편차를 유사도 기준 가중 평균한다\n",
    "                - 5. 예측 선호도가 높은 아이템을 유저에게 추천\n",
    "            \n",
    "> 유사도 함수\n",
    "- 유사도 : 비슷한 정도를 나타내는 지표\n",
    "- 거리 기반 유사도 : 좌표 기준 가까운 위치에 있는 점들의 유사도가 높아지도록 측정\n",
    "    - ex) 유클리디안 유사도\n",
    "- 각도 기반 유사도 : 좌표 기준으로 방향이 비슷한 점들의 유사도가 높아지도록 측정\n",
    "    - ex) 코사인 유사도, 피어슨 유사도, 자카드 유사도\n",
    "    \n",
    ">> 유사도 함수 종류\n",
    "- 유클리디안 유사도\n",
    "    - 유클리디안 거리의 역수로 정의\n",
    "- 코사인 유사도\n",
    "    - 두 벡터 간의 코사인 각도를 이용해 계산\n",
    "    - 1~1 사이 값으로 계산되며, 방향 같은 경우 1, 반대 경우 -1 값을 갖음\n",
    "- 피어슨 유사도\n",
    "    - 두 벡터의 상관 계수로 정의\n",
    "    - 유저 또는 아이템별로 가지는 특성 제거해 점수가 편향된 경우 효과적\n",
    "- 자카드 유사도\n",
    "    - 유저가 상호작용한 아이템의 합집합과 교집합의 비율로 계산\n",
    "    - 유저가 아이템에 평가한 점수의 크기가 무시됨"
   ]
  },
  {
   "cell_type": "code",
   "execution_count": null,
   "metadata": {},
   "outputs": [],
   "source": []
  }
 ],
 "metadata": {
  "hide_input": false,
  "kernelspec": {
   "display_name": "ojt",
   "language": "python",
   "name": "ojt"
  },
  "language_info": {
   "codemirror_mode": {
    "name": "ipython",
    "version": 3
   },
   "file_extension": ".py",
   "mimetype": "text/x-python",
   "name": "python",
   "nbconvert_exporter": "python",
   "pygments_lexer": "ipython3",
   "version": "3.6.5"
  },
  "toc": {
   "base_numbering": 1,
   "nav_menu": {},
   "number_sections": false,
   "sideBar": true,
   "skip_h1_title": false,
   "title_cell": "Table of Contents",
   "title_sidebar": "Contents",
   "toc_cell": false,
   "toc_position": {},
   "toc_section_display": true,
   "toc_window_display": false
  },
  "varInspector": {
   "cols": {
    "lenName": 16,
    "lenType": 16,
    "lenVar": 40
   },
   "kernels_config": {
    "python": {
     "delete_cmd_postfix": "",
     "delete_cmd_prefix": "del ",
     "library": "var_list.py",
     "varRefreshCmd": "print(var_dic_list())"
    },
    "r": {
     "delete_cmd_postfix": ") ",
     "delete_cmd_prefix": "rm(",
     "library": "var_list.r",
     "varRefreshCmd": "cat(var_dic_list()) "
    }
   },
   "types_to_exclude": [
    "module",
    "function",
    "builtin_function_or_method",
    "instance",
    "_Feature"
   ],
   "window_display": false
  }
 },
 "nbformat": 4,
 "nbformat_minor": 2
}
