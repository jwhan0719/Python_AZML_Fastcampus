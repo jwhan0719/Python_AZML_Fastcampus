{
 "cells": [
  {
   "cell_type": "markdown",
   "metadata": {},
   "source": [
    "# 1. Movie Metadata and TF-IDF Exercise\n",
    "- 영화 줄거리 데이터에 TF-IDF를 적용해 영화별 유사도"
   ]
  },
  {
   "cell_type": "code",
   "execution_count": 1,
   "metadata": {
    "ExecuteTime": {
     "end_time": "2022-04-19T02:03:47.966814Z",
     "start_time": "2022-04-19T02:03:46.300657Z"
    }
   },
   "outputs": [],
   "source": [
    "import pandas as pd\n",
    "import numpy as np\n",
    "import matplotlib.pyplot as plt\n",
    "\n",
    "np.random.seed(2021)"
   ]
  },
  {
   "cell_type": "markdown",
   "metadata": {},
   "source": [
    "### 1.1 Data\n",
    "- 데이터에서 영화 제목을 나타내는 `title`과 줄거리 `overview` 컬럼을 이용"
   ]
  },
  {
   "cell_type": "code",
   "execution_count": 2,
   "metadata": {
    "ExecuteTime": {
     "end_time": "2022-04-19T02:05:31.677698Z",
     "start_time": "2022-04-19T02:05:30.860342Z"
    }
   },
   "outputs": [
    {
     "name": "stderr",
     "output_type": "stream",
     "text": [
      "C:\\Users\\inp01\\Anaconda3\\envs\\ojt\\lib\\site-packages\\IPython\\core\\interactiveshell.py:3072: DtypeWarning: Columns (10) have mixed types.Specify dtype option on import or set low_memory=False.\n",
      "  interactivity=interactivity, compiler=compiler, result=result)\n"
     ]
    }
   ],
   "source": [
    "df = pd.read_csv('../02. Data/movies_metadata.csv')\n",
    "df = df[[\"title\", \"overview\"]]"
   ]
  },
  {
   "cell_type": "code",
   "execution_count": 3,
   "metadata": {
    "ExecuteTime": {
     "end_time": "2022-04-19T02:05:40.393408Z",
     "start_time": "2022-04-19T02:05:40.370369Z"
    }
   },
   "outputs": [
    {
     "data": {
      "text/plain": [
       "(1000, 2)"
      ]
     },
     "execution_count": 3,
     "metadata": {},
     "output_type": "execute_result"
    }
   ],
   "source": [
    "df = df.iloc[:1000]\n",
    "df.shape"
   ]
  },
  {
   "cell_type": "code",
   "execution_count": 4,
   "metadata": {
    "ExecuteTime": {
     "end_time": "2022-04-19T02:05:42.958069Z",
     "start_time": "2022-04-19T02:05:42.919070Z"
    }
   },
   "outputs": [
    {
     "data": {
      "text/html": [
       "<div>\n",
       "<style scoped>\n",
       "    .dataframe tbody tr th:only-of-type {\n",
       "        vertical-align: middle;\n",
       "    }\n",
       "\n",
       "    .dataframe tbody tr th {\n",
       "        vertical-align: top;\n",
       "    }\n",
       "\n",
       "    .dataframe thead th {\n",
       "        text-align: right;\n",
       "    }\n",
       "</style>\n",
       "<table border=\"1\" class=\"dataframe\">\n",
       "  <thead>\n",
       "    <tr style=\"text-align: right;\">\n",
       "      <th></th>\n",
       "      <th>title</th>\n",
       "      <th>overview</th>\n",
       "    </tr>\n",
       "  </thead>\n",
       "  <tbody>\n",
       "    <tr>\n",
       "      <th>0</th>\n",
       "      <td>Toy Story</td>\n",
       "      <td>Led by Woody, Andy's toys live happily in his ...</td>\n",
       "    </tr>\n",
       "    <tr>\n",
       "      <th>1</th>\n",
       "      <td>Jumanji</td>\n",
       "      <td>When siblings Judy and Peter discover an encha...</td>\n",
       "    </tr>\n",
       "    <tr>\n",
       "      <th>2</th>\n",
       "      <td>Grumpier Old Men</td>\n",
       "      <td>A family wedding reignites the ancient feud be...</td>\n",
       "    </tr>\n",
       "    <tr>\n",
       "      <th>3</th>\n",
       "      <td>Waiting to Exhale</td>\n",
       "      <td>Cheated on, mistreated and stepped on, the wom...</td>\n",
       "    </tr>\n",
       "    <tr>\n",
       "      <th>4</th>\n",
       "      <td>Father of the Bride Part II</td>\n",
       "      <td>Just when George Banks has recovered from his ...</td>\n",
       "    </tr>\n",
       "    <tr>\n",
       "      <th>...</th>\n",
       "      <td>...</td>\n",
       "      <td>...</td>\n",
       "    </tr>\n",
       "    <tr>\n",
       "      <th>995</th>\n",
       "      <td>The Three Caballeros</td>\n",
       "      <td>For Donald's birthday he receives a box with t...</td>\n",
       "    </tr>\n",
       "    <tr>\n",
       "      <th>996</th>\n",
       "      <td>The Sword in the Stone</td>\n",
       "      <td>Wart is a young boy who aspires to be a knight...</td>\n",
       "    </tr>\n",
       "    <tr>\n",
       "      <th>997</th>\n",
       "      <td>So Dear to My Heart</td>\n",
       "      <td>The tale of Jeremiah Kincaid and his quest to ...</td>\n",
       "    </tr>\n",
       "    <tr>\n",
       "      <th>998</th>\n",
       "      <td>Robin Hood: Prince of Thieves</td>\n",
       "      <td>When the dastardly Sheriff of Nottingham murde...</td>\n",
       "    </tr>\n",
       "    <tr>\n",
       "      <th>999</th>\n",
       "      <td>Mary Poppins</td>\n",
       "      <td>The movie combines a diverting story, songs, c...</td>\n",
       "    </tr>\n",
       "  </tbody>\n",
       "</table>\n",
       "<p>1000 rows × 2 columns</p>\n",
       "</div>"
      ],
      "text/plain": [
       "                             title  \\\n",
       "0                        Toy Story   \n",
       "1                          Jumanji   \n",
       "2                 Grumpier Old Men   \n",
       "3                Waiting to Exhale   \n",
       "4      Father of the Bride Part II   \n",
       "..                             ...   \n",
       "995           The Three Caballeros   \n",
       "996         The Sword in the Stone   \n",
       "997            So Dear to My Heart   \n",
       "998  Robin Hood: Prince of Thieves   \n",
       "999                   Mary Poppins   \n",
       "\n",
       "                                              overview  \n",
       "0    Led by Woody, Andy's toys live happily in his ...  \n",
       "1    When siblings Judy and Peter discover an encha...  \n",
       "2    A family wedding reignites the ancient feud be...  \n",
       "3    Cheated on, mistreated and stepped on, the wom...  \n",
       "4    Just when George Banks has recovered from his ...  \n",
       "..                                                 ...  \n",
       "995  For Donald's birthday he receives a box with t...  \n",
       "996  Wart is a young boy who aspires to be a knight...  \n",
       "997  The tale of Jeremiah Kincaid and his quest to ...  \n",
       "998  When the dastardly Sheriff of Nottingham murde...  \n",
       "999  The movie combines a diverting story, songs, c...  \n",
       "\n",
       "[1000 rows x 2 columns]"
      ]
     },
     "execution_count": 4,
     "metadata": {},
     "output_type": "execute_result"
    }
   ],
   "source": [
    "df"
   ]
  },
  {
   "cell_type": "markdown",
   "metadata": {},
   "source": [
    "### 1.2 Cleaning\n",
    "- 'overview'가 결측값인 경우 빈 str으로 대체"
   ]
  },
  {
   "cell_type": "code",
   "execution_count": 5,
   "metadata": {
    "ExecuteTime": {
     "end_time": "2022-04-19T02:06:22.082719Z",
     "start_time": "2022-04-19T02:06:22.058722Z"
    }
   },
   "outputs": [
    {
     "data": {
      "text/plain": [
       "12"
      ]
     },
     "execution_count": 5,
     "metadata": {},
     "output_type": "execute_result"
    }
   ],
   "source": [
    "df[\"overview\"].isna().sum()"
   ]
  },
  {
   "cell_type": "code",
   "execution_count": 6,
   "metadata": {
    "ExecuteTime": {
     "end_time": "2022-04-19T02:06:23.134556Z",
     "start_time": "2022-04-19T02:06:23.122526Z"
    }
   },
   "outputs": [],
   "source": [
    "df[\"overview\"] = df[\"overview\"].fillna('')"
   ]
  },
  {
   "cell_type": "markdown",
   "metadata": {},
   "source": [
    "# 2. TF-IDF Calculation\n",
    "- `sklearn.feature_extraction.text`의 `TfidfVectorizer`을 이용해 TF-IDF 결과 값을 계산"
   ]
  },
  {
   "cell_type": "code",
   "execution_count": 7,
   "metadata": {
    "ExecuteTime": {
     "end_time": "2022-04-19T02:07:06.122773Z",
     "start_time": "2022-04-19T02:07:04.054447Z"
    }
   },
   "outputs": [],
   "source": [
    "from sklearn.feature_extraction.text import TfidfVectorizer"
   ]
  },
  {
   "cell_type": "markdown",
   "metadata": {},
   "source": [
    "### 2.1 Sample Data"
   ]
  },
  {
   "cell_type": "code",
   "execution_count": 8,
   "metadata": {
    "ExecuteTime": {
     "end_time": "2022-04-19T02:07:28.147044Z",
     "start_time": "2022-04-19T02:07:28.136044Z"
    }
   },
   "outputs": [
    {
     "data": {
      "text/plain": [
       "array([\"Led by Woody, Andy's toys live happily in his room until Andy's birthday brings Buzz Lightyear onto the scene. Afraid of losing his place in Andy's heart, Woody plots against Buzz. But when circumstances separate Buzz and Woody from their owner, the duo eventually learns to put aside their differences.\",\n",
       "       \"When siblings Judy and Peter discover an enchanted board game that opens the door to a magical world, they unwittingly invite Alan -- an adult who's been trapped inside the game for 26 years -- into their living room. Alan's only hope for freedom is to finish the game, which proves risky as all three find themselves running from giant rhinoceroses, evil monkeys and other terrifying creatures.\"],\n",
       "      dtype=object)"
      ]
     },
     "execution_count": 8,
     "metadata": {},
     "output_type": "execute_result"
    }
   ],
   "source": [
    "df[\"overview\"].values[:2]"
   ]
  },
  {
   "cell_type": "code",
   "execution_count": 9,
   "metadata": {
    "ExecuteTime": {
     "end_time": "2022-04-19T02:07:36.340550Z",
     "start_time": "2022-04-19T02:07:36.310551Z"
    }
   },
   "outputs": [
    {
     "data": {
      "text/plain": [
       "array([[0.        , 0.        , 0.14358239, 0.        , 0.43074717,\n",
       "        0.14358239, 0.14358239, 0.        , 0.14358239, 0.43074717,\n",
       "        0.14358239, 0.        , 0.14358239, 0.        , 0.        ,\n",
       "        0.14358239, 0.        , 0.14358239, 0.        , 0.        ,\n",
       "        0.        , 0.        , 0.        , 0.14358239, 0.14358239,\n",
       "        0.        , 0.        , 0.        , 0.        , 0.14358239,\n",
       "        0.14358239, 0.14358239, 0.14358239, 0.        , 0.14358239,\n",
       "        0.        , 0.        , 0.        , 0.14358239, 0.        ,\n",
       "        0.14358239, 0.14358239, 0.        , 0.        , 0.        ,\n",
       "        0.10216005, 0.        , 0.14358239, 0.14358239, 0.        ,\n",
       "        0.        , 0.14358239, 0.        , 0.        , 0.43074717,\n",
       "        0.        , 0.        ],\n",
       "       [0.15160873, 0.15160873, 0.        , 0.30321746, 0.        ,\n",
       "        0.        , 0.        , 0.15160873, 0.        , 0.        ,\n",
       "        0.        , 0.15160873, 0.        , 0.15160873, 0.15160873,\n",
       "        0.        , 0.15160873, 0.        , 0.15160873, 0.15160873,\n",
       "        0.15160873, 0.45482618, 0.15160873, 0.        , 0.        ,\n",
       "        0.15160873, 0.15160873, 0.15160873, 0.15160873, 0.        ,\n",
       "        0.        , 0.        , 0.        , 0.15160873, 0.        ,\n",
       "        0.15160873, 0.15160873, 0.15160873, 0.        , 0.15160873,\n",
       "        0.        , 0.        , 0.15160873, 0.15160873, 0.15160873,\n",
       "        0.10787086, 0.15160873, 0.        , 0.        , 0.15160873,\n",
       "        0.15160873, 0.        , 0.15160873, 0.15160873, 0.        ,\n",
       "        0.15160873, 0.15160873]])"
      ]
     },
     "execution_count": 9,
     "metadata": {},
     "output_type": "execute_result"
    }
   ],
   "source": [
    "transformer = TfidfVectorizer(stop_words='english')\n",
    "tfidf_matrix = transformer.fit_transform(df['overview'].values[:2])\n",
    "\n",
    "tfidf_matrix.toarray()"
   ]
  },
  {
   "cell_type": "code",
   "execution_count": 10,
   "metadata": {
    "ExecuteTime": {
     "end_time": "2022-04-19T02:07:39.994164Z",
     "start_time": "2022-04-19T02:07:39.977136Z"
    }
   },
   "outputs": [
    {
     "data": {
      "text/plain": [
       "['26',\n",
       " 'adult',\n",
       " 'afraid',\n",
       " 'alan',\n",
       " 'andy',\n",
       " 'aside',\n",
       " 'birthday',\n",
       " 'board',\n",
       " 'brings',\n",
       " 'buzz']"
      ]
     },
     "execution_count": 10,
     "metadata": {},
     "output_type": "execute_result"
    }
   ],
   "source": [
    "transformer.get_feature_names()[:10]"
   ]
  },
  {
   "cell_type": "code",
   "execution_count": 11,
   "metadata": {
    "ExecuteTime": {
     "end_time": "2022-04-19T02:07:45.064370Z",
     "start_time": "2022-04-19T02:07:45.044371Z"
    },
    "scrolled": true
   },
   "outputs": [
    {
     "data": {
      "text/html": [
       "<div>\n",
       "<style scoped>\n",
       "    .dataframe tbody tr th:only-of-type {\n",
       "        vertical-align: middle;\n",
       "    }\n",
       "\n",
       "    .dataframe tbody tr th {\n",
       "        vertical-align: top;\n",
       "    }\n",
       "\n",
       "    .dataframe thead th {\n",
       "        text-align: right;\n",
       "    }\n",
       "</style>\n",
       "<table border=\"1\" class=\"dataframe\">\n",
       "  <thead>\n",
       "    <tr style=\"text-align: right;\">\n",
       "      <th></th>\n",
       "      <th>0</th>\n",
       "      <th>1</th>\n",
       "    </tr>\n",
       "  </thead>\n",
       "  <tbody>\n",
       "    <tr>\n",
       "      <th>26</th>\n",
       "      <td>0.000000</td>\n",
       "      <td>0.151609</td>\n",
       "    </tr>\n",
       "    <tr>\n",
       "      <th>adult</th>\n",
       "      <td>0.000000</td>\n",
       "      <td>0.151609</td>\n",
       "    </tr>\n",
       "    <tr>\n",
       "      <th>afraid</th>\n",
       "      <td>0.143582</td>\n",
       "      <td>0.000000</td>\n",
       "    </tr>\n",
       "    <tr>\n",
       "      <th>alan</th>\n",
       "      <td>0.000000</td>\n",
       "      <td>0.303217</td>\n",
       "    </tr>\n",
       "    <tr>\n",
       "      <th>andy</th>\n",
       "      <td>0.430747</td>\n",
       "      <td>0.000000</td>\n",
       "    </tr>\n",
       "    <tr>\n",
       "      <th>aside</th>\n",
       "      <td>0.143582</td>\n",
       "      <td>0.000000</td>\n",
       "    </tr>\n",
       "    <tr>\n",
       "      <th>birthday</th>\n",
       "      <td>0.143582</td>\n",
       "      <td>0.000000</td>\n",
       "    </tr>\n",
       "    <tr>\n",
       "      <th>board</th>\n",
       "      <td>0.000000</td>\n",
       "      <td>0.151609</td>\n",
       "    </tr>\n",
       "    <tr>\n",
       "      <th>brings</th>\n",
       "      <td>0.143582</td>\n",
       "      <td>0.000000</td>\n",
       "    </tr>\n",
       "    <tr>\n",
       "      <th>buzz</th>\n",
       "      <td>0.430747</td>\n",
       "      <td>0.000000</td>\n",
       "    </tr>\n",
       "  </tbody>\n",
       "</table>\n",
       "</div>"
      ],
      "text/plain": [
       "                 0         1\n",
       "26        0.000000  0.151609\n",
       "adult     0.000000  0.151609\n",
       "afraid    0.143582  0.000000\n",
       "alan      0.000000  0.303217\n",
       "andy      0.430747  0.000000\n",
       "aside     0.143582  0.000000\n",
       "birthday  0.143582  0.000000\n",
       "board     0.000000  0.151609\n",
       "brings    0.143582  0.000000\n",
       "buzz      0.430747  0.000000"
      ]
     },
     "execution_count": 11,
     "metadata": {},
     "output_type": "execute_result"
    }
   ],
   "source": [
    "pd.DataFrame(tfidf_matrix.toarray(), columns=transformer.get_feature_names()).T.head(10)"
   ]
  },
  {
   "cell_type": "markdown",
   "metadata": {},
   "source": [
    "### 2.2 Learning"
   ]
  },
  {
   "cell_type": "code",
   "execution_count": 12,
   "metadata": {
    "ExecuteTime": {
     "end_time": "2022-04-19T02:07:54.977172Z",
     "start_time": "2022-04-19T02:07:54.964178Z"
    }
   },
   "outputs": [],
   "source": [
    "transformer = TfidfVectorizer(stop_words='english')"
   ]
  },
  {
   "cell_type": "markdown",
   "metadata": {},
   "source": [
    "### 2.3 Transformation"
   ]
  },
  {
   "cell_type": "code",
   "execution_count": 13,
   "metadata": {
    "ExecuteTime": {
     "end_time": "2022-04-19T02:08:37.521519Z",
     "start_time": "2022-04-19T02:08:37.364206Z"
    }
   },
   "outputs": [
    {
     "data": {
      "text/plain": [
       "array([[0., 0., 0., ..., 0., 0., 0.],\n",
       "       [0., 0., 0., ..., 0., 0., 0.],\n",
       "       [0., 0., 0., ..., 0., 0., 0.],\n",
       "       ...,\n",
       "       [0., 0., 0., ..., 0., 0., 0.],\n",
       "       [0., 0., 0., ..., 0., 0., 0.],\n",
       "       [0., 0., 0., ..., 0., 0., 0.]])"
      ]
     },
     "execution_count": 13,
     "metadata": {},
     "output_type": "execute_result"
    }
   ],
   "source": [
    "tfidf_matrix = transformer.fit_transform(df['overview'])\n",
    "tfidf_matrix.toarray()"
   ]
  },
  {
   "cell_type": "code",
   "execution_count": 14,
   "metadata": {
    "ExecuteTime": {
     "end_time": "2022-04-19T02:08:43.631415Z",
     "start_time": "2022-04-19T02:08:43.611414Z"
    }
   },
   "outputs": [
    {
     "data": {
      "text/plain": [
       "['zombies', 'zones', 'zookeeper', 'zorro', 'zulu']"
      ]
     },
     "execution_count": 14,
     "metadata": {},
     "output_type": "execute_result"
    }
   ],
   "source": [
    "# 키워드 확인\n",
    "transformer.get_feature_names()[-5:]"
   ]
  },
  {
   "cell_type": "markdown",
   "metadata": {},
   "source": [
    "# 3. Calculate similarity by movie\n",
    "- 코사인 유사도를 이용해 영화별 유사도를 계산"
   ]
  },
  {
   "cell_type": "code",
   "execution_count": 15,
   "metadata": {
    "ExecuteTime": {
     "end_time": "2022-04-19T02:09:15.427111Z",
     "start_time": "2022-04-19T02:09:15.310621Z"
    }
   },
   "outputs": [
    {
     "data": {
      "text/plain": [
       "array([[1.        , 0.01570657, 0.        , ..., 0.        , 0.        ,\n",
       "        0.01234882],\n",
       "       [0.01570657, 1.        , 0.05047128, ..., 0.        , 0.01578968,\n",
       "        0.02378018],\n",
       "       [0.        , 0.05047128, 1.        , ..., 0.        , 0.        ,\n",
       "        0.        ],\n",
       "       ...,\n",
       "       [0.        , 0.        , 0.        , ..., 1.        , 0.        ,\n",
       "        0.        ],\n",
       "       [0.        , 0.01578968, 0.        , ..., 0.        , 1.        ,\n",
       "        0.        ],\n",
       "       [0.01234882, 0.02378018, 0.        , ..., 0.        , 0.        ,\n",
       "        1.        ]])"
      ]
     },
     "execution_count": 15,
     "metadata": {},
     "output_type": "execute_result"
    }
   ],
   "source": [
    "from sklearn.metrics.pairwise import cosine_similarity\n",
    "\n",
    "similarity = cosine_similarity(tfidf_matrix)\n",
    "similarity"
   ]
  },
  {
   "cell_type": "markdown",
   "metadata": {},
   "source": [
    "# 4. Recommend similar movies\n",
    "- 데이터 인덱스 998과 유사한 영화를 추천"
   ]
  },
  {
   "cell_type": "code",
   "execution_count": 16,
   "metadata": {
    "ExecuteTime": {
     "end_time": "2022-04-19T02:09:40.424199Z",
     "start_time": "2022-04-19T02:09:40.412199Z"
    }
   },
   "outputs": [
    {
     "name": "stdout",
     "output_type": "stream",
     "text": [
      "Robin Hood: Prince of Thieves\n"
     ]
    }
   ],
   "source": [
    "idx = 998\n",
    "print(df.loc[idx, 'title'])"
   ]
  },
  {
   "cell_type": "markdown",
   "metadata": {},
   "source": [
    "위에서 계산한 `similarity` 에서 998번째 영화와 다른 영화 사이의 유사도를 추출하고, 유사도 높은 인덱스를 반환"
   ]
  },
  {
   "cell_type": "code",
   "execution_count": 17,
   "metadata": {
    "ExecuteTime": {
     "end_time": "2022-04-19T02:10:04.617783Z",
     "start_time": "2022-04-19T02:10:04.614781Z"
    }
   },
   "outputs": [],
   "source": [
    "similarity_one_idx = similarity[idx]"
   ]
  },
  {
   "cell_type": "markdown",
   "metadata": {},
   "source": [
    "1. `argsort`는 값을 오름차순으로 정렬할때 해당하는 인덱스를 반환\n",
    "2. `argsort`에 역순을 취해 가장 유사한 인덱스가 앞으로 오도록 정렬"
   ]
  },
  {
   "cell_type": "code",
   "execution_count": 18,
   "metadata": {
    "ExecuteTime": {
     "end_time": "2022-04-19T02:10:22.763115Z",
     "start_time": "2022-04-19T02:10:22.744120Z"
    }
   },
   "outputs": [
    {
     "data": {
      "text/plain": [
       "array([998, 515, 913, 215, 779, 598,  43, 150, 675,   3, 392, 148, 181,\n",
       "        25,  99, 231, 241, 548, 725, 363, 331, 447, 988, 207, 270, 804,\n",
       "       256, 517, 940, 807, 401, 319, 245, 660, 977, 400,  18, 648,  11,\n",
       "       695, 459, 621, 402, 503, 903, 135, 971, 594, 790, 975, 185, 978,\n",
       "       513, 823, 883, 408, 853, 628, 944, 668, 663,  64, 446, 147, 953,\n",
       "       718, 240, 264, 670, 642, 484, 742, 461, 857, 178, 797, 295, 671,\n",
       "       763, 412, 470, 564, 243,  54, 268, 829, 841, 547, 890,   8, 597,\n",
       "        13, 623, 778, 581, 768, 316, 867, 777, 133], dtype=int64)"
      ]
     },
     "execution_count": 18,
     "metadata": {},
     "output_type": "execute_result"
    }
   ],
   "source": [
    "order_idx = similarity_one_idx.argsort()[::-1]\n",
    "order_idx[:100]"
   ]
  },
  {
   "cell_type": "code",
   "execution_count": 19,
   "metadata": {
    "ExecuteTime": {
     "end_time": "2022-04-19T02:10:46.842347Z",
     "start_time": "2022-04-19T02:10:46.832359Z"
    }
   },
   "outputs": [
    {
     "data": {
      "text/plain": [
       "array([998, 515, 913, 215, 779, 598], dtype=int64)"
      ]
     },
     "execution_count": 19,
     "metadata": {},
     "output_type": "execute_result"
    }
   ],
   "source": [
    "# 자기 자신과의 유사도가 가장 높고 이후 유사한 영화의 인덱스 확인\n",
    "top5 = order_idx[:6]\n",
    "top5"
   ]
  },
  {
   "cell_type": "code",
   "execution_count": 20,
   "metadata": {
    "ExecuteTime": {
     "end_time": "2022-04-19T02:11:06.852131Z",
     "start_time": "2022-04-19T02:11:06.842130Z"
    }
   },
   "outputs": [
    {
     "data": {
      "text/plain": [
       "998      Robin Hood: Prince of Thieves\n",
       "515          Robin Hood: Men in Tights\n",
       "913       The Adventures of Robin Hood\n",
       "215                   Boys on the Side\n",
       "779                          Lone Star\n",
       "598    Candyman: Farewell to the Flesh\n",
       "Name: title, dtype: object"
      ]
     },
     "execution_count": 20,
     "metadata": {},
     "output_type": "execute_result"
    }
   ],
   "source": [
    "# 기존 데이터에서 각 인덱스에 해당하는 영화의 제목\n",
    "df.loc[top5, 'title']"
   ]
  },
  {
   "cell_type": "markdown",
   "metadata": {},
   "source": [
    "\"Robin Hood: Prince of Thieves\"와 유사한 \"Robin Hood\" 영화가 추천되는 것을 확인"
   ]
  },
  {
   "cell_type": "code",
   "execution_count": null,
   "metadata": {},
   "outputs": [],
   "source": []
  }
 ],
 "metadata": {
  "hide_input": false,
  "kernelspec": {
   "display_name": "ojt",
   "language": "python",
   "name": "ojt"
  },
  "language_info": {
   "codemirror_mode": {
    "name": "ipython",
    "version": 3
   },
   "file_extension": ".py",
   "mimetype": "text/x-python",
   "name": "python",
   "nbconvert_exporter": "python",
   "pygments_lexer": "ipython3",
   "version": "3.6.5"
  },
  "toc": {
   "base_numbering": 1,
   "nav_menu": {},
   "number_sections": false,
   "sideBar": true,
   "skip_h1_title": false,
   "title_cell": "Table of Contents",
   "title_sidebar": "Contents",
   "toc_cell": false,
   "toc_position": {},
   "toc_section_display": true,
   "toc_window_display": false
  },
  "varInspector": {
   "cols": {
    "lenName": 16,
    "lenType": 16,
    "lenVar": 40
   },
   "kernels_config": {
    "python": {
     "delete_cmd_postfix": "",
     "delete_cmd_prefix": "del ",
     "library": "var_list.py",
     "varRefreshCmd": "print(var_dic_list())"
    },
    "r": {
     "delete_cmd_postfix": ") ",
     "delete_cmd_prefix": "rm(",
     "library": "var_list.r",
     "varRefreshCmd": "cat(var_dic_list()) "
    }
   },
   "types_to_exclude": [
    "module",
    "function",
    "builtin_function_or_method",
    "instance",
    "_Feature"
   ],
   "window_display": false
  }
 },
 "nbformat": 4,
 "nbformat_minor": 2
}
