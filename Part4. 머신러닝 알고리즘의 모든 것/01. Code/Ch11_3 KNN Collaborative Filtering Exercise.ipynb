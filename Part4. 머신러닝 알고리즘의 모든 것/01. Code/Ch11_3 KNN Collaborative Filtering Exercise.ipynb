{
 "cells": [
  {
   "cell_type": "markdown",
   "metadata": {},
   "source": [
    "# 1. KNN Collaborative Filtering Exercise\n",
    "- 유저-영화 평점 데이터를 이용해 유저가 아직 평가하지 않은 영화를 추천"
   ]
  },
  {
   "cell_type": "code",
   "execution_count": 1,
   "metadata": {
    "ExecuteTime": {
     "end_time": "2022-04-19T02:48:30.428124Z",
     "start_time": "2022-04-19T02:48:29.051739Z"
    }
   },
   "outputs": [],
   "source": [
    "import pandas as pd\n",
    "import numpy as np\n",
    "\n",
    "np.random.seed(2021)"
   ]
  },
  {
   "cell_type": "markdown",
   "metadata": {},
   "source": [
    "### 1.1 Data\n",
    "- 데이터에서 유저 고유 아이디를 나타내는 `userId`\n",
    "- 영화 고유 아이디를 나타내는 `movieId`\n",
    "- 유저가 영화를 평가한 점수 `rating` 컬럼을 이용"
   ]
  },
  {
   "cell_type": "code",
   "execution_count": 2,
   "metadata": {
    "ExecuteTime": {
     "end_time": "2022-04-19T02:48:30.523100Z",
     "start_time": "2022-04-19T02:48:30.432114Z"
    }
   },
   "outputs": [
    {
     "data": {
      "text/html": [
       "<div>\n",
       "<style scoped>\n",
       "    .dataframe tbody tr th:only-of-type {\n",
       "        vertical-align: middle;\n",
       "    }\n",
       "\n",
       "    .dataframe tbody tr th {\n",
       "        vertical-align: top;\n",
       "    }\n",
       "\n",
       "    .dataframe thead th {\n",
       "        text-align: right;\n",
       "    }\n",
       "</style>\n",
       "<table border=\"1\" class=\"dataframe\">\n",
       "  <thead>\n",
       "    <tr style=\"text-align: right;\">\n",
       "      <th></th>\n",
       "      <th>userId</th>\n",
       "      <th>movieId</th>\n",
       "      <th>rating</th>\n",
       "    </tr>\n",
       "  </thead>\n",
       "  <tbody>\n",
       "    <tr>\n",
       "      <th>0</th>\n",
       "      <td>1</td>\n",
       "      <td>31</td>\n",
       "      <td>2.5</td>\n",
       "    </tr>\n",
       "    <tr>\n",
       "      <th>1</th>\n",
       "      <td>1</td>\n",
       "      <td>1029</td>\n",
       "      <td>3.0</td>\n",
       "    </tr>\n",
       "    <tr>\n",
       "      <th>2</th>\n",
       "      <td>1</td>\n",
       "      <td>1061</td>\n",
       "      <td>3.0</td>\n",
       "    </tr>\n",
       "    <tr>\n",
       "      <th>3</th>\n",
       "      <td>1</td>\n",
       "      <td>1129</td>\n",
       "      <td>2.0</td>\n",
       "    </tr>\n",
       "    <tr>\n",
       "      <th>4</th>\n",
       "      <td>1</td>\n",
       "      <td>1172</td>\n",
       "      <td>4.0</td>\n",
       "    </tr>\n",
       "  </tbody>\n",
       "</table>\n",
       "</div>"
      ],
      "text/plain": [
       "   userId  movieId  rating\n",
       "0       1       31     2.5\n",
       "1       1     1029     3.0\n",
       "2       1     1061     3.0\n",
       "3       1     1129     2.0\n",
       "4       1     1172     4.0"
      ]
     },
     "execution_count": 2,
     "metadata": {},
     "output_type": "execute_result"
    }
   ],
   "source": [
    "ratings = pd.read_csv(\"../02. Data/ratings_small.csv\")\n",
    "ratings = ratings[[\"userId\", \"movieId\", \"rating\"]]\n",
    "\n",
    "ratings.head()"
   ]
  },
  {
   "cell_type": "markdown",
   "metadata": {},
   "source": [
    "다른 두 데이터를 이용해 `ratings` 데이터의 `movieId`에 맞는 영화 제목 확인"
   ]
  },
  {
   "cell_type": "code",
   "execution_count": 3,
   "metadata": {
    "ExecuteTime": {
     "end_time": "2022-04-19T02:48:31.716281Z",
     "start_time": "2022-04-19T02:48:30.526118Z"
    }
   },
   "outputs": [
    {
     "name": "stderr",
     "output_type": "stream",
     "text": [
      "C:\\Users\\inp01\\Anaconda3\\envs\\ojt\\lib\\site-packages\\IPython\\core\\interactiveshell.py:3072: DtypeWarning: Columns (10) have mixed types.Specify dtype option on import or set low_memory=False.\n",
      "  interactivity=interactivity, compiler=compiler, result=result)\n"
     ]
    },
    {
     "data": {
      "text/html": [
       "<div>\n",
       "<style scoped>\n",
       "    .dataframe tbody tr th:only-of-type {\n",
       "        vertical-align: middle;\n",
       "    }\n",
       "\n",
       "    .dataframe tbody tr th {\n",
       "        vertical-align: top;\n",
       "    }\n",
       "\n",
       "    .dataframe thead th {\n",
       "        text-align: right;\n",
       "    }\n",
       "</style>\n",
       "<table border=\"1\" class=\"dataframe\">\n",
       "  <thead>\n",
       "    <tr style=\"text-align: right;\">\n",
       "      <th></th>\n",
       "      <th>adult</th>\n",
       "      <th>belongs_to_collection</th>\n",
       "      <th>budget</th>\n",
       "      <th>genres</th>\n",
       "      <th>homepage</th>\n",
       "      <th>id</th>\n",
       "      <th>imdb_id</th>\n",
       "      <th>original_language</th>\n",
       "      <th>original_title</th>\n",
       "      <th>overview</th>\n",
       "      <th>...</th>\n",
       "      <th>release_date</th>\n",
       "      <th>revenue</th>\n",
       "      <th>runtime</th>\n",
       "      <th>spoken_languages</th>\n",
       "      <th>status</th>\n",
       "      <th>tagline</th>\n",
       "      <th>title</th>\n",
       "      <th>video</th>\n",
       "      <th>vote_average</th>\n",
       "      <th>vote_count</th>\n",
       "    </tr>\n",
       "  </thead>\n",
       "  <tbody>\n",
       "    <tr>\n",
       "      <th>0</th>\n",
       "      <td>False</td>\n",
       "      <td>{'id': 10194, 'name': 'Toy Story Collection', ...</td>\n",
       "      <td>30000000</td>\n",
       "      <td>[{'id': 16, 'name': 'Animation'}, {'id': 35, '...</td>\n",
       "      <td>http://toystory.disney.com/toy-story</td>\n",
       "      <td>862</td>\n",
       "      <td>tt0114709</td>\n",
       "      <td>en</td>\n",
       "      <td>Toy Story</td>\n",
       "      <td>Led by Woody, Andy's toys live happily in his ...</td>\n",
       "      <td>...</td>\n",
       "      <td>1995-10-30</td>\n",
       "      <td>373554033.0</td>\n",
       "      <td>81.0</td>\n",
       "      <td>[{'iso_639_1': 'en', 'name': 'English'}]</td>\n",
       "      <td>Released</td>\n",
       "      <td>NaN</td>\n",
       "      <td>Toy Story</td>\n",
       "      <td>False</td>\n",
       "      <td>7.7</td>\n",
       "      <td>5415.0</td>\n",
       "    </tr>\n",
       "    <tr>\n",
       "      <th>1</th>\n",
       "      <td>False</td>\n",
       "      <td>NaN</td>\n",
       "      <td>65000000</td>\n",
       "      <td>[{'id': 12, 'name': 'Adventure'}, {'id': 14, '...</td>\n",
       "      <td>NaN</td>\n",
       "      <td>8844</td>\n",
       "      <td>tt0113497</td>\n",
       "      <td>en</td>\n",
       "      <td>Jumanji</td>\n",
       "      <td>When siblings Judy and Peter discover an encha...</td>\n",
       "      <td>...</td>\n",
       "      <td>1995-12-15</td>\n",
       "      <td>262797249.0</td>\n",
       "      <td>104.0</td>\n",
       "      <td>[{'iso_639_1': 'en', 'name': 'English'}, {'iso...</td>\n",
       "      <td>Released</td>\n",
       "      <td>Roll the dice and unleash the excitement!</td>\n",
       "      <td>Jumanji</td>\n",
       "      <td>False</td>\n",
       "      <td>6.9</td>\n",
       "      <td>2413.0</td>\n",
       "    </tr>\n",
       "    <tr>\n",
       "      <th>2</th>\n",
       "      <td>False</td>\n",
       "      <td>{'id': 119050, 'name': 'Grumpy Old Men Collect...</td>\n",
       "      <td>0</td>\n",
       "      <td>[{'id': 10749, 'name': 'Romance'}, {'id': 35, ...</td>\n",
       "      <td>NaN</td>\n",
       "      <td>15602</td>\n",
       "      <td>tt0113228</td>\n",
       "      <td>en</td>\n",
       "      <td>Grumpier Old Men</td>\n",
       "      <td>A family wedding reignites the ancient feud be...</td>\n",
       "      <td>...</td>\n",
       "      <td>1995-12-22</td>\n",
       "      <td>0.0</td>\n",
       "      <td>101.0</td>\n",
       "      <td>[{'iso_639_1': 'en', 'name': 'English'}]</td>\n",
       "      <td>Released</td>\n",
       "      <td>Still Yelling. Still Fighting. Still Ready for...</td>\n",
       "      <td>Grumpier Old Men</td>\n",
       "      <td>False</td>\n",
       "      <td>6.5</td>\n",
       "      <td>92.0</td>\n",
       "    </tr>\n",
       "  </tbody>\n",
       "</table>\n",
       "<p>3 rows × 24 columns</p>\n",
       "</div>"
      ],
      "text/plain": [
       "   adult                              belongs_to_collection    budget  \\\n",
       "0  False  {'id': 10194, 'name': 'Toy Story Collection', ...  30000000   \n",
       "1  False                                                NaN  65000000   \n",
       "2  False  {'id': 119050, 'name': 'Grumpy Old Men Collect...         0   \n",
       "\n",
       "                                              genres  \\\n",
       "0  [{'id': 16, 'name': 'Animation'}, {'id': 35, '...   \n",
       "1  [{'id': 12, 'name': 'Adventure'}, {'id': 14, '...   \n",
       "2  [{'id': 10749, 'name': 'Romance'}, {'id': 35, ...   \n",
       "\n",
       "                               homepage     id    imdb_id original_language  \\\n",
       "0  http://toystory.disney.com/toy-story    862  tt0114709                en   \n",
       "1                                   NaN   8844  tt0113497                en   \n",
       "2                                   NaN  15602  tt0113228                en   \n",
       "\n",
       "     original_title                                           overview  ...  \\\n",
       "0         Toy Story  Led by Woody, Andy's toys live happily in his ...  ...   \n",
       "1           Jumanji  When siblings Judy and Peter discover an encha...  ...   \n",
       "2  Grumpier Old Men  A family wedding reignites the ancient feud be...  ...   \n",
       "\n",
       "  release_date      revenue runtime  \\\n",
       "0   1995-10-30  373554033.0    81.0   \n",
       "1   1995-12-15  262797249.0   104.0   \n",
       "2   1995-12-22          0.0   101.0   \n",
       "\n",
       "                                    spoken_languages    status  \\\n",
       "0           [{'iso_639_1': 'en', 'name': 'English'}]  Released   \n",
       "1  [{'iso_639_1': 'en', 'name': 'English'}, {'iso...  Released   \n",
       "2           [{'iso_639_1': 'en', 'name': 'English'}]  Released   \n",
       "\n",
       "                                             tagline             title  video  \\\n",
       "0                                                NaN         Toy Story  False   \n",
       "1          Roll the dice and unleash the excitement!           Jumanji  False   \n",
       "2  Still Yelling. Still Fighting. Still Ready for...  Grumpier Old Men  False   \n",
       "\n",
       "  vote_average vote_count  \n",
       "0          7.7     5415.0  \n",
       "1          6.9     2413.0  \n",
       "2          6.5       92.0  \n",
       "\n",
       "[3 rows x 24 columns]"
      ]
     },
     "execution_count": 3,
     "metadata": {},
     "output_type": "execute_result"
    }
   ],
   "source": [
    "movies = pd.read_csv(\"../02. Data/movies_metadata.csv\")\n",
    "links = pd.read_csv(\"../02. Data/links_small.csv\")\n",
    "\n",
    "movies.head(3)"
   ]
  },
  {
   "cell_type": "code",
   "execution_count": 4,
   "metadata": {
    "ExecuteTime": {
     "end_time": "2022-04-19T02:48:31.748272Z",
     "start_time": "2022-04-19T02:48:31.720271Z"
    }
   },
   "outputs": [
    {
     "data": {
      "text/html": [
       "<div>\n",
       "<style scoped>\n",
       "    .dataframe tbody tr th:only-of-type {\n",
       "        vertical-align: middle;\n",
       "    }\n",
       "\n",
       "    .dataframe tbody tr th {\n",
       "        vertical-align: top;\n",
       "    }\n",
       "\n",
       "    .dataframe thead th {\n",
       "        text-align: right;\n",
       "    }\n",
       "</style>\n",
       "<table border=\"1\" class=\"dataframe\">\n",
       "  <thead>\n",
       "    <tr style=\"text-align: right;\">\n",
       "      <th></th>\n",
       "      <th>movieId</th>\n",
       "      <th>imdbId</th>\n",
       "      <th>tmdbId</th>\n",
       "    </tr>\n",
       "  </thead>\n",
       "  <tbody>\n",
       "    <tr>\n",
       "      <th>0</th>\n",
       "      <td>1</td>\n",
       "      <td>114709</td>\n",
       "      <td>862.0</td>\n",
       "    </tr>\n",
       "    <tr>\n",
       "      <th>1</th>\n",
       "      <td>2</td>\n",
       "      <td>113497</td>\n",
       "      <td>8844.0</td>\n",
       "    </tr>\n",
       "    <tr>\n",
       "      <th>2</th>\n",
       "      <td>3</td>\n",
       "      <td>113228</td>\n",
       "      <td>15602.0</td>\n",
       "    </tr>\n",
       "  </tbody>\n",
       "</table>\n",
       "</div>"
      ],
      "text/plain": [
       "   movieId  imdbId   tmdbId\n",
       "0        1  114709    862.0\n",
       "1        2  113497   8844.0\n",
       "2        3  113228  15602.0"
      ]
     },
     "execution_count": 4,
     "metadata": {},
     "output_type": "execute_result"
    }
   ],
   "source": [
    "links.head(3)"
   ]
  },
  {
   "cell_type": "markdown",
   "metadata": {},
   "source": [
    "### 1.2 Preprocessing\n",
    "`movies` 데이터에서 \"tt숫자\"로 이루어진 `imdb_id`에서 숫자 부분과  \n",
    "`links` 데이터의 \"숫자\"로 이루어진 `imdbId`와 연결"
   ]
  },
  {
   "cell_type": "code",
   "execution_count": 5,
   "metadata": {
    "ExecuteTime": {
     "end_time": "2022-04-19T02:48:32.096893Z",
     "start_time": "2022-04-19T02:48:31.760272Z"
    }
   },
   "outputs": [
    {
     "data": {
      "text/plain": [
       "0    tt0114709\n",
       "1    tt0113497\n",
       "2    tt0113228\n",
       "Name: imdb_id, dtype: object"
      ]
     },
     "execution_count": 5,
     "metadata": {},
     "output_type": "execute_result"
    }
   ],
   "source": [
    "movies = movies.fillna('')\n",
    "movies = movies[movies[\"imdb_id\"].str.startswith('tt')] ## tt로 시작하는 데이터 추출\n",
    "\n",
    "movies['imdb_id'].head(3)"
   ]
  },
  {
   "cell_type": "code",
   "execution_count": 6,
   "metadata": {
    "ExecuteTime": {
     "end_time": "2022-04-19T02:48:32.176459Z",
     "start_time": "2022-04-19T02:48:32.099886Z"
    }
   },
   "outputs": [
    {
     "data": {
      "text/plain": [
       "0    114709\n",
       "1    113497\n",
       "2    113228\n",
       "Name: imdbId, dtype: int64"
      ]
     },
     "execution_count": 6,
     "metadata": {},
     "output_type": "execute_result"
    }
   ],
   "source": [
    "movies[\"imdbId\"] = movies[\"imdb_id\"].apply(lambda x: int(x[2:])) ## tt제외한 숫자 추출\n",
    "movies[\"imdbId\"].head(3)"
   ]
  },
  {
   "cell_type": "code",
   "execution_count": 7,
   "metadata": {
    "ExecuteTime": {
     "end_time": "2022-04-19T02:48:32.272467Z",
     "start_time": "2022-04-19T02:48:32.188462Z"
    }
   },
   "outputs": [
    {
     "data": {
      "text/html": [
       "<div>\n",
       "<style scoped>\n",
       "    .dataframe tbody tr th:only-of-type {\n",
       "        vertical-align: middle;\n",
       "    }\n",
       "\n",
       "    .dataframe tbody tr th {\n",
       "        vertical-align: top;\n",
       "    }\n",
       "\n",
       "    .dataframe thead th {\n",
       "        text-align: right;\n",
       "    }\n",
       "</style>\n",
       "<table border=\"1\" class=\"dataframe\">\n",
       "  <thead>\n",
       "    <tr style=\"text-align: right;\">\n",
       "      <th></th>\n",
       "      <th>title</th>\n",
       "    </tr>\n",
       "    <tr>\n",
       "      <th>movieId</th>\n",
       "      <th></th>\n",
       "    </tr>\n",
       "  </thead>\n",
       "  <tbody>\n",
       "    <tr>\n",
       "      <th>1</th>\n",
       "      <td>Toy Story</td>\n",
       "    </tr>\n",
       "    <tr>\n",
       "      <th>2</th>\n",
       "      <td>Jumanji</td>\n",
       "    </tr>\n",
       "    <tr>\n",
       "      <th>3</th>\n",
       "      <td>Grumpier Old Men</td>\n",
       "    </tr>\n",
       "    <tr>\n",
       "      <th>4</th>\n",
       "      <td>Waiting to Exhale</td>\n",
       "    </tr>\n",
       "    <tr>\n",
       "      <th>5</th>\n",
       "      <td>Father of the Bride Part II</td>\n",
       "    </tr>\n",
       "  </tbody>\n",
       "</table>\n",
       "</div>"
      ],
      "text/plain": [
       "                               title\n",
       "movieId                             \n",
       "1                          Toy Story\n",
       "2                            Jumanji\n",
       "3                   Grumpier Old Men\n",
       "4                  Waiting to Exhale\n",
       "5        Father of the Bride Part II"
      ]
     },
     "execution_count": 7,
     "metadata": {},
     "output_type": "execute_result"
    }
   ],
   "source": [
    "movies = movies.merge(links, on=\"imdbId\") # imdbId 컬럼 기준 links와 데이터 결합\n",
    "\n",
    "movies = movies[[\"title\", \"movieId\"]]\n",
    "movies = movies.set_index(\"movieId\")\n",
    "\n",
    "movies.head()"
   ]
  },
  {
   "cell_type": "markdown",
   "metadata": {},
   "source": [
    "`pivot`함수를 이용해 유저 아이디가 인덱스이고, 영화 아이디가 컬럼, 값이 평가 점수인 `user_movie_matrix`를 생성"
   ]
  },
  {
   "cell_type": "code",
   "execution_count": 8,
   "metadata": {
    "ExecuteTime": {
     "end_time": "2022-04-19T02:48:32.399461Z",
     "start_time": "2022-04-19T02:48:32.276473Z"
    }
   },
   "outputs": [
    {
     "data": {
      "text/html": [
       "<div>\n",
       "<style scoped>\n",
       "    .dataframe tbody tr th:only-of-type {\n",
       "        vertical-align: middle;\n",
       "    }\n",
       "\n",
       "    .dataframe tbody tr th {\n",
       "        vertical-align: top;\n",
       "    }\n",
       "\n",
       "    .dataframe thead th {\n",
       "        text-align: right;\n",
       "    }\n",
       "</style>\n",
       "<table border=\"1\" class=\"dataframe\">\n",
       "  <thead>\n",
       "    <tr style=\"text-align: right;\">\n",
       "      <th>movieId</th>\n",
       "      <th>161944</th>\n",
       "      <th>162376</th>\n",
       "      <th>162542</th>\n",
       "      <th>162672</th>\n",
       "      <th>163949</th>\n",
       "    </tr>\n",
       "    <tr>\n",
       "      <th>userId</th>\n",
       "      <th></th>\n",
       "      <th></th>\n",
       "      <th></th>\n",
       "      <th></th>\n",
       "      <th></th>\n",
       "    </tr>\n",
       "  </thead>\n",
       "  <tbody>\n",
       "    <tr>\n",
       "      <th>667</th>\n",
       "      <td>NaN</td>\n",
       "      <td>NaN</td>\n",
       "      <td>NaN</td>\n",
       "      <td>NaN</td>\n",
       "      <td>NaN</td>\n",
       "    </tr>\n",
       "    <tr>\n",
       "      <th>668</th>\n",
       "      <td>NaN</td>\n",
       "      <td>NaN</td>\n",
       "      <td>NaN</td>\n",
       "      <td>NaN</td>\n",
       "      <td>NaN</td>\n",
       "    </tr>\n",
       "    <tr>\n",
       "      <th>669</th>\n",
       "      <td>NaN</td>\n",
       "      <td>NaN</td>\n",
       "      <td>NaN</td>\n",
       "      <td>NaN</td>\n",
       "      <td>NaN</td>\n",
       "    </tr>\n",
       "    <tr>\n",
       "      <th>670</th>\n",
       "      <td>NaN</td>\n",
       "      <td>NaN</td>\n",
       "      <td>NaN</td>\n",
       "      <td>NaN</td>\n",
       "      <td>NaN</td>\n",
       "    </tr>\n",
       "    <tr>\n",
       "      <th>671</th>\n",
       "      <td>NaN</td>\n",
       "      <td>NaN</td>\n",
       "      <td>NaN</td>\n",
       "      <td>NaN</td>\n",
       "      <td>NaN</td>\n",
       "    </tr>\n",
       "  </tbody>\n",
       "</table>\n",
       "</div>"
      ],
      "text/plain": [
       "movieId  161944  162376  162542  162672  163949\n",
       "userId                                         \n",
       "667         NaN     NaN     NaN     NaN     NaN\n",
       "668         NaN     NaN     NaN     NaN     NaN\n",
       "669         NaN     NaN     NaN     NaN     NaN\n",
       "670         NaN     NaN     NaN     NaN     NaN\n",
       "671         NaN     NaN     NaN     NaN     NaN"
      ]
     },
     "execution_count": 8,
     "metadata": {},
     "output_type": "execute_result"
    }
   ],
   "source": [
    "user_movie_matrix = ratings.pivot(\n",
    "    index=\"userId\",\n",
    "    columns=\"movieId\",\n",
    "    values=\"rating\",\n",
    ")\n",
    "\n",
    "user_movie_matrix.iloc[-5:, -5:]"
   ]
  },
  {
   "cell_type": "code",
   "execution_count": 9,
   "metadata": {
    "ExecuteTime": {
     "end_time": "2022-04-19T02:48:32.574480Z",
     "start_time": "2022-04-19T02:48:32.403463Z"
    }
   },
   "outputs": [
    {
     "data": {
      "text/html": [
       "<div>\n",
       "<style scoped>\n",
       "    .dataframe tbody tr th:only-of-type {\n",
       "        vertical-align: middle;\n",
       "    }\n",
       "\n",
       "    .dataframe tbody tr th {\n",
       "        vertical-align: top;\n",
       "    }\n",
       "\n",
       "    .dataframe thead th {\n",
       "        text-align: right;\n",
       "    }\n",
       "</style>\n",
       "<table border=\"1\" class=\"dataframe\">\n",
       "  <thead>\n",
       "    <tr style=\"text-align: right;\">\n",
       "      <th>movieId</th>\n",
       "      <th>1</th>\n",
       "      <th>2</th>\n",
       "      <th>3</th>\n",
       "      <th>4</th>\n",
       "      <th>5</th>\n",
       "      <th>6</th>\n",
       "      <th>7</th>\n",
       "      <th>8</th>\n",
       "      <th>9</th>\n",
       "      <th>10</th>\n",
       "      <th>...</th>\n",
       "      <th>161084</th>\n",
       "      <th>161155</th>\n",
       "      <th>161594</th>\n",
       "      <th>161830</th>\n",
       "      <th>161918</th>\n",
       "      <th>161944</th>\n",
       "      <th>162376</th>\n",
       "      <th>162542</th>\n",
       "      <th>162672</th>\n",
       "      <th>163949</th>\n",
       "    </tr>\n",
       "    <tr>\n",
       "      <th>userId</th>\n",
       "      <th></th>\n",
       "      <th></th>\n",
       "      <th></th>\n",
       "      <th></th>\n",
       "      <th></th>\n",
       "      <th></th>\n",
       "      <th></th>\n",
       "      <th></th>\n",
       "      <th></th>\n",
       "      <th></th>\n",
       "      <th></th>\n",
       "      <th></th>\n",
       "      <th></th>\n",
       "      <th></th>\n",
       "      <th></th>\n",
       "      <th></th>\n",
       "      <th></th>\n",
       "      <th></th>\n",
       "      <th></th>\n",
       "      <th></th>\n",
       "      <th></th>\n",
       "    </tr>\n",
       "  </thead>\n",
       "  <tbody>\n",
       "    <tr>\n",
       "      <th>1</th>\n",
       "      <td>0.0</td>\n",
       "      <td>0.0</td>\n",
       "      <td>0.0</td>\n",
       "      <td>0.0</td>\n",
       "      <td>0.0</td>\n",
       "      <td>0.0</td>\n",
       "      <td>0.0</td>\n",
       "      <td>0.0</td>\n",
       "      <td>0.0</td>\n",
       "      <td>0.0</td>\n",
       "      <td>...</td>\n",
       "      <td>0.0</td>\n",
       "      <td>0.0</td>\n",
       "      <td>0.0</td>\n",
       "      <td>0.0</td>\n",
       "      <td>0.0</td>\n",
       "      <td>0.0</td>\n",
       "      <td>0.0</td>\n",
       "      <td>0.0</td>\n",
       "      <td>0.0</td>\n",
       "      <td>0.0</td>\n",
       "    </tr>\n",
       "    <tr>\n",
       "      <th>2</th>\n",
       "      <td>0.0</td>\n",
       "      <td>0.0</td>\n",
       "      <td>0.0</td>\n",
       "      <td>0.0</td>\n",
       "      <td>0.0</td>\n",
       "      <td>0.0</td>\n",
       "      <td>0.0</td>\n",
       "      <td>0.0</td>\n",
       "      <td>0.0</td>\n",
       "      <td>4.0</td>\n",
       "      <td>...</td>\n",
       "      <td>0.0</td>\n",
       "      <td>0.0</td>\n",
       "      <td>0.0</td>\n",
       "      <td>0.0</td>\n",
       "      <td>0.0</td>\n",
       "      <td>0.0</td>\n",
       "      <td>0.0</td>\n",
       "      <td>0.0</td>\n",
       "      <td>0.0</td>\n",
       "      <td>0.0</td>\n",
       "    </tr>\n",
       "    <tr>\n",
       "      <th>3</th>\n",
       "      <td>0.0</td>\n",
       "      <td>0.0</td>\n",
       "      <td>0.0</td>\n",
       "      <td>0.0</td>\n",
       "      <td>0.0</td>\n",
       "      <td>0.0</td>\n",
       "      <td>0.0</td>\n",
       "      <td>0.0</td>\n",
       "      <td>0.0</td>\n",
       "      <td>0.0</td>\n",
       "      <td>...</td>\n",
       "      <td>0.0</td>\n",
       "      <td>0.0</td>\n",
       "      <td>0.0</td>\n",
       "      <td>0.0</td>\n",
       "      <td>0.0</td>\n",
       "      <td>0.0</td>\n",
       "      <td>0.0</td>\n",
       "      <td>0.0</td>\n",
       "      <td>0.0</td>\n",
       "      <td>0.0</td>\n",
       "    </tr>\n",
       "    <tr>\n",
       "      <th>4</th>\n",
       "      <td>0.0</td>\n",
       "      <td>0.0</td>\n",
       "      <td>0.0</td>\n",
       "      <td>0.0</td>\n",
       "      <td>0.0</td>\n",
       "      <td>0.0</td>\n",
       "      <td>0.0</td>\n",
       "      <td>0.0</td>\n",
       "      <td>0.0</td>\n",
       "      <td>4.0</td>\n",
       "      <td>...</td>\n",
       "      <td>0.0</td>\n",
       "      <td>0.0</td>\n",
       "      <td>0.0</td>\n",
       "      <td>0.0</td>\n",
       "      <td>0.0</td>\n",
       "      <td>0.0</td>\n",
       "      <td>0.0</td>\n",
       "      <td>0.0</td>\n",
       "      <td>0.0</td>\n",
       "      <td>0.0</td>\n",
       "    </tr>\n",
       "    <tr>\n",
       "      <th>5</th>\n",
       "      <td>0.0</td>\n",
       "      <td>0.0</td>\n",
       "      <td>4.0</td>\n",
       "      <td>0.0</td>\n",
       "      <td>0.0</td>\n",
       "      <td>0.0</td>\n",
       "      <td>0.0</td>\n",
       "      <td>0.0</td>\n",
       "      <td>0.0</td>\n",
       "      <td>0.0</td>\n",
       "      <td>...</td>\n",
       "      <td>0.0</td>\n",
       "      <td>0.0</td>\n",
       "      <td>0.0</td>\n",
       "      <td>0.0</td>\n",
       "      <td>0.0</td>\n",
       "      <td>0.0</td>\n",
       "      <td>0.0</td>\n",
       "      <td>0.0</td>\n",
       "      <td>0.0</td>\n",
       "      <td>0.0</td>\n",
       "    </tr>\n",
       "    <tr>\n",
       "      <th>...</th>\n",
       "      <td>...</td>\n",
       "      <td>...</td>\n",
       "      <td>...</td>\n",
       "      <td>...</td>\n",
       "      <td>...</td>\n",
       "      <td>...</td>\n",
       "      <td>...</td>\n",
       "      <td>...</td>\n",
       "      <td>...</td>\n",
       "      <td>...</td>\n",
       "      <td>...</td>\n",
       "      <td>...</td>\n",
       "      <td>...</td>\n",
       "      <td>...</td>\n",
       "      <td>...</td>\n",
       "      <td>...</td>\n",
       "      <td>...</td>\n",
       "      <td>...</td>\n",
       "      <td>...</td>\n",
       "      <td>...</td>\n",
       "      <td>...</td>\n",
       "    </tr>\n",
       "    <tr>\n",
       "      <th>667</th>\n",
       "      <td>0.0</td>\n",
       "      <td>0.0</td>\n",
       "      <td>0.0</td>\n",
       "      <td>0.0</td>\n",
       "      <td>0.0</td>\n",
       "      <td>4.0</td>\n",
       "      <td>0.0</td>\n",
       "      <td>0.0</td>\n",
       "      <td>0.0</td>\n",
       "      <td>0.0</td>\n",
       "      <td>...</td>\n",
       "      <td>0.0</td>\n",
       "      <td>0.0</td>\n",
       "      <td>0.0</td>\n",
       "      <td>0.0</td>\n",
       "      <td>0.0</td>\n",
       "      <td>0.0</td>\n",
       "      <td>0.0</td>\n",
       "      <td>0.0</td>\n",
       "      <td>0.0</td>\n",
       "      <td>0.0</td>\n",
       "    </tr>\n",
       "    <tr>\n",
       "      <th>668</th>\n",
       "      <td>0.0</td>\n",
       "      <td>0.0</td>\n",
       "      <td>0.0</td>\n",
       "      <td>0.0</td>\n",
       "      <td>0.0</td>\n",
       "      <td>0.0</td>\n",
       "      <td>0.0</td>\n",
       "      <td>0.0</td>\n",
       "      <td>0.0</td>\n",
       "      <td>0.0</td>\n",
       "      <td>...</td>\n",
       "      <td>0.0</td>\n",
       "      <td>0.0</td>\n",
       "      <td>0.0</td>\n",
       "      <td>0.0</td>\n",
       "      <td>0.0</td>\n",
       "      <td>0.0</td>\n",
       "      <td>0.0</td>\n",
       "      <td>0.0</td>\n",
       "      <td>0.0</td>\n",
       "      <td>0.0</td>\n",
       "    </tr>\n",
       "    <tr>\n",
       "      <th>669</th>\n",
       "      <td>0.0</td>\n",
       "      <td>0.0</td>\n",
       "      <td>0.0</td>\n",
       "      <td>0.0</td>\n",
       "      <td>0.0</td>\n",
       "      <td>0.0</td>\n",
       "      <td>0.0</td>\n",
       "      <td>0.0</td>\n",
       "      <td>0.0</td>\n",
       "      <td>0.0</td>\n",
       "      <td>...</td>\n",
       "      <td>0.0</td>\n",
       "      <td>0.0</td>\n",
       "      <td>0.0</td>\n",
       "      <td>0.0</td>\n",
       "      <td>0.0</td>\n",
       "      <td>0.0</td>\n",
       "      <td>0.0</td>\n",
       "      <td>0.0</td>\n",
       "      <td>0.0</td>\n",
       "      <td>0.0</td>\n",
       "    </tr>\n",
       "    <tr>\n",
       "      <th>670</th>\n",
       "      <td>4.0</td>\n",
       "      <td>0.0</td>\n",
       "      <td>0.0</td>\n",
       "      <td>0.0</td>\n",
       "      <td>0.0</td>\n",
       "      <td>0.0</td>\n",
       "      <td>0.0</td>\n",
       "      <td>0.0</td>\n",
       "      <td>0.0</td>\n",
       "      <td>0.0</td>\n",
       "      <td>...</td>\n",
       "      <td>0.0</td>\n",
       "      <td>0.0</td>\n",
       "      <td>0.0</td>\n",
       "      <td>0.0</td>\n",
       "      <td>0.0</td>\n",
       "      <td>0.0</td>\n",
       "      <td>0.0</td>\n",
       "      <td>0.0</td>\n",
       "      <td>0.0</td>\n",
       "      <td>0.0</td>\n",
       "    </tr>\n",
       "    <tr>\n",
       "      <th>671</th>\n",
       "      <td>5.0</td>\n",
       "      <td>0.0</td>\n",
       "      <td>0.0</td>\n",
       "      <td>0.0</td>\n",
       "      <td>0.0</td>\n",
       "      <td>0.0</td>\n",
       "      <td>0.0</td>\n",
       "      <td>0.0</td>\n",
       "      <td>0.0</td>\n",
       "      <td>0.0</td>\n",
       "      <td>...</td>\n",
       "      <td>0.0</td>\n",
       "      <td>0.0</td>\n",
       "      <td>0.0</td>\n",
       "      <td>0.0</td>\n",
       "      <td>0.0</td>\n",
       "      <td>0.0</td>\n",
       "      <td>0.0</td>\n",
       "      <td>0.0</td>\n",
       "      <td>0.0</td>\n",
       "      <td>0.0</td>\n",
       "    </tr>\n",
       "  </tbody>\n",
       "</table>\n",
       "<p>671 rows × 9066 columns</p>\n",
       "</div>"
      ],
      "text/plain": [
       "movieId  1       2       3       4       5       6       7       8       \\\n",
       "userId                                                                    \n",
       "1           0.0     0.0     0.0     0.0     0.0     0.0     0.0     0.0   \n",
       "2           0.0     0.0     0.0     0.0     0.0     0.0     0.0     0.0   \n",
       "3           0.0     0.0     0.0     0.0     0.0     0.0     0.0     0.0   \n",
       "4           0.0     0.0     0.0     0.0     0.0     0.0     0.0     0.0   \n",
       "5           0.0     0.0     4.0     0.0     0.0     0.0     0.0     0.0   \n",
       "...         ...     ...     ...     ...     ...     ...     ...     ...   \n",
       "667         0.0     0.0     0.0     0.0     0.0     4.0     0.0     0.0   \n",
       "668         0.0     0.0     0.0     0.0     0.0     0.0     0.0     0.0   \n",
       "669         0.0     0.0     0.0     0.0     0.0     0.0     0.0     0.0   \n",
       "670         4.0     0.0     0.0     0.0     0.0     0.0     0.0     0.0   \n",
       "671         5.0     0.0     0.0     0.0     0.0     0.0     0.0     0.0   \n",
       "\n",
       "movieId  9       10      ...  161084  161155  161594  161830  161918  161944  \\\n",
       "userId                   ...                                                   \n",
       "1           0.0     0.0  ...     0.0     0.0     0.0     0.0     0.0     0.0   \n",
       "2           0.0     4.0  ...     0.0     0.0     0.0     0.0     0.0     0.0   \n",
       "3           0.0     0.0  ...     0.0     0.0     0.0     0.0     0.0     0.0   \n",
       "4           0.0     4.0  ...     0.0     0.0     0.0     0.0     0.0     0.0   \n",
       "5           0.0     0.0  ...     0.0     0.0     0.0     0.0     0.0     0.0   \n",
       "...         ...     ...  ...     ...     ...     ...     ...     ...     ...   \n",
       "667         0.0     0.0  ...     0.0     0.0     0.0     0.0     0.0     0.0   \n",
       "668         0.0     0.0  ...     0.0     0.0     0.0     0.0     0.0     0.0   \n",
       "669         0.0     0.0  ...     0.0     0.0     0.0     0.0     0.0     0.0   \n",
       "670         0.0     0.0  ...     0.0     0.0     0.0     0.0     0.0     0.0   \n",
       "671         0.0     0.0  ...     0.0     0.0     0.0     0.0     0.0     0.0   \n",
       "\n",
       "movieId  162376  162542  162672  163949  \n",
       "userId                                   \n",
       "1           0.0     0.0     0.0     0.0  \n",
       "2           0.0     0.0     0.0     0.0  \n",
       "3           0.0     0.0     0.0     0.0  \n",
       "4           0.0     0.0     0.0     0.0  \n",
       "5           0.0     0.0     0.0     0.0  \n",
       "...         ...     ...     ...     ...  \n",
       "667         0.0     0.0     0.0     0.0  \n",
       "668         0.0     0.0     0.0     0.0  \n",
       "669         0.0     0.0     0.0     0.0  \n",
       "670         0.0     0.0     0.0     0.0  \n",
       "671         0.0     0.0     0.0     0.0  \n",
       "\n",
       "[671 rows x 9066 columns]"
      ]
     },
     "execution_count": 9,
     "metadata": {},
     "output_type": "execute_result"
    }
   ],
   "source": [
    "# 유저가 평가하지 않은 영화에 대해서 결측값을 0으로 대체\n",
    "user_movie_matrix = user_movie_matrix.fillna(0)\n",
    "user_movie_matrix"
   ]
  },
  {
   "cell_type": "markdown",
   "metadata": {},
   "source": [
    "# 2. KNN Basic\n",
    "- k가 5인 KNN Basic을 이용해 유저 \"124\" 가 아직 평가하지 않은 영화 \"648\"에 대한 점수를 예측"
   ]
  },
  {
   "cell_type": "code",
   "execution_count": 10,
   "metadata": {
    "ExecuteTime": {
     "end_time": "2022-04-19T02:48:32.590466Z",
     "start_time": "2022-04-19T02:48:32.576463Z"
    }
   },
   "outputs": [],
   "source": [
    "k = 5\n",
    "user_i = 124\n",
    "movie_id = 648"
   ]
  },
  {
   "cell_type": "markdown",
   "metadata": {},
   "source": [
    "### 2.1 유저 간의 유사도를 계산\n",
    "- `cosin_similarity` 함수를 이용해 유저별 코사인 유사도를 계산"
   ]
  },
  {
   "cell_type": "code",
   "execution_count": 11,
   "metadata": {
    "ExecuteTime": {
     "end_time": "2022-04-19T02:48:34.233554Z",
     "start_time": "2022-04-19T02:48:32.594462Z"
    }
   },
   "outputs": [
    {
     "data": {
      "text/plain": [
       "(671, 671)"
      ]
     },
     "execution_count": 11,
     "metadata": {},
     "output_type": "execute_result"
    }
   ],
   "source": [
    "from sklearn.metrics.pairwise import cosine_similarity\n",
    "\n",
    "user_similarity = cosine_similarity(user_movie_matrix)\n",
    "user_similarity.shape"
   ]
  },
  {
   "cell_type": "code",
   "execution_count": 12,
   "metadata": {
    "ExecuteTime": {
     "end_time": "2022-04-19T02:48:34.262551Z",
     "start_time": "2022-04-19T02:48:34.236552Z"
    }
   },
   "outputs": [
    {
     "data": {
      "text/plain": [
       "array([[1.        , 0.        , 0.        , 0.07448245, 0.01681799,\n",
       "        0.        , 0.08388416, 0.        , 0.01284289, 0.        ],\n",
       "       [0.        , 1.        , 0.12429498, 0.11882103, 0.10364614,\n",
       "        0.        , 0.21298521, 0.11319045, 0.11333307, 0.04321284],\n",
       "       [0.        , 0.12429498, 1.        , 0.08163991, 0.15153112,\n",
       "        0.06069128, 0.15471414, 0.24978072, 0.13447489, 0.1146725 ],\n",
       "       [0.07448245, 0.11882103, 0.08163991, 1.        , 0.13064868,\n",
       "        0.07964833, 0.31974534, 0.19101336, 0.03041726, 0.13718558],\n",
       "       [0.01681799, 0.10364614, 0.15153112, 0.13064868, 1.        ,\n",
       "        0.06379575, 0.0958878 , 0.16571211, 0.08661604, 0.03237017],\n",
       "       [0.        , 0.        , 0.06069128, 0.07964833, 0.06379575,\n",
       "        1.        , 0.        , 0.12850206, 0.02174493, 0.04526415],\n",
       "       [0.08388416, 0.21298521, 0.15471414, 0.31974534, 0.0958878 ,\n",
       "        0.        , 1.        , 0.14957182, 0.05972764, 0.18649318],\n",
       "       [0.        , 0.11319045, 0.24978072, 0.19101336, 0.16571211,\n",
       "        0.12850206, 0.14957182, 1.        , 0.15735626, 0.16272417],\n",
       "       [0.01284289, 0.11333307, 0.13447489, 0.03041726, 0.08661604,\n",
       "        0.02174493, 0.05972764, 0.15735626, 1.        , 0.12734115],\n",
       "       [0.        , 0.04321284, 0.1146725 , 0.13718558, 0.03237017,\n",
       "        0.04526415, 0.18649318, 0.16272417, 0.12734115, 1.        ]])"
      ]
     },
     "execution_count": 12,
     "metadata": {},
     "output_type": "execute_result"
    }
   ],
   "source": [
    "user_similarity[:10, :10]"
   ]
  },
  {
   "cell_type": "code",
   "execution_count": 13,
   "metadata": {
    "ExecuteTime": {
     "end_time": "2022-04-19T02:48:34.358073Z",
     "start_time": "2022-04-19T02:48:34.270556Z"
    }
   },
   "outputs": [
    {
     "data": {
      "text/html": [
       "<div>\n",
       "<style scoped>\n",
       "    .dataframe tbody tr th:only-of-type {\n",
       "        vertical-align: middle;\n",
       "    }\n",
       "\n",
       "    .dataframe tbody tr th {\n",
       "        vertical-align: top;\n",
       "    }\n",
       "\n",
       "    .dataframe thead th {\n",
       "        text-align: right;\n",
       "    }\n",
       "</style>\n",
       "<table border=\"1\" class=\"dataframe\">\n",
       "  <thead>\n",
       "    <tr style=\"text-align: right;\">\n",
       "      <th>userId</th>\n",
       "      <th>1</th>\n",
       "      <th>2</th>\n",
       "      <th>3</th>\n",
       "      <th>4</th>\n",
       "      <th>5</th>\n",
       "      <th>6</th>\n",
       "      <th>7</th>\n",
       "      <th>8</th>\n",
       "      <th>9</th>\n",
       "      <th>10</th>\n",
       "      <th>...</th>\n",
       "      <th>662</th>\n",
       "      <th>663</th>\n",
       "      <th>664</th>\n",
       "      <th>665</th>\n",
       "      <th>666</th>\n",
       "      <th>667</th>\n",
       "      <th>668</th>\n",
       "      <th>669</th>\n",
       "      <th>670</th>\n",
       "      <th>671</th>\n",
       "    </tr>\n",
       "    <tr>\n",
       "      <th>userId</th>\n",
       "      <th></th>\n",
       "      <th></th>\n",
       "      <th></th>\n",
       "      <th></th>\n",
       "      <th></th>\n",
       "      <th></th>\n",
       "      <th></th>\n",
       "      <th></th>\n",
       "      <th></th>\n",
       "      <th></th>\n",
       "      <th></th>\n",
       "      <th></th>\n",
       "      <th></th>\n",
       "      <th></th>\n",
       "      <th></th>\n",
       "      <th></th>\n",
       "      <th></th>\n",
       "      <th></th>\n",
       "      <th></th>\n",
       "      <th></th>\n",
       "      <th></th>\n",
       "    </tr>\n",
       "  </thead>\n",
       "  <tbody>\n",
       "    <tr>\n",
       "      <th>1</th>\n",
       "      <td>1.000000</td>\n",
       "      <td>0.000000</td>\n",
       "      <td>0.000000</td>\n",
       "      <td>0.074482</td>\n",
       "      <td>0.016818</td>\n",
       "      <td>0.000000</td>\n",
       "      <td>0.083884</td>\n",
       "      <td>0.000000</td>\n",
       "      <td>0.012843</td>\n",
       "      <td>0.000000</td>\n",
       "      <td>...</td>\n",
       "      <td>0.000000</td>\n",
       "      <td>0.000000</td>\n",
       "      <td>0.014474</td>\n",
       "      <td>0.043719</td>\n",
       "      <td>0.000000</td>\n",
       "      <td>0.000000</td>\n",
       "      <td>0.000000</td>\n",
       "      <td>0.062917</td>\n",
       "      <td>0.000000</td>\n",
       "      <td>0.017466</td>\n",
       "    </tr>\n",
       "    <tr>\n",
       "      <th>2</th>\n",
       "      <td>0.000000</td>\n",
       "      <td>1.000000</td>\n",
       "      <td>0.124295</td>\n",
       "      <td>0.118821</td>\n",
       "      <td>0.103646</td>\n",
       "      <td>0.000000</td>\n",
       "      <td>0.212985</td>\n",
       "      <td>0.113190</td>\n",
       "      <td>0.113333</td>\n",
       "      <td>0.043213</td>\n",
       "      <td>...</td>\n",
       "      <td>0.477306</td>\n",
       "      <td>0.063202</td>\n",
       "      <td>0.077745</td>\n",
       "      <td>0.164162</td>\n",
       "      <td>0.466281</td>\n",
       "      <td>0.425462</td>\n",
       "      <td>0.084646</td>\n",
       "      <td>0.024140</td>\n",
       "      <td>0.170595</td>\n",
       "      <td>0.113175</td>\n",
       "    </tr>\n",
       "    <tr>\n",
       "      <th>3</th>\n",
       "      <td>0.000000</td>\n",
       "      <td>0.124295</td>\n",
       "      <td>1.000000</td>\n",
       "      <td>0.081640</td>\n",
       "      <td>0.151531</td>\n",
       "      <td>0.060691</td>\n",
       "      <td>0.154714</td>\n",
       "      <td>0.249781</td>\n",
       "      <td>0.134475</td>\n",
       "      <td>0.114672</td>\n",
       "      <td>...</td>\n",
       "      <td>0.161205</td>\n",
       "      <td>0.064198</td>\n",
       "      <td>0.176134</td>\n",
       "      <td>0.158357</td>\n",
       "      <td>0.177098</td>\n",
       "      <td>0.124562</td>\n",
       "      <td>0.124911</td>\n",
       "      <td>0.080984</td>\n",
       "      <td>0.136606</td>\n",
       "      <td>0.170193</td>\n",
       "    </tr>\n",
       "    <tr>\n",
       "      <th>4</th>\n",
       "      <td>0.074482</td>\n",
       "      <td>0.118821</td>\n",
       "      <td>0.081640</td>\n",
       "      <td>1.000000</td>\n",
       "      <td>0.130649</td>\n",
       "      <td>0.079648</td>\n",
       "      <td>0.319745</td>\n",
       "      <td>0.191013</td>\n",
       "      <td>0.030417</td>\n",
       "      <td>0.137186</td>\n",
       "      <td>...</td>\n",
       "      <td>0.114319</td>\n",
       "      <td>0.047228</td>\n",
       "      <td>0.136579</td>\n",
       "      <td>0.254030</td>\n",
       "      <td>0.121905</td>\n",
       "      <td>0.088735</td>\n",
       "      <td>0.068483</td>\n",
       "      <td>0.104309</td>\n",
       "      <td>0.054512</td>\n",
       "      <td>0.211609</td>\n",
       "    </tr>\n",
       "    <tr>\n",
       "      <th>5</th>\n",
       "      <td>0.016818</td>\n",
       "      <td>0.103646</td>\n",
       "      <td>0.151531</td>\n",
       "      <td>0.130649</td>\n",
       "      <td>1.000000</td>\n",
       "      <td>0.063796</td>\n",
       "      <td>0.095888</td>\n",
       "      <td>0.165712</td>\n",
       "      <td>0.086616</td>\n",
       "      <td>0.032370</td>\n",
       "      <td>...</td>\n",
       "      <td>0.191029</td>\n",
       "      <td>0.021142</td>\n",
       "      <td>0.146173</td>\n",
       "      <td>0.224245</td>\n",
       "      <td>0.139721</td>\n",
       "      <td>0.058252</td>\n",
       "      <td>0.042926</td>\n",
       "      <td>0.038358</td>\n",
       "      <td>0.062642</td>\n",
       "      <td>0.225086</td>\n",
       "    </tr>\n",
       "  </tbody>\n",
       "</table>\n",
       "<p>5 rows × 671 columns</p>\n",
       "</div>"
      ],
      "text/plain": [
       "userId       1         2         3         4         5         6         7    \\\n",
       "userId                                                                         \n",
       "1       1.000000  0.000000  0.000000  0.074482  0.016818  0.000000  0.083884   \n",
       "2       0.000000  1.000000  0.124295  0.118821  0.103646  0.000000  0.212985   \n",
       "3       0.000000  0.124295  1.000000  0.081640  0.151531  0.060691  0.154714   \n",
       "4       0.074482  0.118821  0.081640  1.000000  0.130649  0.079648  0.319745   \n",
       "5       0.016818  0.103646  0.151531  0.130649  1.000000  0.063796  0.095888   \n",
       "\n",
       "userId       8         9         10   ...       662       663       664  \\\n",
       "userId                                ...                                 \n",
       "1       0.000000  0.012843  0.000000  ...  0.000000  0.000000  0.014474   \n",
       "2       0.113190  0.113333  0.043213  ...  0.477306  0.063202  0.077745   \n",
       "3       0.249781  0.134475  0.114672  ...  0.161205  0.064198  0.176134   \n",
       "4       0.191013  0.030417  0.137186  ...  0.114319  0.047228  0.136579   \n",
       "5       0.165712  0.086616  0.032370  ...  0.191029  0.021142  0.146173   \n",
       "\n",
       "userId       665       666       667       668       669       670       671  \n",
       "userId                                                                        \n",
       "1       0.043719  0.000000  0.000000  0.000000  0.062917  0.000000  0.017466  \n",
       "2       0.164162  0.466281  0.425462  0.084646  0.024140  0.170595  0.113175  \n",
       "3       0.158357  0.177098  0.124562  0.124911  0.080984  0.136606  0.170193  \n",
       "4       0.254030  0.121905  0.088735  0.068483  0.104309  0.054512  0.211609  \n",
       "5       0.224245  0.139721  0.058252  0.042926  0.038358  0.062642  0.225086  \n",
       "\n",
       "[5 rows x 671 columns]"
      ]
     },
     "execution_count": 13,
     "metadata": {},
     "output_type": "execute_result"
    }
   ],
   "source": [
    "user_similarity = pd.DataFrame(\n",
    "    data=user_similarity,\n",
    "    index=user_movie_matrix.index,\n",
    "    columns=user_movie_matrix.index,\n",
    ")\n",
    "\n",
    "user_similarity.head(5)"
   ]
  },
  {
   "cell_type": "markdown",
   "metadata": {},
   "source": [
    "### 2.2 아이템 i를 평가한 유저들 중에서 유저 u와 비슷한 유저 k명 탐색\n",
    "- 유저 \"124\"와 유사한 다른 유저 k명 탐색"
   ]
  },
  {
   "cell_type": "code",
   "execution_count": 14,
   "metadata": {
    "ExecuteTime": {
     "end_time": "2022-04-19T02:48:34.374077Z",
     "start_time": "2022-04-19T02:48:34.361075Z"
    }
   },
   "outputs": [
    {
     "data": {
      "text/plain": [
       "userId\n",
       "1      0.000000\n",
       "2      0.129669\n",
       "3      0.224600\n",
       "4      0.147568\n",
       "5      0.159521\n",
       "         ...   \n",
       "667    0.065720\n",
       "668    0.074023\n",
       "669    0.049342\n",
       "670    0.201474\n",
       "671    0.330381\n",
       "Name: 124, Length: 671, dtype: float64"
      ]
     },
     "execution_count": 14,
     "metadata": {},
     "output_type": "execute_result"
    }
   ],
   "source": [
    "user_i_similarity = user_similarity.loc[user_i]\n",
    "user_i_similarity"
   ]
  },
  {
   "cell_type": "code",
   "execution_count": 15,
   "metadata": {
    "ExecuteTime": {
     "end_time": "2022-04-19T02:48:34.390073Z",
     "start_time": "2022-04-19T02:48:34.377075Z"
    }
   },
   "outputs": [
    {
     "data": {
      "text/plain": [
       "userId\n",
       "124    1.000000\n",
       "458    0.455216\n",
       "379    0.433607\n",
       "355    0.432242\n",
       "282    0.423280\n",
       "         ...   \n",
       "76     0.000000\n",
       "469    0.000000\n",
       "477    0.000000\n",
       "485    0.000000\n",
       "1      0.000000\n",
       "Name: 124, Length: 671, dtype: float64"
      ]
     },
     "execution_count": 15,
     "metadata": {},
     "output_type": "execute_result"
    }
   ],
   "source": [
    "user_i_similarity = user_i_similarity.sort_values(ascending=False)\n",
    "user_i_similarity"
   ]
  },
  {
   "cell_type": "markdown",
   "metadata": {},
   "source": [
    "유사도 상위 k명의 유사도와 id 추출  \n",
    "이때 가장 유사도가 높은 id는 user_i로 제외"
   ]
  },
  {
   "cell_type": "code",
   "execution_count": 16,
   "metadata": {
    "ExecuteTime": {
     "end_time": "2022-04-19T02:48:34.407075Z",
     "start_time": "2022-04-19T02:48:34.393076Z"
    }
   },
   "outputs": [
    {
     "data": {
      "text/plain": [
       "Int64Index([458, 379, 355, 282, 271], dtype='int64', name='userId')"
      ]
     },
     "execution_count": 16,
     "metadata": {},
     "output_type": "execute_result"
    }
   ],
   "source": [
    "top_k_similarity = user_i_similarity[1: k + 1]\n",
    "top_k_similar_user_ids = top_k_similarity.index\n",
    "\n",
    "top_k_similar_user_ids"
   ]
  },
  {
   "cell_type": "code",
   "execution_count": 17,
   "metadata": {
    "ExecuteTime": {
     "end_time": "2022-04-19T02:48:34.438083Z",
     "start_time": "2022-04-19T02:48:34.412078Z"
    }
   },
   "outputs": [
    {
     "data": {
      "text/plain": [
       "userId\n",
       "458    0.455216\n",
       "379    0.433607\n",
       "355    0.432242\n",
       "282    0.423280\n",
       "271    0.409402\n",
       "Name: 124, dtype: float64"
      ]
     },
     "execution_count": 17,
     "metadata": {},
     "output_type": "execute_result"
    }
   ],
   "source": [
    "top_k_similarity"
   ]
  },
  {
   "cell_type": "markdown",
   "metadata": {},
   "source": [
    "### 2.3 K명의 유사한 유저들이 아이템 i에 평가한 선호도를 유사도 기준으로 가중 평균"
   ]
  },
  {
   "cell_type": "code",
   "execution_count": 18,
   "metadata": {
    "ExecuteTime": {
     "end_time": "2022-04-19T02:48:34.455074Z",
     "start_time": "2022-04-19T02:48:34.441088Z"
    }
   },
   "outputs": [
    {
     "data": {
      "text/plain": [
       "648"
      ]
     },
     "execution_count": 18,
     "metadata": {},
     "output_type": "execute_result"
    }
   ],
   "source": [
    "tok_k_similar_ratings = user_movie_matrix.loc[top_k_similar_user_ids, movie_id]\n",
    "movie_id"
   ]
  },
  {
   "cell_type": "code",
   "execution_count": 19,
   "metadata": {
    "ExecuteTime": {
     "end_time": "2022-04-19T02:48:34.486076Z",
     "start_time": "2022-04-19T02:48:34.460073Z"
    }
   },
   "outputs": [
    {
     "data": {
      "text/plain": [
       "userId\n",
       "458    4.5\n",
       "379    0.0\n",
       "355    3.5\n",
       "282    4.0\n",
       "271    0.0\n",
       "Name: 648, dtype: float64"
      ]
     },
     "execution_count": 19,
     "metadata": {},
     "output_type": "execute_result"
    }
   ],
   "source": [
    "tok_k_similar_ratings"
   ]
  },
  {
   "cell_type": "code",
   "execution_count": 20,
   "metadata": {
    "ExecuteTime": {
     "end_time": "2022-04-19T02:48:34.518071Z",
     "start_time": "2022-04-19T02:48:34.490076Z"
    }
   },
   "outputs": [
    {
     "data": {
      "text/plain": [
       "userId\n",
       "458    2.048473\n",
       "379    0.000000\n",
       "355    1.512848\n",
       "282    1.693119\n",
       "271    0.000000\n",
       "dtype: float64"
      ]
     },
     "execution_count": 20,
     "metadata": {},
     "output_type": "execute_result"
    }
   ],
   "source": [
    "top_k_weighted_ratings = tok_k_similar_ratings * top_k_similarity\n",
    "top_k_weighted_ratings"
   ]
  },
  {
   "cell_type": "code",
   "execution_count": 21,
   "metadata": {
    "ExecuteTime": {
     "end_time": "2022-04-19T02:48:34.534074Z",
     "start_time": "2022-04-19T02:48:34.521072Z"
    }
   },
   "outputs": [
    {
     "data": {
      "text/plain": [
       "userId\n",
       "458    0.455216\n",
       "379    0.000000\n",
       "355    0.432242\n",
       "282    0.423280\n",
       "271    0.000000\n",
       "dtype: float64"
      ]
     },
     "execution_count": 21,
     "metadata": {},
     "output_type": "execute_result"
    }
   ],
   "source": [
    "# 평가 점수가 있는 유저에 대한 Weight 추출\n",
    "top_k_weight = (tok_k_similar_ratings > 0) * top_k_similarity\n",
    "top_k_weight"
   ]
  },
  {
   "cell_type": "code",
   "execution_count": 22,
   "metadata": {
    "ExecuteTime": {
     "end_time": "2022-04-19T02:48:34.566074Z",
     "start_time": "2022-04-19T02:48:34.543074Z"
    }
   },
   "outputs": [
    {
     "data": {
      "text/plain": [
       "1.31073817898241"
      ]
     },
     "execution_count": 22,
     "metadata": {},
     "output_type": "execute_result"
    }
   ],
   "source": [
    "# 유사도가 곱해진 평가 점수의 합을 유사도 합으로 나눈다\n",
    "weighted_rating = top_k_weighted_ratings.sum()\n",
    "weight = top_k_weight.sum()\n",
    "\n",
    "weight"
   ]
  },
  {
   "cell_type": "code",
   "execution_count": 23,
   "metadata": {
    "ExecuteTime": {
     "end_time": "2022-04-19T02:48:34.597085Z",
     "start_time": "2022-04-19T02:48:34.572075Z"
    }
   },
   "outputs": [
    {
     "data": {
      "text/plain": [
       "4.008763709331574"
      ]
     },
     "execution_count": 23,
     "metadata": {},
     "output_type": "execute_result"
    }
   ],
   "source": [
    "# weight가 0보다 작은 경우 유저 모두 평가하지 않은 경우\n",
    "if weight > 0:\n",
    "    prediction_rating = weighted_rating / weight\n",
    "else:\n",
    "    prediction_rating = 0\n",
    "    \n",
    "prediction_rating"
   ]
  },
  {
   "cell_type": "markdown",
   "metadata": {},
   "source": [
    "### 2.4 예측 선호도가 높은 아이템을 유저에게 추천\n",
    "- 모든 영화에 대해서 점수를 예측하고 예측 평가 점수가 높은 영화를 유저에게 추천"
   ]
  },
  {
   "cell_type": "markdown",
   "metadata": {},
   "source": [
    "#### 2.4.1 선호도 계산"
   ]
  },
  {
   "cell_type": "code",
   "execution_count": 24,
   "metadata": {
    "ExecuteTime": {
     "end_time": "2022-04-19T02:48:49.528788Z",
     "start_time": "2022-04-19T02:48:34.603076Z"
    }
   },
   "outputs": [],
   "source": [
    "prediction_dict = {}\n",
    "\n",
    "# 모든 영화 아이디에 대해 평점 예측\n",
    "for movie_id in user_movie_matrix.columns:\n",
    "\n",
    "    # 이미 유저가 평가한 경우 제외\n",
    "    if user_movie_matrix.loc[user_i, movie_id] > 0:\n",
    "        continue\n",
    "    \n",
    "    tok_k_similar_ratings = user_movie_matrix.loc[top_k_similar_user_ids, movie_id]\n",
    "\n",
    "    top_k_weighted_ratings = tok_k_similar_ratings * top_k_similarity\n",
    "    top_k_weight = (tok_k_similar_ratings > 0) * top_k_similarity\n",
    "\n",
    "    weighted_rating = top_k_weighted_ratings.sum()\n",
    "    weight = top_k_weight.sum()\n",
    "\n",
    "    if weight > 0:\n",
    "        prediction_rating = weighted_rating / weight\n",
    "    else:\n",
    "        prediction_rating = 0\n",
    "\n",
    "    # 영화 아이디별로 예측 평가 점수 저장\n",
    "    prediction_dict[movie_id] = prediction_rating"
   ]
  },
  {
   "cell_type": "code",
   "execution_count": 25,
   "metadata": {
    "ExecuteTime": {
     "end_time": "2022-04-19T02:48:49.564614Z",
     "start_time": "2022-04-19T02:48:49.528788Z"
    }
   },
   "outputs": [],
   "source": [
    "# 영화 아이디별 예측 평가 점수를 내림차순 정렬\n",
    "prediction = pd.Series(prediction_dict).sort_values(ascending=False)"
   ]
  },
  {
   "cell_type": "markdown",
   "metadata": {},
   "source": [
    "#### 2.4.2 상위 아이템 추출\n",
    "- 예측 평가 점수 상위 10개의 영화 아이디 추출"
   ]
  },
  {
   "cell_type": "code",
   "execution_count": 26,
   "metadata": {
    "ExecuteTime": {
     "end_time": "2022-04-19T02:48:49.596351Z",
     "start_time": "2022-04-19T02:48:49.568512Z"
    }
   },
   "outputs": [
    {
     "data": {
      "text/html": [
       "<div>\n",
       "<style scoped>\n",
       "    .dataframe tbody tr th:only-of-type {\n",
       "        vertical-align: middle;\n",
       "    }\n",
       "\n",
       "    .dataframe tbody tr th {\n",
       "        vertical-align: top;\n",
       "    }\n",
       "\n",
       "    .dataframe thead th {\n",
       "        text-align: right;\n",
       "    }\n",
       "</style>\n",
       "<table border=\"1\" class=\"dataframe\">\n",
       "  <thead>\n",
       "    <tr style=\"text-align: right;\">\n",
       "      <th></th>\n",
       "      <th>title</th>\n",
       "    </tr>\n",
       "    <tr>\n",
       "      <th>movieId</th>\n",
       "      <th></th>\n",
       "    </tr>\n",
       "  </thead>\n",
       "  <tbody>\n",
       "    <tr>\n",
       "      <th>1258</th>\n",
       "      <td>The Shining</td>\n",
       "    </tr>\n",
       "    <tr>\n",
       "      <th>924</th>\n",
       "      <td>2001: A Space Odyssey</td>\n",
       "    </tr>\n",
       "    <tr>\n",
       "      <th>3861</th>\n",
       "      <td>The Replacements</td>\n",
       "    </tr>\n",
       "    <tr>\n",
       "      <th>524</th>\n",
       "      <td>Rudy</td>\n",
       "    </tr>\n",
       "    <tr>\n",
       "      <th>3916</th>\n",
       "      <td>Remember the Titans</td>\n",
       "    </tr>\n",
       "    <tr>\n",
       "      <th>260</th>\n",
       "      <td>Star Wars</td>\n",
       "    </tr>\n",
       "    <tr>\n",
       "      <th>2692</th>\n",
       "      <td>Run Lola Run</td>\n",
       "    </tr>\n",
       "    <tr>\n",
       "      <th>1207</th>\n",
       "      <td>To Kill a Mockingbird</td>\n",
       "    </tr>\n",
       "    <tr>\n",
       "      <th>3949</th>\n",
       "      <td>Requiem for a Dream</td>\n",
       "    </tr>\n",
       "    <tr>\n",
       "      <th>3039</th>\n",
       "      <td>Trading Places</td>\n",
       "    </tr>\n",
       "  </tbody>\n",
       "</table>\n",
       "</div>"
      ],
      "text/plain": [
       "                         title\n",
       "movieId                       \n",
       "1258               The Shining\n",
       "924      2001: A Space Odyssey\n",
       "3861          The Replacements\n",
       "524                       Rudy\n",
       "3916       Remember the Titans\n",
       "260                  Star Wars\n",
       "2692              Run Lola Run\n",
       "1207     To Kill a Mockingbird\n",
       "3949       Requiem for a Dream\n",
       "3039            Trading Places"
      ]
     },
     "execution_count": 26,
     "metadata": {},
     "output_type": "execute_result"
    }
   ],
   "source": [
    "recommend = prediction[:10].index\n",
    "movies.loc[recommend]"
   ]
  },
  {
   "cell_type": "markdown",
   "metadata": {},
   "source": [
    "# 3. KNN with Means\n",
    "- k가 5인 KNN Basic을 이용해 유저 \"124\" 가 아직 평가하지 않은 영화 \"31\"에 대한 점수를 예측"
   ]
  },
  {
   "cell_type": "code",
   "execution_count": 27,
   "metadata": {
    "ExecuteTime": {
     "end_time": "2022-04-19T02:48:49.612349Z",
     "start_time": "2022-04-19T02:48:49.599356Z"
    }
   },
   "outputs": [],
   "source": [
    "user_id = 124\n",
    "k = 5\n",
    "movie_i = 648"
   ]
  },
  {
   "cell_type": "markdown",
   "metadata": {},
   "source": [
    "pivot함수를 이용해 영화 아이디가 인덱스이고, 유저 아이디가 컬럼, 값이 평가 점수인 movie_user_matrix 생성"
   ]
  },
  {
   "cell_type": "code",
   "execution_count": 28,
   "metadata": {
    "ExecuteTime": {
     "end_time": "2022-04-19T02:48:49.863555Z",
     "start_time": "2022-04-19T02:48:49.614494Z"
    }
   },
   "outputs": [],
   "source": [
    "movie_user_matrix = ratings.pivot(\n",
    "    index=\"movieId\",\n",
    "    columns=\"userId\",\n",
    "    values=\"rating\",\n",
    ")\n",
    "movie_user_matrix = movie_user_matrix.fillna(0)"
   ]
  },
  {
   "cell_type": "markdown",
   "metadata": {},
   "source": [
    "### 3.1 아이템간의 유사도 계산\n",
    "- 영화간의 피어슨 유사도를 계산"
   ]
  },
  {
   "cell_type": "code",
   "execution_count": 29,
   "metadata": {
    "ExecuteTime": {
     "end_time": "2022-04-19T02:48:53.703806Z",
     "start_time": "2022-04-19T02:48:49.863555Z"
    }
   },
   "outputs": [
    {
     "data": {
      "text/plain": [
       "(9066, 9066)"
      ]
     },
     "execution_count": 29,
     "metadata": {},
     "output_type": "execute_result"
    }
   ],
   "source": [
    "movie_similarity = np.corrcoef(movie_user_matrix)\n",
    "\n",
    "movie_similarity = pd.DataFrame(\n",
    "    data=movie_similarity,\n",
    "    index=movie_user_matrix.index,\n",
    "    columns=movie_user_matrix.index,\n",
    ")\n",
    "\n",
    "movie_similarity.shape"
   ]
  },
  {
   "cell_type": "markdown",
   "metadata": {},
   "source": [
    "### 3.2 아이템 i와 비슷한 아이템을 k개 탐색\n",
    "- 영화 \"648\"과 유사한 다른 영화 k개 탐색"
   ]
  },
  {
   "cell_type": "code",
   "execution_count": 30,
   "metadata": {
    "ExecuteTime": {
     "end_time": "2022-04-19T02:48:53.732940Z",
     "start_time": "2022-04-19T02:48:53.708343Z"
    }
   },
   "outputs": [
    {
     "data": {
      "text/plain": [
       "Int64Index([780, 733, 736, 786, 376], dtype='int64', name='movieId')"
      ]
     },
     "execution_count": 30,
     "metadata": {},
     "output_type": "execute_result"
    }
   ],
   "source": [
    "# movie_i와 다른 영화 간의 유사도 추출\n",
    "movie_i_similarity = movie_similarity.loc[movie_i]\n",
    "\n",
    "# 다른 영화와의 유사도 내림차순 정렬\n",
    "movie_i_similarity = movie_i_similarity.sort_values(ascending=False)\n",
    "\n",
    "# 유사도 상위 k개의 유사도와 id 추출\n",
    "# 가장 유사도가 높은 id는 movie_i로 제외\n",
    "top_k_similarity = movie_i_similarity[1: k + 1]\n",
    "top_k_similar_movie_ids = top_k_similarity.index\n",
    "\n",
    "top_k_similar_movie_ids"
   ]
  },
  {
   "cell_type": "code",
   "execution_count": 31,
   "metadata": {
    "ExecuteTime": {
     "end_time": "2022-04-19T02:48:53.747946Z",
     "start_time": "2022-04-19T02:48:53.736949Z"
    }
   },
   "outputs": [
    {
     "data": {
      "text/plain": [
       "movieId\n",
       "780    0.534337\n",
       "733    0.522740\n",
       "736    0.430270\n",
       "786    0.401280\n",
       "376    0.370700\n",
       "Name: 648, dtype: float64"
      ]
     },
     "execution_count": 31,
     "metadata": {},
     "output_type": "execute_result"
    }
   ],
   "source": [
    "top_k_similarity"
   ]
  },
  {
   "cell_type": "markdown",
   "metadata": {},
   "source": [
    "### 3.3 아이템 i의 평균 선호도를 계산\n",
    "- 영화별로 특징이 되는 평균 선호도를 계산\n",
    "- 평점이 0인 경우 평가하지 않음을 반영하기 위해 결측값으로 대체"
   ]
  },
  {
   "cell_type": "code",
   "execution_count": 32,
   "metadata": {
    "ExecuteTime": {
     "end_time": "2022-04-19T02:48:53.975954Z",
     "start_time": "2022-04-19T02:48:53.751955Z"
    }
   },
   "outputs": [
    {
     "data": {
      "text/plain": [
       "movieId\n",
       "1         3.872470\n",
       "2         3.401869\n",
       "3         3.161017\n",
       "4         2.384615\n",
       "5         3.267857\n",
       "            ...   \n",
       "161944    5.000000\n",
       "162376    4.500000\n",
       "162542    5.000000\n",
       "162672    3.000000\n",
       "163949    5.000000\n",
       "Length: 9066, dtype: float64"
      ]
     },
     "execution_count": 32,
     "metadata": {},
     "output_type": "execute_result"
    }
   ],
   "source": [
    "movie_user_matrix = movie_user_matrix.replace(0, np.NaN)\n",
    "movie_bias = movie_user_matrix.mean(1)\n",
    "\n",
    "movie_bias"
   ]
  },
  {
   "cell_type": "markdown",
   "metadata": {},
   "source": [
    "### 3.4 유저가 평가한 K개의 아이템의 선호도의 편차를 유사도 기준으로 가중 평균"
   ]
  },
  {
   "cell_type": "markdown",
   "metadata": {},
   "source": [
    "#### 3.4.1 유저별 영화 평가 점수 편차 계산"
   ]
  },
  {
   "cell_type": "code",
   "execution_count": 33,
   "metadata": {
    "ExecuteTime": {
     "end_time": "2022-04-19T02:48:54.049045Z",
     "start_time": "2022-04-19T02:48:53.978843Z"
    }
   },
   "outputs": [
    {
     "data": {
      "text/html": [
       "<div>\n",
       "<style scoped>\n",
       "    .dataframe tbody tr th:only-of-type {\n",
       "        vertical-align: middle;\n",
       "    }\n",
       "\n",
       "    .dataframe tbody tr th {\n",
       "        vertical-align: top;\n",
       "    }\n",
       "\n",
       "    .dataframe thead th {\n",
       "        text-align: right;\n",
       "    }\n",
       "</style>\n",
       "<table border=\"1\" class=\"dataframe\">\n",
       "  <thead>\n",
       "    <tr style=\"text-align: right;\">\n",
       "      <th>userId</th>\n",
       "      <th>1</th>\n",
       "      <th>2</th>\n",
       "      <th>3</th>\n",
       "      <th>4</th>\n",
       "      <th>5</th>\n",
       "      <th>6</th>\n",
       "      <th>7</th>\n",
       "      <th>8</th>\n",
       "      <th>9</th>\n",
       "      <th>10</th>\n",
       "      <th>...</th>\n",
       "      <th>662</th>\n",
       "      <th>663</th>\n",
       "      <th>664</th>\n",
       "      <th>665</th>\n",
       "      <th>666</th>\n",
       "      <th>667</th>\n",
       "      <th>668</th>\n",
       "      <th>669</th>\n",
       "      <th>670</th>\n",
       "      <th>671</th>\n",
       "    </tr>\n",
       "    <tr>\n",
       "      <th>movieId</th>\n",
       "      <th></th>\n",
       "      <th></th>\n",
       "      <th></th>\n",
       "      <th></th>\n",
       "      <th></th>\n",
       "      <th></th>\n",
       "      <th></th>\n",
       "      <th></th>\n",
       "      <th></th>\n",
       "      <th></th>\n",
       "      <th></th>\n",
       "      <th></th>\n",
       "      <th></th>\n",
       "      <th></th>\n",
       "      <th></th>\n",
       "      <th></th>\n",
       "      <th></th>\n",
       "      <th></th>\n",
       "      <th></th>\n",
       "      <th></th>\n",
       "      <th></th>\n",
       "    </tr>\n",
       "  </thead>\n",
       "  <tbody>\n",
       "    <tr>\n",
       "      <th>1</th>\n",
       "      <td>NaN</td>\n",
       "      <td>NaN</td>\n",
       "      <td>NaN</td>\n",
       "      <td>NaN</td>\n",
       "      <td>NaN</td>\n",
       "      <td>NaN</td>\n",
       "      <td>-0.87247</td>\n",
       "      <td>NaN</td>\n",
       "      <td>0.12753</td>\n",
       "      <td>NaN</td>\n",
       "      <td>...</td>\n",
       "      <td>NaN</td>\n",
       "      <td>0.12753</td>\n",
       "      <td>-0.37247</td>\n",
       "      <td>NaN</td>\n",
       "      <td>NaN</td>\n",
       "      <td>NaN</td>\n",
       "      <td>NaN</td>\n",
       "      <td>NaN</td>\n",
       "      <td>0.12753</td>\n",
       "      <td>1.12753</td>\n",
       "    </tr>\n",
       "    <tr>\n",
       "      <th>2</th>\n",
       "      <td>NaN</td>\n",
       "      <td>NaN</td>\n",
       "      <td>NaN</td>\n",
       "      <td>NaN</td>\n",
       "      <td>NaN</td>\n",
       "      <td>NaN</td>\n",
       "      <td>NaN</td>\n",
       "      <td>NaN</td>\n",
       "      <td>NaN</td>\n",
       "      <td>NaN</td>\n",
       "      <td>...</td>\n",
       "      <td>1.598131</td>\n",
       "      <td>NaN</td>\n",
       "      <td>NaN</td>\n",
       "      <td>-0.401869</td>\n",
       "      <td>NaN</td>\n",
       "      <td>NaN</td>\n",
       "      <td>NaN</td>\n",
       "      <td>NaN</td>\n",
       "      <td>NaN</td>\n",
       "      <td>NaN</td>\n",
       "    </tr>\n",
       "    <tr>\n",
       "      <th>3</th>\n",
       "      <td>NaN</td>\n",
       "      <td>NaN</td>\n",
       "      <td>NaN</td>\n",
       "      <td>NaN</td>\n",
       "      <td>0.838983</td>\n",
       "      <td>NaN</td>\n",
       "      <td>NaN</td>\n",
       "      <td>NaN</td>\n",
       "      <td>NaN</td>\n",
       "      <td>NaN</td>\n",
       "      <td>...</td>\n",
       "      <td>NaN</td>\n",
       "      <td>NaN</td>\n",
       "      <td>NaN</td>\n",
       "      <td>-0.161017</td>\n",
       "      <td>NaN</td>\n",
       "      <td>NaN</td>\n",
       "      <td>NaN</td>\n",
       "      <td>NaN</td>\n",
       "      <td>NaN</td>\n",
       "      <td>NaN</td>\n",
       "    </tr>\n",
       "    <tr>\n",
       "      <th>4</th>\n",
       "      <td>NaN</td>\n",
       "      <td>NaN</td>\n",
       "      <td>NaN</td>\n",
       "      <td>NaN</td>\n",
       "      <td>NaN</td>\n",
       "      <td>NaN</td>\n",
       "      <td>NaN</td>\n",
       "      <td>NaN</td>\n",
       "      <td>NaN</td>\n",
       "      <td>NaN</td>\n",
       "      <td>...</td>\n",
       "      <td>NaN</td>\n",
       "      <td>NaN</td>\n",
       "      <td>NaN</td>\n",
       "      <td>NaN</td>\n",
       "      <td>NaN</td>\n",
       "      <td>NaN</td>\n",
       "      <td>NaN</td>\n",
       "      <td>NaN</td>\n",
       "      <td>NaN</td>\n",
       "      <td>NaN</td>\n",
       "    </tr>\n",
       "    <tr>\n",
       "      <th>5</th>\n",
       "      <td>NaN</td>\n",
       "      <td>NaN</td>\n",
       "      <td>NaN</td>\n",
       "      <td>NaN</td>\n",
       "      <td>NaN</td>\n",
       "      <td>NaN</td>\n",
       "      <td>NaN</td>\n",
       "      <td>NaN</td>\n",
       "      <td>NaN</td>\n",
       "      <td>NaN</td>\n",
       "      <td>...</td>\n",
       "      <td>NaN</td>\n",
       "      <td>NaN</td>\n",
       "      <td>NaN</td>\n",
       "      <td>-0.267857</td>\n",
       "      <td>NaN</td>\n",
       "      <td>NaN</td>\n",
       "      <td>NaN</td>\n",
       "      <td>NaN</td>\n",
       "      <td>NaN</td>\n",
       "      <td>NaN</td>\n",
       "    </tr>\n",
       "    <tr>\n",
       "      <th>...</th>\n",
       "      <td>...</td>\n",
       "      <td>...</td>\n",
       "      <td>...</td>\n",
       "      <td>...</td>\n",
       "      <td>...</td>\n",
       "      <td>...</td>\n",
       "      <td>...</td>\n",
       "      <td>...</td>\n",
       "      <td>...</td>\n",
       "      <td>...</td>\n",
       "      <td>...</td>\n",
       "      <td>...</td>\n",
       "      <td>...</td>\n",
       "      <td>...</td>\n",
       "      <td>...</td>\n",
       "      <td>...</td>\n",
       "      <td>...</td>\n",
       "      <td>...</td>\n",
       "      <td>...</td>\n",
       "      <td>...</td>\n",
       "      <td>...</td>\n",
       "    </tr>\n",
       "    <tr>\n",
       "      <th>161944</th>\n",
       "      <td>NaN</td>\n",
       "      <td>NaN</td>\n",
       "      <td>NaN</td>\n",
       "      <td>NaN</td>\n",
       "      <td>NaN</td>\n",
       "      <td>NaN</td>\n",
       "      <td>NaN</td>\n",
       "      <td>NaN</td>\n",
       "      <td>NaN</td>\n",
       "      <td>NaN</td>\n",
       "      <td>...</td>\n",
       "      <td>NaN</td>\n",
       "      <td>NaN</td>\n",
       "      <td>NaN</td>\n",
       "      <td>NaN</td>\n",
       "      <td>NaN</td>\n",
       "      <td>NaN</td>\n",
       "      <td>NaN</td>\n",
       "      <td>NaN</td>\n",
       "      <td>NaN</td>\n",
       "      <td>NaN</td>\n",
       "    </tr>\n",
       "    <tr>\n",
       "      <th>162376</th>\n",
       "      <td>NaN</td>\n",
       "      <td>NaN</td>\n",
       "      <td>NaN</td>\n",
       "      <td>NaN</td>\n",
       "      <td>NaN</td>\n",
       "      <td>NaN</td>\n",
       "      <td>NaN</td>\n",
       "      <td>NaN</td>\n",
       "      <td>NaN</td>\n",
       "      <td>NaN</td>\n",
       "      <td>...</td>\n",
       "      <td>NaN</td>\n",
       "      <td>NaN</td>\n",
       "      <td>NaN</td>\n",
       "      <td>NaN</td>\n",
       "      <td>NaN</td>\n",
       "      <td>NaN</td>\n",
       "      <td>NaN</td>\n",
       "      <td>NaN</td>\n",
       "      <td>NaN</td>\n",
       "      <td>NaN</td>\n",
       "    </tr>\n",
       "    <tr>\n",
       "      <th>162542</th>\n",
       "      <td>NaN</td>\n",
       "      <td>NaN</td>\n",
       "      <td>NaN</td>\n",
       "      <td>NaN</td>\n",
       "      <td>NaN</td>\n",
       "      <td>NaN</td>\n",
       "      <td>NaN</td>\n",
       "      <td>NaN</td>\n",
       "      <td>NaN</td>\n",
       "      <td>NaN</td>\n",
       "      <td>...</td>\n",
       "      <td>NaN</td>\n",
       "      <td>NaN</td>\n",
       "      <td>NaN</td>\n",
       "      <td>NaN</td>\n",
       "      <td>NaN</td>\n",
       "      <td>NaN</td>\n",
       "      <td>NaN</td>\n",
       "      <td>NaN</td>\n",
       "      <td>NaN</td>\n",
       "      <td>NaN</td>\n",
       "    </tr>\n",
       "    <tr>\n",
       "      <th>162672</th>\n",
       "      <td>NaN</td>\n",
       "      <td>NaN</td>\n",
       "      <td>NaN</td>\n",
       "      <td>NaN</td>\n",
       "      <td>NaN</td>\n",
       "      <td>NaN</td>\n",
       "      <td>NaN</td>\n",
       "      <td>NaN</td>\n",
       "      <td>NaN</td>\n",
       "      <td>NaN</td>\n",
       "      <td>...</td>\n",
       "      <td>NaN</td>\n",
       "      <td>NaN</td>\n",
       "      <td>NaN</td>\n",
       "      <td>NaN</td>\n",
       "      <td>NaN</td>\n",
       "      <td>NaN</td>\n",
       "      <td>NaN</td>\n",
       "      <td>NaN</td>\n",
       "      <td>NaN</td>\n",
       "      <td>NaN</td>\n",
       "    </tr>\n",
       "    <tr>\n",
       "      <th>163949</th>\n",
       "      <td>NaN</td>\n",
       "      <td>NaN</td>\n",
       "      <td>NaN</td>\n",
       "      <td>NaN</td>\n",
       "      <td>NaN</td>\n",
       "      <td>NaN</td>\n",
       "      <td>NaN</td>\n",
       "      <td>NaN</td>\n",
       "      <td>NaN</td>\n",
       "      <td>NaN</td>\n",
       "      <td>...</td>\n",
       "      <td>NaN</td>\n",
       "      <td>NaN</td>\n",
       "      <td>NaN</td>\n",
       "      <td>NaN</td>\n",
       "      <td>NaN</td>\n",
       "      <td>NaN</td>\n",
       "      <td>NaN</td>\n",
       "      <td>NaN</td>\n",
       "      <td>NaN</td>\n",
       "      <td>NaN</td>\n",
       "    </tr>\n",
       "  </tbody>\n",
       "</table>\n",
       "<p>9066 rows × 671 columns</p>\n",
       "</div>"
      ],
      "text/plain": [
       "userId   1    2    3    4         5    6        7    8        9    10   ...  \\\n",
       "movieId                                                                 ...   \n",
       "1        NaN  NaN  NaN  NaN       NaN  NaN -0.87247  NaN  0.12753  NaN  ...   \n",
       "2        NaN  NaN  NaN  NaN       NaN  NaN      NaN  NaN      NaN  NaN  ...   \n",
       "3        NaN  NaN  NaN  NaN  0.838983  NaN      NaN  NaN      NaN  NaN  ...   \n",
       "4        NaN  NaN  NaN  NaN       NaN  NaN      NaN  NaN      NaN  NaN  ...   \n",
       "5        NaN  NaN  NaN  NaN       NaN  NaN      NaN  NaN      NaN  NaN  ...   \n",
       "...      ...  ...  ...  ...       ...  ...      ...  ...      ...  ...  ...   \n",
       "161944   NaN  NaN  NaN  NaN       NaN  NaN      NaN  NaN      NaN  NaN  ...   \n",
       "162376   NaN  NaN  NaN  NaN       NaN  NaN      NaN  NaN      NaN  NaN  ...   \n",
       "162542   NaN  NaN  NaN  NaN       NaN  NaN      NaN  NaN      NaN  NaN  ...   \n",
       "162672   NaN  NaN  NaN  NaN       NaN  NaN      NaN  NaN      NaN  NaN  ...   \n",
       "163949   NaN  NaN  NaN  NaN       NaN  NaN      NaN  NaN      NaN  NaN  ...   \n",
       "\n",
       "userId        662      663      664       665  666  667  668  669      670  \\\n",
       "movieId                                                                      \n",
       "1             NaN  0.12753 -0.37247       NaN  NaN  NaN  NaN  NaN  0.12753   \n",
       "2        1.598131      NaN      NaN -0.401869  NaN  NaN  NaN  NaN      NaN   \n",
       "3             NaN      NaN      NaN -0.161017  NaN  NaN  NaN  NaN      NaN   \n",
       "4             NaN      NaN      NaN       NaN  NaN  NaN  NaN  NaN      NaN   \n",
       "5             NaN      NaN      NaN -0.267857  NaN  NaN  NaN  NaN      NaN   \n",
       "...           ...      ...      ...       ...  ...  ...  ...  ...      ...   \n",
       "161944        NaN      NaN      NaN       NaN  NaN  NaN  NaN  NaN      NaN   \n",
       "162376        NaN      NaN      NaN       NaN  NaN  NaN  NaN  NaN      NaN   \n",
       "162542        NaN      NaN      NaN       NaN  NaN  NaN  NaN  NaN      NaN   \n",
       "162672        NaN      NaN      NaN       NaN  NaN  NaN  NaN  NaN      NaN   \n",
       "163949        NaN      NaN      NaN       NaN  NaN  NaN  NaN  NaN      NaN   \n",
       "\n",
       "userId       671  \n",
       "movieId           \n",
       "1        1.12753  \n",
       "2            NaN  \n",
       "3            NaN  \n",
       "4            NaN  \n",
       "5            NaN  \n",
       "...          ...  \n",
       "161944       NaN  \n",
       "162376       NaN  \n",
       "162542       NaN  \n",
       "162672       NaN  \n",
       "163949       NaN  \n",
       "\n",
       "[9066 rows x 671 columns]"
      ]
     },
     "execution_count": 33,
     "metadata": {},
     "output_type": "execute_result"
    }
   ],
   "source": [
    "movie_user_matrix_wo_bias = movie_user_matrix.sub(movie_bias, axis=0)\n",
    "movie_user_matrix_wo_bias"
   ]
  },
  {
   "cell_type": "markdown",
   "metadata": {},
   "source": [
    "#### 3.4.2 상위 k개의 선호도 추출"
   ]
  },
  {
   "cell_type": "code",
   "execution_count": 34,
   "metadata": {
    "ExecuteTime": {
     "end_time": "2022-04-19T02:48:54.065055Z",
     "start_time": "2022-04-19T02:48:54.052045Z"
    }
   },
   "outputs": [
    {
     "data": {
      "text/plain": [
       "movieId\n",
       "780         NaN\n",
       "733         NaN\n",
       "736         NaN\n",
       "786   -0.108696\n",
       "376         NaN\n",
       "Name: 124, dtype: float64"
      ]
     },
     "execution_count": 34,
     "metadata": {},
     "output_type": "execute_result"
    }
   ],
   "source": [
    "tok_k_similar_ratings = movie_user_matrix_wo_bias.loc[top_k_similar_movie_ids, user_id]\n",
    "top_k_weighted_ratings = tok_k_similar_ratings * top_k_similarity\n",
    "\n",
    "tok_k_similar_ratings"
   ]
  },
  {
   "cell_type": "code",
   "execution_count": 35,
   "metadata": {
    "ExecuteTime": {
     "end_time": "2022-04-19T02:48:54.080045Z",
     "start_time": "2022-04-19T02:48:54.068042Z"
    }
   },
   "outputs": [
    {
     "data": {
      "text/plain": [
       "movieId\n",
       "780         NaN\n",
       "733         NaN\n",
       "736         NaN\n",
       "786   -0.043617\n",
       "376         NaN\n",
       "dtype: float64"
      ]
     },
     "execution_count": 35,
     "metadata": {},
     "output_type": "execute_result"
    }
   ],
   "source": [
    "top_k_weighted_ratings"
   ]
  },
  {
   "cell_type": "code",
   "execution_count": 36,
   "metadata": {
    "ExecuteTime": {
     "end_time": "2022-04-19T02:48:54.096042Z",
     "start_time": "2022-04-19T02:48:54.084043Z"
    }
   },
   "outputs": [
    {
     "data": {
      "text/plain": [
       "movieId\n",
       "780    0.00000\n",
       "733    0.00000\n",
       "736    0.00000\n",
       "786    0.40128\n",
       "376    0.00000\n",
       "dtype: float64"
      ]
     },
     "execution_count": 36,
     "metadata": {},
     "output_type": "execute_result"
    }
   ],
   "source": [
    "# 추출된 영화중 평가 점수가 있는 영화에 대한 가중치만 남김\n",
    "top_k_weight = (pd.notna(tok_k_similar_ratings)) * top_k_similarity\n",
    "top_k_weight"
   ]
  },
  {
   "cell_type": "markdown",
   "metadata": {},
   "source": [
    "#### 3.4.3 가중 평균\n",
    "- 유사도가 곱해진 평가 점수의 편차 합을 유사도 합으로 나눔"
   ]
  },
  {
   "cell_type": "code",
   "execution_count": 37,
   "metadata": {
    "ExecuteTime": {
     "end_time": "2022-04-19T02:48:54.112043Z",
     "start_time": "2022-04-19T02:48:54.100046Z"
    }
   },
   "outputs": [
    {
     "data": {
      "text/plain": [
       "0.4012802956315511"
      ]
     },
     "execution_count": 37,
     "metadata": {},
     "output_type": "execute_result"
    }
   ],
   "source": [
    "weighted_rating = top_k_weighted_ratings.sum()\n",
    "weight = top_k_weight.sum()\n",
    "\n",
    "weight"
   ]
  },
  {
   "cell_type": "code",
   "execution_count": 38,
   "metadata": {
    "ExecuteTime": {
     "end_time": "2022-04-19T02:48:54.128043Z",
     "start_time": "2022-04-19T02:48:54.116040Z"
    }
   },
   "outputs": [
    {
     "data": {
      "text/plain": [
       "3.5327380952380953"
      ]
     },
     "execution_count": 38,
     "metadata": {},
     "output_type": "execute_result"
    }
   ],
   "source": [
    "# 영화 평균 평점 추출\n",
    "bias = movie_bias.loc[movie_i]\n",
    "bias"
   ]
  },
  {
   "cell_type": "code",
   "execution_count": 39,
   "metadata": {
    "ExecuteTime": {
     "end_time": "2022-04-19T02:48:54.144077Z",
     "start_time": "2022-04-19T02:48:54.131044Z"
    }
   },
   "outputs": [
    {
     "data": {
      "text/plain": [
       "3.4240424430641823"
      ]
     },
     "execution_count": 39,
     "metadata": {},
     "output_type": "execute_result"
    }
   ],
   "source": [
    "if weight != 0:\n",
    "    # 평균 평점에 가중 편차 합\n",
    "    prediction_rating = bias + weighted_rating / weight\n",
    "\n",
    "# weight가 0인 경우 유사 영화 모두 평가하지 않은 경우\n",
    "else:\n",
    "    prediction_rating = 0\n",
    "    \n",
    "prediction_rating    "
   ]
  },
  {
   "cell_type": "markdown",
   "metadata": {},
   "source": [
    "### 3.5 예측 선호도가 높은 아이템을 유저에게 추천\n",
    "- 모든 영화에 대해서 점수를 예측하고 예측 평가 점수가 높은 영화를 유저에게 추천"
   ]
  },
  {
   "cell_type": "code",
   "execution_count": 40,
   "metadata": {
    "ExecuteTime": {
     "end_time": "2022-04-19T02:49:03.880026Z",
     "start_time": "2022-04-19T02:48:54.148044Z"
    }
   },
   "outputs": [],
   "source": [
    "prediction_dict = {}\n",
    "\n",
    "# 모든 영화 아이디에 대해 평점 예측\n",
    "for movie_id in movie_user_matrix.index:\n",
    "\n",
    "    # 이미 유저가 평가한 경우 제외\n",
    "    if movie_user_matrix.loc[movie_i, user_id] > 0:\n",
    "        continue\n",
    "    \n",
    "    tok_k_similar_ratings = movie_user_matrix_wo_bias.loc[top_k_similar_movie_ids, user_id]\n",
    "\n",
    "    top_k_weighted_ratings = tok_k_similar_ratings * top_k_similarity\n",
    "    top_k_weight = (tok_k_similar_ratings != 0) * top_k_similarity\n",
    "\n",
    "    weighted_rating = top_k_weighted_ratings.sum()\n",
    "    weight = top_k_weight.sum()\n",
    "\n",
    "    bias = movie_bias.loc[movie_i]\n",
    "\n",
    "    if weight > 0:\n",
    "        prediction_rating = bias + weighted_rating / weight\n",
    "    else:\n",
    "        prediction_rating = 0\n",
    "\n",
    "    # 영화 아이디 별로 예측 평가 점수 저장\n",
    "    prediction_dict[movie_id] = prediction_rating"
   ]
  },
  {
   "cell_type": "code",
   "execution_count": 41,
   "metadata": {
    "ExecuteTime": {
     "end_time": "2022-04-19T02:49:03.913865Z",
     "start_time": "2022-04-19T02:49:03.880026Z"
    }
   },
   "outputs": [
    {
     "data": {
      "text/html": [
       "<div>\n",
       "<style scoped>\n",
       "    .dataframe tbody tr th:only-of-type {\n",
       "        vertical-align: middle;\n",
       "    }\n",
       "\n",
       "    .dataframe tbody tr th {\n",
       "        vertical-align: top;\n",
       "    }\n",
       "\n",
       "    .dataframe thead th {\n",
       "        text-align: right;\n",
       "    }\n",
       "</style>\n",
       "<table border=\"1\" class=\"dataframe\">\n",
       "  <thead>\n",
       "    <tr style=\"text-align: right;\">\n",
       "      <th></th>\n",
       "      <th>title</th>\n",
       "    </tr>\n",
       "    <tr>\n",
       "      <th>movieId</th>\n",
       "      <th></th>\n",
       "    </tr>\n",
       "  </thead>\n",
       "  <tbody>\n",
       "    <tr>\n",
       "      <th>163949</th>\n",
       "      <td>The Beatles: Eight Days a Week - The Touring Y...</td>\n",
       "    </tr>\n",
       "    <tr>\n",
       "      <th>3774</th>\n",
       "      <td>House Party 2</td>\n",
       "    </tr>\n",
       "    <tr>\n",
       "      <th>3785</th>\n",
       "      <td>Scary Movie</td>\n",
       "    </tr>\n",
       "    <tr>\n",
       "      <th>3784</th>\n",
       "      <td>The Kid</td>\n",
       "    </tr>\n",
       "    <tr>\n",
       "      <th>3783</th>\n",
       "      <td>Croupier</td>\n",
       "    </tr>\n",
       "    <tr>\n",
       "      <th>3780</th>\n",
       "      <td>Rocketship X-M</td>\n",
       "    </tr>\n",
       "    <tr>\n",
       "      <th>3777</th>\n",
       "      <td>Nekromantik</td>\n",
       "    </tr>\n",
       "    <tr>\n",
       "      <th>3775</th>\n",
       "      <td>Make Mine Music</td>\n",
       "    </tr>\n",
       "    <tr>\n",
       "      <th>3773</th>\n",
       "      <td>House Party</td>\n",
       "    </tr>\n",
       "    <tr>\n",
       "      <th>3787</th>\n",
       "      <td>Shower</td>\n",
       "    </tr>\n",
       "  </tbody>\n",
       "</table>\n",
       "</div>"
      ],
      "text/plain": [
       "                                                     title\n",
       "movieId                                                   \n",
       "163949   The Beatles: Eight Days a Week - The Touring Y...\n",
       "3774                                         House Party 2\n",
       "3785                                           Scary Movie\n",
       "3784                                               The Kid\n",
       "3783                                              Croupier\n",
       "3780                                        Rocketship X-M\n",
       "3777                                           Nekromantik\n",
       "3775                                       Make Mine Music\n",
       "3773                                           House Party\n",
       "3787                                                Shower"
      ]
     },
     "execution_count": 41,
     "metadata": {},
     "output_type": "execute_result"
    }
   ],
   "source": [
    "# 영화 아이디별 예측 평가 점수를 내림차순 정렬\n",
    "prediction = pd.Series(prediction_dict).sort_values(ascending=False)\n",
    "\n",
    "# 예측 평가 점수 상위 10개의 영화 아이디 추출\n",
    "recommend = prediction[:10].index\n",
    "movies.loc[recommend]"
   ]
  }
 ],
 "metadata": {
  "hide_input": false,
  "kernelspec": {
   "display_name": "ojt",
   "language": "python",
   "name": "ojt"
  },
  "language_info": {
   "codemirror_mode": {
    "name": "ipython",
    "version": 3
   },
   "file_extension": ".py",
   "mimetype": "text/x-python",
   "name": "python",
   "nbconvert_exporter": "python",
   "pygments_lexer": "ipython3",
   "version": "3.6.5"
  },
  "toc": {
   "base_numbering": 1,
   "nav_menu": {},
   "number_sections": false,
   "sideBar": true,
   "skip_h1_title": false,
   "title_cell": "Table of Contents",
   "title_sidebar": "Contents",
   "toc_cell": false,
   "toc_position": {},
   "toc_section_display": true,
   "toc_window_display": false
  },
  "varInspector": {
   "cols": {
    "lenName": 16,
    "lenType": 16,
    "lenVar": 40
   },
   "kernels_config": {
    "python": {
     "delete_cmd_postfix": "",
     "delete_cmd_prefix": "del ",
     "library": "var_list.py",
     "varRefreshCmd": "print(var_dic_list())"
    },
    "r": {
     "delete_cmd_postfix": ") ",
     "delete_cmd_prefix": "rm(",
     "library": "var_list.r",
     "varRefreshCmd": "cat(var_dic_list()) "
    }
   },
   "types_to_exclude": [
    "module",
    "function",
    "builtin_function_or_method",
    "instance",
    "_Feature"
   ],
   "window_display": false
  }
 },
 "nbformat": 4,
 "nbformat_minor": 2
}
