{
 "cells": [
  {
   "cell_type": "markdown",
   "metadata": {},
   "source": [
    "# 1. Sample Data and Boosting Regression"
   ]
  },
  {
   "cell_type": "code",
   "execution_count": 1,
   "metadata": {
    "ExecuteTime": {
     "end_time": "2022-04-13T05:29:41.707635Z",
     "start_time": "2022-04-13T05:29:40.142473Z"
    }
   },
   "outputs": [],
   "source": [
    "import pandas as pd\n",
    "import numpy as np\n",
    "import matplotlib.pyplot as plt\n",
    "\n",
    "np.random.seed(2021)"
   ]
  },
  {
   "cell_type": "markdown",
   "metadata": {},
   "source": [
    "### 1.1 Data"
   ]
  },
  {
   "cell_type": "code",
   "execution_count": 2,
   "metadata": {
    "ExecuteTime": {
     "end_time": "2022-04-13T05:29:41.739635Z",
     "start_time": "2022-04-13T05:29:41.718663Z"
    }
   },
   "outputs": [],
   "source": [
    "data = np.linspace(0, 6, 150)[:, np.newaxis]\n",
    "\n",
    "label = np.sin(data).ravel() + np.sin(6 * data).ravel()\n",
    "noise = np.random.normal(data.shape[0]) * 0.01\n",
    "label += noise"
   ]
  },
  {
   "cell_type": "code",
   "execution_count": 3,
   "metadata": {
    "ExecuteTime": {
     "end_time": "2022-04-13T05:29:42.133633Z",
     "start_time": "2022-04-13T05:29:41.743635Z"
    }
   },
   "outputs": [
    {
     "data": {
      "text/plain": [
       "<matplotlib.collections.PathCollection at 0x282d0b35ac8>"
      ]
     },
     "execution_count": 3,
     "metadata": {},
     "output_type": "execute_result"
    },
    {
     "data": {
      "image/png": "[encoded data removed]",
      "text/plain": [
       "<Figure size 432x288 with 1 Axes>"
      ]
     },
     "metadata": {
      "needs_background": "light"
     },
     "output_type": "display_data"
    }
   ],
   "source": [
    "plt.scatter(data, label)"
   ]
  },
  {
   "cell_type": "markdown",
   "metadata": {},
   "source": [
    "### 1.2 Split\n",
    "시계열 데이터라고 가정후 데이터 분리"
   ]
  },
  {
   "cell_type": "code",
   "execution_count": 4,
   "metadata": {
    "ExecuteTime": {
     "end_time": "2022-04-13T05:29:42.149636Z",
     "start_time": "2022-04-13T05:29:42.137645Z"
    }
   },
   "outputs": [],
   "source": [
    "train_size = 125\n",
    "train_data, test_data = data[:train_size], data[train_size:]\n",
    "train_label, test_label = label[:train_size], label[train_size:]"
   ]
  },
  {
   "cell_type": "code",
   "execution_count": 5,
   "metadata": {
    "ExecuteTime": {
     "end_time": "2022-04-13T05:29:42.534643Z",
     "start_time": "2022-04-13T05:29:42.155649Z"
    }
   },
   "outputs": [
    {
     "data": {
      "text/plain": [
       "<matplotlib.collections.PathCollection at 0x282d12d7f98>"
      ]
     },
     "execution_count": 5,
     "metadata": {},
     "output_type": "execute_result"
    },
    {
     "data": {
      "image/png": "[encoded data removed]",
      "text/plain": [
       "<Figure size 432x288 with 1 Axes>"
      ]
     },
     "metadata": {
      "needs_background": "light"
     },
     "output_type": "display_data"
    }
   ],
   "source": [
    "plt.scatter(train_data, train_label)\n",
    "plt.scatter(test_data, test_label, color=\"C1\")"
   ]
  },
  {
   "cell_type": "markdown",
   "metadata": {},
   "source": [
    "# 2. Decision Tree"
   ]
  },
  {
   "cell_type": "code",
   "execution_count": 6,
   "metadata": {
    "ExecuteTime": {
     "end_time": "2022-04-13T05:29:44.743648Z",
     "start_time": "2022-04-13T05:29:42.538636Z"
    }
   },
   "outputs": [],
   "source": [
    "from sklearn.tree import DecisionTreeRegressor\n",
    "\n",
    "tree = DecisionTreeRegressor(max_depth=2)"
   ]
  },
  {
   "cell_type": "markdown",
   "metadata": {},
   "source": [
    "### 2.1 Learning"
   ]
  },
  {
   "cell_type": "code",
   "execution_count": 7,
   "metadata": {
    "ExecuteTime": {
     "end_time": "2022-04-13T05:29:44.775640Z",
     "start_time": "2022-04-13T05:29:44.748636Z"
    }
   },
   "outputs": [
    {
     "data": {
      "text/plain": [
       "DecisionTreeRegressor(max_depth=2)"
      ]
     },
     "execution_count": 7,
     "metadata": {},
     "output_type": "execute_result"
    }
   ],
   "source": [
    "tree.fit(train_data, train_label)"
   ]
  },
  {
   "cell_type": "markdown",
   "metadata": {},
   "source": [
    "### 2.2 Predict"
   ]
  },
  {
   "cell_type": "code",
   "execution_count": 8,
   "metadata": {
    "ExecuteTime": {
     "end_time": "2022-04-13T05:29:44.791636Z",
     "start_time": "2022-04-13T05:29:44.780637Z"
    }
   },
   "outputs": [],
   "source": [
    "tree_train_pred = tree.predict(train_data)\n",
    "tree_test_pred = tree.predict(test_data)"
   ]
  },
  {
   "cell_type": "markdown",
   "metadata": {},
   "source": [
    "### 2.3 Evalution"
   ]
  },
  {
   "cell_type": "code",
   "execution_count": 9,
   "metadata": {
    "ExecuteTime": {
     "end_time": "2022-04-13T05:29:44.807660Z",
     "start_time": "2022-04-13T05:29:44.795639Z"
    }
   },
   "outputs": [],
   "source": [
    "from sklearn.metrics import mean_squared_error\n",
    "\n",
    "tree_train_mse = mean_squared_error(train_label, tree_train_pred)\n",
    "tree_test_mse = mean_squared_error(test_label, tree_test_pred)"
   ]
  },
  {
   "cell_type": "code",
   "execution_count": 10,
   "metadata": {
    "ExecuteTime": {
     "end_time": "2022-04-13T05:29:44.823636Z",
     "start_time": "2022-04-13T05:29:44.811643Z"
    }
   },
   "outputs": [
    {
     "name": "stdout",
     "output_type": "stream",
     "text": [
      "Tree mean squared error is 0.3669\n",
      "Tree mean squared error is 1.8188\n"
     ]
    }
   ],
   "source": [
    "print(f\"Tree mean squared error is {tree_train_mse:.4f}\")\n",
    "print(f\"Tree mean squared error is {tree_test_mse:.4f}\")"
   ]
  },
  {
   "cell_type": "markdown",
   "metadata": {},
   "source": [
    "### 2.4 Visualization"
   ]
  },
  {
   "cell_type": "code",
   "execution_count": 11,
   "metadata": {
    "ExecuteTime": {
     "end_time": "2022-04-13T05:29:45.091633Z",
     "start_time": "2022-04-13T05:29:44.827635Z"
    }
   },
   "outputs": [
    {
     "data": {
      "text/plain": [
       "[<matplotlib.lines.Line2D at 0x282d99a2f98>]"
      ]
     },
     "execution_count": 11,
     "metadata": {},
     "output_type": "execute_result"
    },
    {
     "data": {
      "image/png": "[encoded data removed]",
      "text/plain": [
       "<Figure size 432x288 with 1 Axes>"
      ]
     },
     "metadata": {
      "needs_background": "light"
     },
     "output_type": "display_data"
    }
   ],
   "source": [
    "plt.scatter(data, label)\n",
    "plt.plot(train_data, tree_train_pred)\n",
    "plt.plot(test_data, tree_test_pred)"
   ]
  },
  {
   "cell_type": "markdown",
   "metadata": {},
   "source": [
    "# 3. AdaBoost\n",
    "AdaBoost는 `sklearn.ensemble`의 `AdaBoostRegressor`로 생성  \n",
    "다른 모델들과는 다르게 `base_estimator`를 선언  \n",
    "가장 간단한 if else로 데이터가 분류 될 수 있도록 depth가 1인 tree로 base estimator로 설정"
   ]
  },
  {
   "cell_type": "code",
   "execution_count": 12,
   "metadata": {
    "ExecuteTime": {
     "end_time": "2022-04-13T05:29:45.137646Z",
     "start_time": "2022-04-13T05:29:45.094636Z"
    }
   },
   "outputs": [],
   "source": [
    "from sklearn.ensemble import AdaBoostRegressor\n",
    "\n",
    "ada_boost = AdaBoostRegressor(DecisionTreeRegressor(max_depth=1))"
   ]
  },
  {
   "cell_type": "markdown",
   "metadata": {},
   "source": [
    "### 3.1 Learning"
   ]
  },
  {
   "cell_type": "code",
   "execution_count": 13,
   "metadata": {
    "ExecuteTime": {
     "end_time": "2022-04-13T05:29:45.201646Z",
     "start_time": "2022-04-13T05:29:45.140634Z"
    }
   },
   "outputs": [
    {
     "data": {
      "text/plain": [
       "AdaBoostRegressor(base_estimator=DecisionTreeRegressor(max_depth=1))"
      ]
     },
     "execution_count": 13,
     "metadata": {},
     "output_type": "execute_result"
    }
   ],
   "source": [
    "ada_boost.fit(train_data, train_label)"
   ]
  },
  {
   "cell_type": "markdown",
   "metadata": {},
   "source": [
    "### 3.2 Predict"
   ]
  },
  {
   "cell_type": "code",
   "execution_count": 14,
   "metadata": {
    "ExecuteTime": {
     "end_time": "2022-04-13T05:29:45.217637Z",
     "start_time": "2022-04-13T05:29:45.204647Z"
    }
   },
   "outputs": [],
   "source": [
    "ada_boost_train_pred = ada_boost.predict(train_data)\n",
    "ada_boost_test_pred = ada_boost.predict(test_data)"
   ]
  },
  {
   "cell_type": "markdown",
   "metadata": {},
   "source": [
    "### 3.3 Evalution"
   ]
  },
  {
   "cell_type": "code",
   "execution_count": 15,
   "metadata": {
    "ExecuteTime": {
     "end_time": "2022-04-13T05:29:45.233639Z",
     "start_time": "2022-04-13T05:29:45.220636Z"
    }
   },
   "outputs": [],
   "source": [
    "ada_boost_train_mse = mean_squared_error(train_label, ada_boost_train_pred)\n",
    "ada_boost_test_mse = mean_squared_error(test_label, ada_boost_test_pred)"
   ]
  },
  {
   "cell_type": "code",
   "execution_count": 16,
   "metadata": {
    "ExecuteTime": {
     "end_time": "2022-04-13T05:29:45.249636Z",
     "start_time": "2022-04-13T05:29:45.236637Z"
    }
   },
   "outputs": [
    {
     "name": "stdout",
     "output_type": "stream",
     "text": [
      "Ada Boost Train mean squared error is 0.4615\n",
      "Ada Boost Test mean squared error is 0.5289\n"
     ]
    }
   ],
   "source": [
    "print(f\"Ada Boost Train mean squared error is {ada_boost_train_mse:.4f}\")\n",
    "print(f\"Ada Boost Test mean squared error is {ada_boost_test_mse:.4f}\")"
   ]
  },
  {
   "cell_type": "markdown",
   "metadata": {},
   "source": [
    "### 3.4 Visualization"
   ]
  },
  {
   "cell_type": "code",
   "execution_count": 17,
   "metadata": {
    "ExecuteTime": {
     "end_time": "2022-04-13T05:29:45.503635Z",
     "start_time": "2022-04-13T05:29:45.253634Z"
    }
   },
   "outputs": [
    {
     "data": {
      "text/plain": [
       "[<matplotlib.lines.Line2D at 0x282d9ac4400>]"
      ]
     },
     "execution_count": 17,
     "metadata": {},
     "output_type": "execute_result"
    },
    {
     "data": {
      "image/png": "[encoded data removed]",
      "text/plain": [
       "<Figure size 432x288 with 1 Axes>"
      ]
     },
     "metadata": {
      "needs_background": "light"
     },
     "output_type": "display_data"
    }
   ],
   "source": [
    "plt.scatter(data, label)\n",
    "plt.plot(train_data, ada_boost_train_pred)\n",
    "plt.plot(test_data, ada_boost_test_pred)"
   ]
  },
  {
   "cell_type": "markdown",
   "metadata": {},
   "source": [
    "# 4. GradientBoost\n",
    "Gradient Boost는 `sklearn.ensemble` 의 `GradientBoostingRegressor`로 생성   \n",
    "Gradient Boost또한 간단한 if else로 만들 수 있도록 max_depth를 1로 설정"
   ]
  },
  {
   "cell_type": "code",
   "execution_count": 18,
   "metadata": {
    "ExecuteTime": {
     "end_time": "2022-04-13T05:29:45.518636Z",
     "start_time": "2022-04-13T05:29:45.506635Z"
    }
   },
   "outputs": [],
   "source": [
    "from sklearn.ensemble import GradientBoostingRegressor\n",
    "\n",
    "grad_boost = GradientBoostingRegressor(max_depth=1)"
   ]
  },
  {
   "cell_type": "markdown",
   "metadata": {},
   "source": [
    "### 4.1 Learning"
   ]
  },
  {
   "cell_type": "code",
   "execution_count": 19,
   "metadata": {
    "ExecuteTime": {
     "end_time": "2022-04-13T05:29:45.580640Z",
     "start_time": "2022-04-13T05:29:45.521636Z"
    }
   },
   "outputs": [
    {
     "data": {
      "text/plain": [
       "GradientBoostingRegressor(max_depth=1)"
      ]
     },
     "execution_count": 19,
     "metadata": {},
     "output_type": "execute_result"
    }
   ],
   "source": [
    "grad_boost.fit(train_data, train_label)"
   ]
  },
  {
   "cell_type": "markdown",
   "metadata": {},
   "source": [
    "### 4.2 Predict"
   ]
  },
  {
   "cell_type": "code",
   "execution_count": 20,
   "metadata": {
    "ExecuteTime": {
     "end_time": "2022-04-13T05:29:45.595636Z",
     "start_time": "2022-04-13T05:29:45.584651Z"
    }
   },
   "outputs": [],
   "source": [
    "grad_boost_train_pred = grad_boost.predict(train_data)\n",
    "grad_boost_test_pred = grad_boost.predict(test_data)"
   ]
  },
  {
   "cell_type": "markdown",
   "metadata": {},
   "source": [
    "### 4.3 Evalution"
   ]
  },
  {
   "cell_type": "code",
   "execution_count": 21,
   "metadata": {
    "ExecuteTime": {
     "end_time": "2022-04-13T05:29:45.611637Z",
     "start_time": "2022-04-13T05:29:45.599636Z"
    }
   },
   "outputs": [],
   "source": [
    "grad_boost_train_mse = mean_squared_error(train_label, grad_boost_train_pred)\n",
    "grad_boost_test_mse = mean_squared_error(test_label, grad_boost_test_pred)"
   ]
  },
  {
   "cell_type": "code",
   "execution_count": 22,
   "metadata": {
    "ExecuteTime": {
     "end_time": "2022-04-13T05:29:45.627651Z",
     "start_time": "2022-04-13T05:29:45.620641Z"
    }
   },
   "outputs": [
    {
     "name": "stdout",
     "output_type": "stream",
     "text": [
      "Gradient Boost Train mean squared error is 0.2767\n",
      "Gradient Boost Test mean squared error is 1.3215\n"
     ]
    }
   ],
   "source": [
    "print(f\"Gradient Boost Train mean squared error is {grad_boost_train_mse:.4f}\")\n",
    "print(f\"Gradient Boost Test mean squared error is {grad_boost_test_mse:.4f}\")"
   ]
  },
  {
   "cell_type": "markdown",
   "metadata": {},
   "source": [
    "### 4.4 Visualization"
   ]
  },
  {
   "cell_type": "code",
   "execution_count": 23,
   "metadata": {
    "ExecuteTime": {
     "end_time": "2022-04-13T05:29:46.267669Z",
     "start_time": "2022-04-13T05:29:45.635670Z"
    }
   },
   "outputs": [
    {
     "data": {
      "text/plain": [
       "[<matplotlib.lines.Line2D at 0x282d9b46da0>]"
      ]
     },
     "execution_count": 23,
     "metadata": {},
     "output_type": "execute_result"
    },
    {
     "data": {
      "image/png": "[encoded data removed]",
      "text/plain": [
       "<Figure size 432x288 with 1 Axes>"
      ]
     },
     "metadata": {
      "needs_background": "light"
     },
     "output_type": "display_data"
    }
   ],
   "source": [
    "plt.scatter(data, label)\n",
    "plt.plot(train_data, grad_boost_train_pred)\n",
    "plt.plot(test_data, grad_boost_test_pred)"
   ]
  },
  {
   "cell_type": "markdown",
   "metadata": {},
   "source": [
    "# 5. Total"
   ]
  },
  {
   "cell_type": "code",
   "execution_count": 24,
   "metadata": {
    "ExecuteTime": {
     "end_time": "2022-04-13T05:29:46.283652Z",
     "start_time": "2022-04-13T05:29:46.275652Z"
    }
   },
   "outputs": [
    {
     "name": "stdout",
     "output_type": "stream",
     "text": [
      "Tree train mean squared error is 0.3669\n",
      "Ada Boost train mean squared error is 0.4615\n",
      "Gradient Boost train mean squared error is 0.2767\n"
     ]
    }
   ],
   "source": [
    "print(f\"Tree train mean squared error is {tree_train_mse:.4f}\")\n",
    "print(f\"Ada Boost train mean squared error is {ada_boost_train_mse:.4f}\")\n",
    "print(f\"Gradient Boost train mean squared error is {grad_boost_train_mse:.4f}\")"
   ]
  },
  {
   "cell_type": "code",
   "execution_count": 25,
   "metadata": {
    "ExecuteTime": {
     "end_time": "2022-04-13T05:29:46.320636Z",
     "start_time": "2022-04-13T05:29:46.291640Z"
    }
   },
   "outputs": [
    {
     "name": "stdout",
     "output_type": "stream",
     "text": [
      "Tree test mean squared error is 1.8188\n",
      "Ada Boost test mean squared error is 0.5289\n",
      "Gradient Boost test mean squared error is 1.3215\n"
     ]
    }
   ],
   "source": [
    "print(f\"Tree test mean squared error is {tree_test_mse:.4f}\")\n",
    "print(f\"Ada Boost test mean squared error is {ada_boost_test_mse:.4f}\")\n",
    "print(f\"Gradient Boost test mean squared error is {grad_boost_test_mse:.4f}\")"
   ]
  },
  {
   "cell_type": "code",
   "execution_count": 26,
   "metadata": {
    "ExecuteTime": {
     "end_time": "2022-04-13T05:29:47.800644Z",
     "start_time": "2022-04-13T05:29:46.324642Z"
    }
   },
   "outputs": [
    {
     "data": {
      "image/png": "[encoded data removed]",
      "text/plain": [
       "<Figure size 1080x360 with 3 Axes>"
      ]
     },
     "metadata": {
      "needs_background": "light"
     },
     "output_type": "display_data"
    }
   ],
   "source": [
    "fig, axes = plt.subplots(nrows=1, ncols=3, figsize=(15, 5))\n",
    "\n",
    "preds = [\n",
    "    (\"tree\", tree_train_pred, tree_test_pred),\n",
    "    (\"Ada Boost\", ada_boost_train_pred, ada_boost_test_pred),\n",
    "    (\"Gradient Boost\", grad_boost_train_pred, grad_boost_test_pred)\n",
    "]\n",
    "\n",
    "for idx, (name, train_pred, test_pred) in enumerate(preds):\n",
    "    ax = axes[idx]\n",
    "    ax.scatter(data, label)\n",
    "    ax.plot(train_data, train_pred)\n",
    "    ax.plot(test_data, test_pred)\n",
    "    ax.set_title(name)"
   ]
  },
  {
   "cell_type": "markdown",
   "metadata": {},
   "source": [
    "# 6. Summary"
   ]
  },
  {
   "cell_type": "markdown",
   "metadata": {},
   "source": [
    "> Boosting\n",
    "- 악 분류기를 순차적(Sequential)으로 학습하는 앙상블 기법\n",
    "- 예측을 반복하면서 잘못 예측한 데이터에 가중치 부여해서 오류 개선\n",
    "- 분류가 잘못되 ㄴ데이터에 더 큰 가중을 주어 표본 추출\n",
    "\n",
    "> Bagging\n",
    "- 무작위 복원추출로 부트스트랩 샘플 추출\n",
    "\n",
    "> Boosting 종류\n",
    "1. AdaBoost(Adaptive Boosting)\n",
    "2. Gradient Boost\n",
    "3. XGBoost\n",
    "\n",
    "> AdaBoost(Adaptive Boosting)\n",
    "- 간단한 약 분류기(변수 하나와 if문 하나 정도의 depth)들이 상호 보완하도록 순차적 학습\n",
    "- 과소적합된 학습 데이터의 가중치를 높이면서 새로 학습된 모델이 학습하기 어려운 데이터에 더 잘 적합되도록 하는 방식\n",
    ">> AdaBoost 학습 방법\n",
    "    1. 전체 학습 데이터를 이용해 모델 생성\n",
    "    2. 잘못 예측된 데이터의 가중치를 상대적으로 높여줌\n",
    "    3. 가중치 반영하여 다음 모델 학습\n",
    "    4. 2~3과정 반복\n",
    ">> 예측 방법\n",
    "    - 각 모델의 신뢰도를 곱하여 Voting\n",
    "    \n",
    "> Gradient Boost\n",
    "- 학습 전 단계 모델에서 잔여 오차에 대해 새로운 모델 학습\n",
    "- 잔여 오차를 예측하여 발전하는 약분류기\n",
    "- 현재까지 학습된 분류기의 약점은 Gradient를 통해 알려주로 이를 중점 보완 방식\n",
    ">> 학습 방법\n",
    "    1. 모델 학습 후 예측값 계산\n",
    "    2. 잔여 오차 계산\n",
    "    3. 잔여 오차를 예측하는 트리 모델 생성\n",
    "    4. Learning Rate 이용해 기존 예측값 수행\n",
    "    5. 2~4 반복\n",
    ">> 예측 방법\n",
    "    - 최초 모델의 예측값에 생성된 잔여 오차 예측 모델의 오차 예측값 더함\n",
    "    \n",
    "> XGBoost (eXtreme Gradient Boosting)\n",
    "- Gradient Boosting 기반 모델\n",
    "- 트리 만들 때 병렬 처리를 가능하게 해서 Gradient Boosting의 속도 개선\n",
    ">> 특징\n",
    "    1. 병렬/분산처리\n",
    "        - CPU 병렬 처리 가능\n",
    "        - 코어들이 각자 할당받은 변수들로 제각기 가지 쳐 나간다\n",
    "    2. Split 지점 고려할 때 일부 보고 결정\n",
    "        - 연속형 변수들의 Split지점 고려할 때 일부분만 보고 고려\n",
    "    3. Sparsity Awareness\n",
    "        - Zero 데이터를 건너 뛰며 학습\n",
    "        - 범주형 변수를 dummy화 시킬 경우 학습 속도 빠르게 가능\n",
    "        \n",
    "> Boosting 심화모델\n",
    "1. LightGBM\n",
    "    - 약분류기의 학습이 수직적으로 확장하는 leaf-wise 알고리즘 사용\n",
    "2. Catboost(Categoricl Boosting)\n",
    "    - 범주형 변수 처리하는데 중점을 둔 모델\n",
    "    - 기존 GBM 기반 모델들이 가지고 있는 범주형 변수 처리 문제 해결\n",
    ">> CatBoost의 범주형 변수 다루는 방법\n",
    "        - Ordered Boosting\n",
    "            - 일부만 가지고 잔여 오차 계산후 모델 생성\n",
    "            - 모델 생성 뒤의 데이터의 잔여 오차는 최초로 생서된 모델로 예측한 값 사용\n",
    "            - Gradient가 계속 갱신되므로 과대적합 방지가능\n",
    "        - Categorical Feature Combinations\n",
    "            - Imformatin gain이 동일한 두 변수를 하나의 변수로 묶는 방법\n",
    "            - 데이터 전처리에 있어 변수 선택 부담 줄여줌\n",
    "\n",
    "> Tree Growth 종류\n",
    "1. Level-Wise Growth\n",
    "    - 뿌리 노드와 가까운 노드부터 데이터 분할 방법\n",
    "    - 수평 성장으로, RF, XGB 해당\n",
    "2. Leaf-Wise Growth\n",
    "    - Loss 변화가 가장 큰 노드부터 데이터 분할 방법\n",
    "    - 수직 성장으로 LGBM 해당\n",
    "\n",
    "> Boosting 장점\n",
    "- XGBoost : Greedy Algorithm을 사용한 자동 가지치기가 가능해 과대적합 방지\n",
    "- LGBM : XGBoost보다 학습속도 빠르고 메모리 사용량 적음, 다만 1만건 이하 데이터에서 과대적합 발생 가능\n",
    "- CatBoost : 범주형 데이터 많을 때 따로 전처리 안해도 되고 좋은 성능 가능\n",
    "\n",
    "> Stacking\n",
    "- Meta Modeling으로 다른 모델들의 단점 극복하고 장점 취할 수 있는 조합 방법을 찾는 방법\n",
    "\n",
    ">> 방법\n",
    "1. 학습 데이터 이용해 Sub Model 생성\n",
    "    - 예측값 중복되지 않기 위해 서로 다른 모델 학습\n",
    "    - 자주 사용하는 Sub Model : SVM, RF, KNN\n",
    "2. Sub Model들의 예측값 데이터로 Meta Model 생성\n",
    "    - 주로 Regression 모델 학습\n",
    "        \n",
    ">> Stacking Regression\n",
    "- Sub Model들의 학습 데이터에 대한 예측값으로 Linear Regression 학습\n",
    "- 예측 사용 경우 Sub Model들의 예측을 먼저 진행 후 그 값을 Meta Model로 예측\n",
    "\n",
    ">> Stacking Classification\n",
    "- 분류 경우 Sub Model의 예측값은 두개로, Class 또는 확률\n",
    "- 확률 값을 이용해 Logistic Regression을 학습\n",
    "\n",
    ">> Stacking Multi-class Classification\n",
    "- Multi Class의 경우 확률 값이 (P(Y=a), P(Y=b), P(Y=c))로 표시\n",
    "- 예측 값의 shape 이(N, number of classes)가 된다.\n",
    "- K개의 Sub-Model이 있을 경우의 Shape : (N, K, number of classes)\n",
    "    - 이값을 다음과 같이 Reshape을 한다 ((N, K*number of classes))\n",
    "- Reshape 된 데이터로 Logistic Regression을 학습한다    "
   ]
  },
  {
   "cell_type": "code",
   "execution_count": null,
   "metadata": {},
   "outputs": [],
   "source": []
  }
 ],
 "metadata": {
  "hide_input": false,
  "kernelspec": {
   "display_name": "ojt",
   "language": "python",
   "name": "ojt"
  },
  "language_info": {
   "codemirror_mode": {
    "name": "ipython",
    "version": 3
   },
   "file_extension": ".py",
   "mimetype": "text/x-python",
   "name": "python",
   "nbconvert_exporter": "python",
   "pygments_lexer": "ipython3",
   "version": "3.6.5"
  },
  "toc": {
   "base_numbering": 1,
   "nav_menu": {},
   "number_sections": false,
   "sideBar": true,
   "skip_h1_title": false,
   "title_cell": "Table of Contents",
   "title_sidebar": "Contents",
   "toc_cell": false,
   "toc_position": {},
   "toc_section_display": true,
   "toc_window_display": false
  },
  "varInspector": {
   "cols": {
    "lenName": 16,
    "lenType": 16,
    "lenVar": 40
   },
   "kernels_config": {
    "python": {
     "delete_cmd_postfix": "",
     "delete_cmd_prefix": "del ",
     "library": "var_list.py",
     "varRefreshCmd": "print(var_dic_list())"
    },
    "r": {
     "delete_cmd_postfix": ") ",
     "delete_cmd_prefix": "rm(",
     "library": "var_list.r",
     "varRefreshCmd": "cat(var_dic_list()) "
    }
   },
   "types_to_exclude": [
    "module",
    "function",
    "builtin_function_or_method",
    "instance",
    "_Feature"
   ],
   "window_display": false
  }
 },
 "nbformat": 4,
 "nbformat_minor": 2
}
