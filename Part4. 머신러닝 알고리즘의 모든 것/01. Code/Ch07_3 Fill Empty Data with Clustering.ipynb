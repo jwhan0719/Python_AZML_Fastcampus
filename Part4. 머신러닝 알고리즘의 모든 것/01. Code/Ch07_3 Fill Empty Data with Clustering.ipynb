{
 "cells": [
  {
   "cell_type": "markdown",
   "metadata": {},
   "source": [
    "# 1. Titanic Survival Data"
   ]
  },
  {
   "cell_type": "code",
   "execution_count": 1,
   "metadata": {
    "ExecuteTime": {
     "end_time": "2022-04-08T08:42:14.106352Z",
     "start_time": "2022-04-08T08:42:12.571796Z"
    }
   },
   "outputs": [],
   "source": [
    "import pandas as pd\n",
    "import numpy as np\n",
    "import matplotlib.pyplot as plt\n",
    "\n",
    "np.random.seed(2021)"
   ]
  },
  {
   "cell_type": "markdown",
   "metadata": {},
   "source": [
    "### 1.1 Data\n",
    "컬럼 정보\n",
    "- Survived : 생존 유무 (정답)\n",
    "- Pclass : 탑승한 여객 클래스\n",
    "- Sex : 성별\n",
    "- Age : 나이\n",
    "- Fare : 운임료\n",
    "- Embarked: 승선항구 위치\n",
    "    - C = Cherbourg; Q = Queenstown; S = Southampton"
   ]
  },
  {
   "cell_type": "code",
   "execution_count": 2,
   "metadata": {
    "ExecuteTime": {
     "end_time": "2022-04-08T08:42:14.152355Z",
     "start_time": "2022-04-08T08:42:14.111353Z"
    }
   },
   "outputs": [
    {
     "data": {
      "text/plain": [
       "Index(['Survived', 'Pclass', 'Sex', 'Age', 'Fare', 'Embarked'], dtype='object')"
      ]
     },
     "execution_count": 2,
     "metadata": {},
     "output_type": "execute_result"
    }
   ],
   "source": [
    "titanic = pd.read_csv(\"../02. Data/simple_titanic.csv\")\n",
    "\n",
    "titanic.columns"
   ]
  },
  {
   "cell_type": "code",
   "execution_count": 3,
   "metadata": {
    "ExecuteTime": {
     "end_time": "2022-04-08T08:42:14.167361Z",
     "start_time": "2022-04-08T08:42:14.155353Z"
    }
   },
   "outputs": [],
   "source": [
    "label = titanic[\"Survived\"]\n",
    "data = titanic.drop([\"Survived\"], axis=1)"
   ]
  },
  {
   "cell_type": "markdown",
   "metadata": {
    "ExecuteTime": {
     "end_time": "2022-04-08T08:27:07.691077Z",
     "start_time": "2022-04-08T08:27:07.679072Z"
    }
   },
   "source": [
    "### 1.2 EDA"
   ]
  },
  {
   "cell_type": "code",
   "execution_count": 4,
   "metadata": {
    "ExecuteTime": {
     "end_time": "2022-04-08T08:42:14.244376Z",
     "start_time": "2022-04-08T08:42:14.170354Z"
    }
   },
   "outputs": [
    {
     "data": {
      "text/html": [
       "<div>\n",
       "<style scoped>\n",
       "    .dataframe tbody tr th:only-of-type {\n",
       "        vertical-align: middle;\n",
       "    }\n",
       "\n",
       "    .dataframe tbody tr th {\n",
       "        vertical-align: top;\n",
       "    }\n",
       "\n",
       "    .dataframe thead th {\n",
       "        text-align: right;\n",
       "    }\n",
       "</style>\n",
       "<table border=\"1\" class=\"dataframe\">\n",
       "  <thead>\n",
       "    <tr style=\"text-align: right;\">\n",
       "      <th></th>\n",
       "      <th>Pclass</th>\n",
       "      <th>Age</th>\n",
       "      <th>Fare</th>\n",
       "    </tr>\n",
       "  </thead>\n",
       "  <tbody>\n",
       "    <tr>\n",
       "      <th>count</th>\n",
       "      <td>1306.000000</td>\n",
       "      <td>1043.000000</td>\n",
       "      <td>1306.000000</td>\n",
       "    </tr>\n",
       "    <tr>\n",
       "      <th>mean</th>\n",
       "      <td>2.296325</td>\n",
       "      <td>29.813202</td>\n",
       "      <td>33.223956</td>\n",
       "    </tr>\n",
       "    <tr>\n",
       "      <th>std</th>\n",
       "      <td>0.837037</td>\n",
       "      <td>14.366254</td>\n",
       "      <td>51.765986</td>\n",
       "    </tr>\n",
       "    <tr>\n",
       "      <th>min</th>\n",
       "      <td>1.000000</td>\n",
       "      <td>0.170000</td>\n",
       "      <td>0.000000</td>\n",
       "    </tr>\n",
       "    <tr>\n",
       "      <th>25%</th>\n",
       "      <td>2.000000</td>\n",
       "      <td>21.000000</td>\n",
       "      <td>7.895800</td>\n",
       "    </tr>\n",
       "    <tr>\n",
       "      <th>50%</th>\n",
       "      <td>3.000000</td>\n",
       "      <td>28.000000</td>\n",
       "      <td>14.454200</td>\n",
       "    </tr>\n",
       "    <tr>\n",
       "      <th>75%</th>\n",
       "      <td>3.000000</td>\n",
       "      <td>39.000000</td>\n",
       "      <td>31.275000</td>\n",
       "    </tr>\n",
       "    <tr>\n",
       "      <th>max</th>\n",
       "      <td>3.000000</td>\n",
       "      <td>80.000000</td>\n",
       "      <td>512.329200</td>\n",
       "    </tr>\n",
       "  </tbody>\n",
       "</table>\n",
       "</div>"
      ],
      "text/plain": [
       "            Pclass          Age         Fare\n",
       "count  1306.000000  1043.000000  1306.000000\n",
       "mean      2.296325    29.813202    33.223956\n",
       "std       0.837037    14.366254    51.765986\n",
       "min       1.000000     0.170000     0.000000\n",
       "25%       2.000000    21.000000     7.895800\n",
       "50%       3.000000    28.000000    14.454200\n",
       "75%       3.000000    39.000000    31.275000\n",
       "max       3.000000    80.000000   512.329200"
      ]
     },
     "execution_count": 4,
     "metadata": {},
     "output_type": "execute_result"
    }
   ],
   "source": [
    "data.describe()"
   ]
  },
  {
   "cell_type": "code",
   "execution_count": 5,
   "metadata": {
    "ExecuteTime": {
     "end_time": "2022-04-08T08:42:14.276355Z",
     "start_time": "2022-04-08T08:42:14.249353Z"
    }
   },
   "outputs": [
    {
     "name": "stdout",
     "output_type": "stream",
     "text": [
      "male      842\n",
      "female    464\n",
      "Name: Sex, dtype: int64 \n",
      "\n",
      "S    913\n",
      "C    270\n",
      "Q    123\n",
      "Name: Embarked, dtype: int64\n"
     ]
    }
   ],
   "source": [
    "# Sex, Embarked 컬럼 비율 확인\n",
    "print(data[\"Sex\"].value_counts(), '\\n')\n",
    "print(data[\"Embarked\"].value_counts())"
   ]
  },
  {
   "cell_type": "code",
   "execution_count": 6,
   "metadata": {
    "ExecuteTime": {
     "end_time": "2022-04-08T08:42:14.306352Z",
     "start_time": "2022-04-08T08:42:14.279353Z"
    }
   },
   "outputs": [
    {
     "data": {
      "text/plain": [
       "Pclass        0\n",
       "Sex           0\n",
       "Age         263\n",
       "Fare          0\n",
       "Embarked      0\n",
       "dtype: int64"
      ]
     },
     "execution_count": 6,
     "metadata": {},
     "output_type": "execute_result"
    }
   ],
   "source": [
    "# 결측값 확인\n",
    "data.isna().sum()"
   ]
  },
  {
   "cell_type": "code",
   "execution_count": 7,
   "metadata": {
    "ExecuteTime": {
     "end_time": "2022-04-08T08:42:14.338352Z",
     "start_time": "2022-04-08T08:42:14.313373Z"
    }
   },
   "outputs": [
    {
     "data": {
      "text/plain": [
       "0    814\n",
       "1    492\n",
       "Name: Survived, dtype: int64"
      ]
     },
     "execution_count": 7,
     "metadata": {},
     "output_type": "execute_result"
    }
   ],
   "source": [
    "# 정답 비율 확인\n",
    "label.value_counts()"
   ]
  },
  {
   "cell_type": "markdown",
   "metadata": {},
   "source": [
    "### 1.3 Preprocess"
   ]
  },
  {
   "cell_type": "code",
   "execution_count": 8,
   "metadata": {
    "ExecuteTime": {
     "end_time": "2022-04-08T08:42:14.370351Z",
     "start_time": "2022-04-08T08:42:14.353352Z"
    }
   },
   "outputs": [],
   "source": [
    "data.loc[:, \"Sex\"] = data[\"Sex\"].map({\"male\": 0, \"female\": 1})\n",
    "data.loc[:, \"Embarked\"] = data[\"Embarked\"].map({\"S\": 0, \"C\": 1, \"Q\": 2})"
   ]
  },
  {
   "cell_type": "code",
   "execution_count": 9,
   "metadata": {
    "ExecuteTime": {
     "end_time": "2022-04-08T08:42:14.408351Z",
     "start_time": "2022-04-08T08:42:14.375356Z"
    }
   },
   "outputs": [
    {
     "name": "stdout",
     "output_type": "stream",
     "text": [
      "0    842\n",
      "1    464\n",
      "Name: Sex, dtype: int64 \n",
      "\n",
      "0    913\n",
      "1    270\n",
      "2    123\n",
      "Name: Embarked, dtype: int64\n"
     ]
    }
   ],
   "source": [
    "# Sex, Embarked 컬럼 비율 확인\n",
    "print(data[\"Sex\"].value_counts(), '\\n')\n",
    "print(data[\"Embarked\"].value_counts())"
   ]
  },
  {
   "cell_type": "markdown",
   "metadata": {},
   "source": [
    "### 1.4 Split"
   ]
  },
  {
   "cell_type": "code",
   "execution_count": 10,
   "metadata": {
    "ExecuteTime": {
     "end_time": "2022-04-08T08:42:15.993886Z",
     "start_time": "2022-04-08T08:42:14.419352Z"
    }
   },
   "outputs": [],
   "source": [
    "from sklearn.model_selection import train_test_split\n",
    "\n",
    "train_data, validation_data, train_label, validation_label = train_test_split(data, label, train_size=0.6, random_state=2021)\n",
    "\n",
    "valid_data, test_data, valid_label, test_label = train_test_split(validation_data, validation_label, train_size=0.5, random_state=2021)"
   ]
  },
  {
   "cell_type": "code",
   "execution_count": 11,
   "metadata": {
    "ExecuteTime": {
     "end_time": "2022-04-08T08:42:16.009905Z",
     "start_time": "2022-04-08T08:42:15.993886Z"
    }
   },
   "outputs": [
    {
     "name": "stdout",
     "output_type": "stream",
     "text": [
      "train_data size: 783, 0.60\n",
      "valid_data size: 261, 0.20\n",
      "test_data size: 262, 0.20\n"
     ]
    }
   ],
   "source": [
    "print(f\"train_data size: {len(train_label)}, {len(train_label)/len(data):.2f}\")\n",
    "print(f\"valid_data size: {len(valid_label)}, {len(valid_label)/len(data):.2f}\")\n",
    "print(f\"test_data size: {len(test_label)}, {len(test_label)/len(data):.2f}\")"
   ]
  },
  {
   "cell_type": "code",
   "execution_count": 12,
   "metadata": {
    "ExecuteTime": {
     "end_time": "2022-04-08T08:42:16.040905Z",
     "start_time": "2022-04-08T08:42:16.013909Z"
    }
   },
   "outputs": [],
   "source": [
    "# 뒤에서 index 리셋 해야되므로 미리 진행\n",
    "train_data = train_data.reset_index(drop=True)\n",
    "valid_data = valid_data.reset_index(drop=True)\n",
    "test_data = test_data.reset_index(drop=True)\n",
    "train_label = train_label.reset_index(drop=True)\n",
    "valid_label = valid_label.reset_index(drop=True)\n",
    "test_label = test_label.reset_index(drop=True)"
   ]
  },
  {
   "cell_type": "markdown",
   "metadata": {},
   "source": [
    "# 2. How to fill in empty data\n",
    "빈 값이 많은 Age를 어떻게 채울까  \n",
    "1. 사용하지 않는다.\n",
    "2. 전체 데이터의 평균으로 채운다.\n",
    "3. 비슷한 데이터를 찾아서 비슷한 데이터의 평균으로 채운다."
   ]
  },
  {
   "cell_type": "code",
   "execution_count": 13,
   "metadata": {
    "ExecuteTime": {
     "end_time": "2022-04-08T08:42:16.071907Z",
     "start_time": "2022-04-08T08:42:16.043911Z"
    }
   },
   "outputs": [
    {
     "data": {
      "text/plain": [
       "Index(['Age'], dtype='object')"
      ]
     },
     "execution_count": 13,
     "metadata": {},
     "output_type": "execute_result"
    }
   ],
   "source": [
    "# 결측 컬럼 확인\n",
    "na_cnt = data.isna().sum()\n",
    "na_cnt.loc[na_cnt > 0].index"
   ]
  },
  {
   "cell_type": "markdown",
   "metadata": {},
   "source": [
    "### 2.1 How Not to Use"
   ]
  },
  {
   "cell_type": "code",
   "execution_count": 14,
   "metadata": {
    "ExecuteTime": {
     "end_time": "2022-04-08T08:42:16.103911Z",
     "start_time": "2022-04-08T08:42:16.077978Z"
    }
   },
   "outputs": [
    {
     "name": "stdout",
     "output_type": "stream",
     "text": [
      "전체 데이터 개수: 1306\n",
      "값이 비어있는 데이터를 버린 후 데이터 개수: 1043\n",
      "버려진 데이터 개수: 263\n"
     ]
    }
   ],
   "source": [
    "drop_data = data.dropna()\n",
    "\n",
    "print(f\"전체 데이터 개수: {len(data)}\")\n",
    "print(f\"값이 비어있는 데이터를 버린 후 데이터 개수: {len(drop_data)}\")\n",
    "print(f\"버려진 데이터 개수: {len(data) - len(drop_data)}\")"
   ]
  },
  {
   "cell_type": "markdown",
   "metadata": {},
   "source": [
    "### 2.2 Fill with the mean of the entire data"
   ]
  },
  {
   "cell_type": "code",
   "execution_count": 15,
   "metadata": {
    "ExecuteTime": {
     "end_time": "2022-04-08T08:42:16.120908Z",
     "start_time": "2022-04-08T08:42:16.107905Z"
    }
   },
   "outputs": [],
   "source": [
    "mean_train_data = train_data.copy()\n",
    "mean_valid_data = valid_data.copy()\n",
    "mean_test_data = test_data.copy()"
   ]
  },
  {
   "cell_type": "code",
   "execution_count": 16,
   "metadata": {
    "ExecuteTime": {
     "end_time": "2022-04-08T08:42:16.135907Z",
     "start_time": "2022-04-08T08:42:16.123907Z"
    }
   },
   "outputs": [
    {
     "data": {
      "text/plain": [
       "30.13604100946372"
      ]
     },
     "execution_count": 16,
     "metadata": {},
     "output_type": "execute_result"
    }
   ],
   "source": [
    "# 학습 데이터의 Age 평균\n",
    "age_mean = mean_train_data[\"Age\"].mean()\n",
    "age_mean"
   ]
  },
  {
   "cell_type": "code",
   "execution_count": 17,
   "metadata": {
    "ExecuteTime": {
     "end_time": "2022-04-08T08:42:16.183914Z",
     "start_time": "2022-04-08T08:42:16.140910Z"
    }
   },
   "outputs": [
    {
     "data": {
      "text/plain": [
       "Pclass      0\n",
       "Sex         0\n",
       "Age         0\n",
       "Fare        0\n",
       "Embarked    0\n",
       "dtype: int64"
      ]
     },
     "execution_count": 17,
     "metadata": {},
     "output_type": "execute_result"
    }
   ],
   "source": [
    "# 전체 데이터의 평균으로 결측값 대체\n",
    "mean_train_data.loc[:, \"Age\"] = mean_train_data[\"Age\"].fillna(age_mean)\n",
    "mean_valid_data.loc[:, \"Age\"] = mean_valid_data[\"Age\"].fillna(age_mean)\n",
    "mean_test_data.loc[:, \"Age\"] = mean_test_data[\"Age\"].fillna(age_mean)\n",
    "\n",
    "mean_train_data.isna().sum()"
   ]
  },
  {
   "cell_type": "markdown",
   "metadata": {},
   "source": [
    "### 2.3 Populate by means of similar data\n",
    "이 방법은 빈 값이 있는 변수를 제거하고 나머지 변수들을 군집화하고 군집의 평균으로 빈 값을 채우는 방법  \n",
    "아이디어는 비슷한 데이터들은 변수 몇 개를 제거해도 같이 묶일 것이다에서 시작"
   ]
  },
  {
   "cell_type": "code",
   "execution_count": 18,
   "metadata": {
    "ExecuteTime": {
     "end_time": "2022-04-08T08:42:16.199906Z",
     "start_time": "2022-04-08T08:42:16.194907Z"
    }
   },
   "outputs": [],
   "source": [
    "cluster_train_data = train_data.copy()\n",
    "cluster_valid_data = valid_data.copy()\n",
    "cluster_test_data = test_data.copy()"
   ]
  },
  {
   "cell_type": "code",
   "execution_count": 19,
   "metadata": {
    "ExecuteTime": {
     "end_time": "2022-04-08T08:42:16.244903Z",
     "start_time": "2022-04-08T08:42:16.206925Z"
    }
   },
   "outputs": [
    {
     "data": {
      "text/plain": [
       "StandardScaler()"
      ]
     },
     "execution_count": 19,
     "metadata": {},
     "output_type": "execute_result"
    }
   ],
   "source": [
    "# 클러스터링 하기 전 데이터 정규화\n",
    "from sklearn.preprocessing import StandardScaler\n",
    "\n",
    "scaler = StandardScaler()\n",
    "scaler.fit(cluster_train_data.drop([\"Age\"], axis=1))"
   ]
  },
  {
   "cell_type": "code",
   "execution_count": 20,
   "metadata": {
    "ExecuteTime": {
     "end_time": "2022-04-08T08:42:16.275907Z",
     "start_time": "2022-04-08T08:42:16.247907Z"
    }
   },
   "outputs": [],
   "source": [
    "train_fill_data = scaler.transform(cluster_train_data.drop([\"Age\"], axis=1))\n",
    "valid_fill_data = scaler.transform(cluster_valid_data.drop([\"Age\"], axis=1))\n",
    "test_fill_data = scaler.transform(cluster_test_data.drop([\"Age\"], axis=1))"
   ]
  },
  {
   "cell_type": "code",
   "execution_count": 21,
   "metadata": {
    "ExecuteTime": {
     "end_time": "2022-04-08T08:42:17.309889Z",
     "start_time": "2022-04-08T08:42:16.279904Z"
    }
   },
   "outputs": [
    {
     "data": {
      "text/plain": [
       "[<matplotlib.lines.Line2D at 0x239e646cdd8>]"
      ]
     },
     "execution_count": 21,
     "metadata": {},
     "output_type": "execute_result"
    },
    {
     "data": {
      "image/png": "[encoded data removed]",
      "text/plain": [
       "<Figure size 432x288 with 1 Axes>"
      ]
     },
     "metadata": {
      "needs_background": "light"
     },
     "output_type": "display_data"
    }
   ],
   "source": [
    "# 최적 K를 찾기 위해 K값에 따른 SSE 계산 후 시각화\n",
    "from sklearn.cluster import KMeans\n",
    "\n",
    "n_cluster = []\n",
    "sse = []\n",
    "for n in range(3, 15, 2):\n",
    "    kmeans = KMeans(n_clusters=n)\n",
    "    kmeans.fit(train_fill_data)\n",
    "    n_cluster += [n]\n",
    "    sse += [kmeans.inertia_]\n",
    "    \n",
    "plt.plot(n_cluster, sse)"
   ]
  },
  {
   "cell_type": "code",
   "execution_count": 22,
   "metadata": {
    "ExecuteTime": {
     "end_time": "2022-04-08T08:42:17.430436Z",
     "start_time": "2022-04-08T08:42:17.316861Z"
    }
   },
   "outputs": [
    {
     "data": {
      "text/plain": [
       "KMeans(n_clusters=7)"
      ]
     },
     "execution_count": 22,
     "metadata": {},
     "output_type": "execute_result"
    }
   ],
   "source": [
    "## SSE 그래프에서 꺾이는 지점인 7로 K 지정\n",
    "n_clusters = 7\n",
    "\n",
    "kmeans = KMeans(n_clusters=n_clusters)\n",
    "kmeans.fit(train_fill_data)"
   ]
  },
  {
   "cell_type": "code",
   "execution_count": 23,
   "metadata": {
    "ExecuteTime": {
     "end_time": "2022-04-08T08:42:17.462460Z",
     "start_time": "2022-04-08T08:42:17.435426Z"
    }
   },
   "outputs": [
    {
     "data": {
      "text/plain": [
       "array([2, 2, 2, 1, 2, 2, 2, 2, 2, 2, 4, 2, 2, 3, 0, 2, 1, 2, 2, 4, 2, 5,\n",
       "       0, 0, 6, 2, 5, 2, 1, 2, 2, 5, 2, 2, 5, 2, 4, 3, 0, 2, 2, 0, 2, 0,\n",
       "       2, 1, 3, 4, 2, 2, 4, 2, 0, 1, 2, 4, 5, 2, 2, 2, 3, 4, 0, 0, 2, 1,\n",
       "       5, 5, 0, 2, 2, 5, 4, 3, 6, 2, 5, 4, 2, 4, 4, 5, 1, 2, 2, 0, 2, 3,\n",
       "       2, 2, 5, 2, 2, 0, 0, 0, 2, 2, 2, 2, 2, 1, 2, 2, 2, 2, 4, 0, 4, 2,\n",
       "       2, 5, 5, 4, 3, 5, 6, 3, 3, 4, 4, 0, 5, 3, 2, 4, 4, 2, 0, 4, 4, 4,\n",
       "       2, 2, 1, 0, 0, 4, 2, 2, 6, 2, 2, 4, 2, 2, 1, 0, 3, 4, 2, 2, 2, 2,\n",
       "       2, 5, 2, 5, 5, 6, 0, 2, 2, 6, 1, 2, 2, 0, 0, 4, 5, 5, 2, 2, 4, 4,\n",
       "       2, 3, 2, 6, 2, 4, 4, 2, 5, 5, 2, 1, 2, 1, 2, 1, 2, 4, 4, 1, 1, 2,\n",
       "       2, 4, 2, 4, 4, 3, 3, 5, 2, 4, 3, 2, 3, 2, 3, 4, 0, 0, 1, 2, 4, 0,\n",
       "       5, 0, 5, 4, 5, 2, 3, 4, 2, 4, 1, 2, 6, 5, 0, 0, 2, 4, 2, 0, 2, 4,\n",
       "       0, 2, 5, 2, 2, 0, 2, 5, 2, 2, 1, 1, 2, 2, 2, 5, 4, 2, 0, 5])"
      ]
     },
     "execution_count": 23,
     "metadata": {},
     "output_type": "execute_result"
    }
   ],
   "source": [
    "clustered_train = kmeans.predict(train_fill_data)\n",
    "clustered_valid = kmeans.predict(valid_fill_data)\n",
    "clustered_test = kmeans.predict(test_fill_data)\n",
    "\n",
    "clustered_test"
   ]
  },
  {
   "cell_type": "code",
   "execution_count": 24,
   "metadata": {
    "ExecuteTime": {
     "end_time": "2022-04-08T08:42:17.510421Z",
     "start_time": "2022-04-08T08:42:17.472430Z"
    }
   },
   "outputs": [
    {
     "data": {
      "text/plain": [
       "{0: 40.46551724137931,\n",
       " 1: 21.666666666666668,\n",
       " 2: 27.871728395061727,\n",
       " 3: 37.17910447761194,\n",
       " 4: 24.838064516129034,\n",
       " 5: 29.25,\n",
       " 6: 41.404761904761905}"
      ]
     },
     "execution_count": 24,
     "metadata": {},
     "output_type": "execute_result"
    }
   ],
   "source": [
    "# 각 군집에서 빈 값 채울 값 확인\n",
    "cluster_fill_value = {}\n",
    "for i in range(n_clusters):\n",
    "    class_mean = cluster_train_data.loc[clustered_train == i, \"Age\"].dropna().mean()\n",
    "    cluster_fill_value[i] = class_mean\n",
    "    \n",
    "cluster_fill_value"
   ]
  },
  {
   "cell_type": "code",
   "execution_count": 25,
   "metadata": {
    "ExecuteTime": {
     "end_time": "2022-04-08T08:42:17.526426Z",
     "start_time": "2022-04-08T08:42:17.513427Z"
    }
   },
   "outputs": [
    {
     "data": {
      "text/plain": [
       "Int64Index([  2,   3,   9,  17,  26,  31,  41,  49,  53,  68,\n",
       "            ...\n",
       "            727, 732, 733, 742, 747, 754, 760, 764, 766, 777],\n",
       "           dtype='int64', length=149)"
      ]
     },
     "execution_count": 25,
     "metadata": {},
     "output_type": "execute_result"
    }
   ],
   "source": [
    "# 빈 값 가지고 잇는 데이터 Index 확인\n",
    "train_na_idx = cluster_train_data.loc[cluster_train_data[\"Age\"].isna()].index\n",
    "\n",
    "train_na_idx"
   ]
  },
  {
   "cell_type": "code",
   "execution_count": 26,
   "metadata": {
    "ExecuteTime": {
     "end_time": "2022-04-08T08:42:17.558424Z",
     "start_time": "2022-04-08T08:42:17.531429Z"
    }
   },
   "outputs": [
    {
     "data": {
      "text/plain": [
       "array([2, 0, 2, 0, 5, 1, 2, 4, 2, 5, 0, 0, 4, 0, 2, 1, 5, 5, 2, 2, 1, 1,\n",
       "       2, 6, 5, 2, 2, 2, 5, 5, 5, 2, 2, 5, 0, 5, 2, 3, 4, 0, 3, 0, 1, 0,\n",
       "       0, 0, 2, 2, 5, 2, 1, 4, 2, 2, 2, 0, 2, 1, 3, 4, 2, 4, 1, 2, 2, 5,\n",
       "       2, 4, 3, 5, 5, 5, 2, 3, 1, 2, 2, 1, 3, 5, 0, 3, 1, 1, 6, 4, 5, 5,\n",
       "       1, 2, 1, 5, 4, 3, 5, 1, 5, 0, 2, 2, 5, 5, 2, 2, 1, 5, 1, 1, 3, 5,\n",
       "       1, 0, 1, 5, 5, 1, 5, 2, 2, 0, 2, 5, 5, 5, 2, 2, 5, 2, 0, 2, 2, 4,\n",
       "       5, 4, 2, 5, 2, 4, 5, 0, 2, 5, 2, 3, 4, 0, 0, 5, 5])"
      ]
     },
     "execution_count": 26,
     "metadata": {},
     "output_type": "execute_result"
    }
   ],
   "source": [
    "# 인덱스가 속하는 군집 확인\n",
    "clustered_train[train_na_idx]"
   ]
  },
  {
   "cell_type": "code",
   "execution_count": 27,
   "metadata": {
    "ExecuteTime": {
     "end_time": "2022-04-08T08:42:17.590425Z",
     "start_time": "2022-04-08T08:42:17.561425Z"
    }
   },
   "outputs": [
    {
     "data": {
      "text/plain": [
       "[27.871728395061727,\n",
       " 40.46551724137931,\n",
       " 27.871728395061727,\n",
       " 40.46551724137931,\n",
       " 29.25,\n",
       " 21.666666666666668,\n",
       " 27.871728395061727,\n",
       " 24.838064516129034,\n",
       " 27.871728395061727,\n",
       " 29.25]"
      ]
     },
     "execution_count": 27,
     "metadata": {},
     "output_type": "execute_result"
    }
   ],
   "source": [
    "# 각 인덱스에 채울 값 가져오기\n",
    "train_fill_value = list(map(lambda x: cluster_fill_value[x], clustered_train[train_na_idx]))\n",
    "\n",
    "train_fill_value[:10]"
   ]
  },
  {
   "cell_type": "code",
   "execution_count": 28,
   "metadata": {
    "ExecuteTime": {
     "end_time": "2022-04-08T08:42:17.670426Z",
     "start_time": "2022-04-08T08:42:17.595426Z"
    }
   },
   "outputs": [
    {
     "data": {
      "text/html": [
       "<div>\n",
       "<style scoped>\n",
       "    .dataframe tbody tr th:only-of-type {\n",
       "        vertical-align: middle;\n",
       "    }\n",
       "\n",
       "    .dataframe tbody tr th {\n",
       "        vertical-align: top;\n",
       "    }\n",
       "\n",
       "    .dataframe thead th {\n",
       "        text-align: right;\n",
       "    }\n",
       "</style>\n",
       "<table border=\"1\" class=\"dataframe\">\n",
       "  <thead>\n",
       "    <tr style=\"text-align: right;\">\n",
       "      <th></th>\n",
       "      <th>Pclass</th>\n",
       "      <th>Sex</th>\n",
       "      <th>Age</th>\n",
       "      <th>Fare</th>\n",
       "      <th>Embarked</th>\n",
       "    </tr>\n",
       "  </thead>\n",
       "  <tbody>\n",
       "    <tr>\n",
       "      <th>2</th>\n",
       "      <td>3</td>\n",
       "      <td>0</td>\n",
       "      <td>27.871728</td>\n",
       "      <td>69.5500</td>\n",
       "      <td>0</td>\n",
       "    </tr>\n",
       "    <tr>\n",
       "      <th>3</th>\n",
       "      <td>1</td>\n",
       "      <td>0</td>\n",
       "      <td>40.465517</td>\n",
       "      <td>30.5000</td>\n",
       "      <td>0</td>\n",
       "    </tr>\n",
       "    <tr>\n",
       "      <th>9</th>\n",
       "      <td>3</td>\n",
       "      <td>0</td>\n",
       "      <td>27.871728</td>\n",
       "      <td>7.8792</td>\n",
       "      <td>0</td>\n",
       "    </tr>\n",
       "    <tr>\n",
       "      <th>17</th>\n",
       "      <td>1</td>\n",
       "      <td>0</td>\n",
       "      <td>40.465517</td>\n",
       "      <td>25.9250</td>\n",
       "      <td>0</td>\n",
       "    </tr>\n",
       "    <tr>\n",
       "      <th>26</th>\n",
       "      <td>3</td>\n",
       "      <td>0</td>\n",
       "      <td>29.250000</td>\n",
       "      <td>15.5000</td>\n",
       "      <td>2</td>\n",
       "    </tr>\n",
       "    <tr>\n",
       "      <th>...</th>\n",
       "      <td>...</td>\n",
       "      <td>...</td>\n",
       "      <td>...</td>\n",
       "      <td>...</td>\n",
       "      <td>...</td>\n",
       "    </tr>\n",
       "    <tr>\n",
       "      <th>754</th>\n",
       "      <td>3</td>\n",
       "      <td>1</td>\n",
       "      <td>24.838065</td>\n",
       "      <td>14.5000</td>\n",
       "      <td>0</td>\n",
       "    </tr>\n",
       "    <tr>\n",
       "      <th>760</th>\n",
       "      <td>1</td>\n",
       "      <td>0</td>\n",
       "      <td>40.465517</td>\n",
       "      <td>0.0000</td>\n",
       "      <td>0</td>\n",
       "    </tr>\n",
       "    <tr>\n",
       "      <th>764</th>\n",
       "      <td>1</td>\n",
       "      <td>0</td>\n",
       "      <td>40.465517</td>\n",
       "      <td>27.7208</td>\n",
       "      <td>1</td>\n",
       "    </tr>\n",
       "    <tr>\n",
       "      <th>766</th>\n",
       "      <td>3</td>\n",
       "      <td>0</td>\n",
       "      <td>29.250000</td>\n",
       "      <td>6.8583</td>\n",
       "      <td>2</td>\n",
       "    </tr>\n",
       "    <tr>\n",
       "      <th>777</th>\n",
       "      <td>3</td>\n",
       "      <td>0</td>\n",
       "      <td>29.250000</td>\n",
       "      <td>7.2292</td>\n",
       "      <td>1</td>\n",
       "    </tr>\n",
       "  </tbody>\n",
       "</table>\n",
       "<p>149 rows × 5 columns</p>\n",
       "</div>"
      ],
      "text/plain": [
       "     Pclass  Sex        Age     Fare  Embarked\n",
       "2         3    0  27.871728  69.5500         0\n",
       "3         1    0  40.465517  30.5000         0\n",
       "9         3    0  27.871728   7.8792         0\n",
       "17        1    0  40.465517  25.9250         0\n",
       "26        3    0  29.250000  15.5000         2\n",
       "..      ...  ...        ...      ...       ...\n",
       "754       3    1  24.838065  14.5000         0\n",
       "760       1    0  40.465517   0.0000         0\n",
       "764       1    0  40.465517  27.7208         1\n",
       "766       3    0  29.250000   6.8583         2\n",
       "777       3    0  29.250000   7.2292         1\n",
       "\n",
       "[149 rows x 5 columns]"
      ]
     },
     "execution_count": 28,
     "metadata": {},
     "output_type": "execute_result"
    }
   ],
   "source": [
    "# 결측값 대체\n",
    "cluster_train_data.loc[train_na_idx, \"Age\"] = train_fill_value\n",
    "\n",
    "# 결측값 확인\n",
    "cluster_train_data.loc[train_na_idx]"
   ]
  },
  {
   "cell_type": "code",
   "execution_count": 29,
   "metadata": {
    "ExecuteTime": {
     "end_time": "2022-04-08T08:42:17.718430Z",
     "start_time": "2022-04-08T08:42:17.675432Z"
    }
   },
   "outputs": [],
   "source": [
    "# 학습 데이터와 마찬가지로 검증/테스트 데이터에도 동일하게 진행\n",
    "# 정규화와 동일하게 Train 데이터에서 구한 값으로 결측치 대체\n",
    "valid_na_idx = cluster_valid_data.loc[cluster_valid_data[\"Age\"].isna()].index\n",
    "valid_fill_value = list(map(lambda x: cluster_fill_value[x], clustered_valid[valid_na_idx]))\n",
    "\n",
    "test_na_idx = cluster_test_data.loc[cluster_test_data[\"Age\"].isna()].index\n",
    "test_fill_value = list(map(lambda x: cluster_fill_value[x], clustered_test[test_na_idx]))\n",
    "\n",
    "cluster_valid_data.loc[valid_na_idx, \"Age\"] = valid_fill_value\n",
    "cluster_test_data.loc[test_na_idx, \"Age\"] = test_fill_value"
   ]
  },
  {
   "cell_type": "markdown",
   "metadata": {},
   "source": [
    "# 3. Model(RF)"
   ]
  },
  {
   "cell_type": "code",
   "execution_count": 30,
   "metadata": {
    "ExecuteTime": {
     "end_time": "2022-04-08T08:42:17.767453Z",
     "start_time": "2022-04-08T08:42:17.724442Z"
    }
   },
   "outputs": [],
   "source": [
    "from sklearn.ensemble import RandomForestClassifier\n",
    "from sklearn.metrics import accuracy_score"
   ]
  },
  {
   "cell_type": "markdown",
   "metadata": {},
   "source": [
    "### 3.1 Hyper-Parameter Tuning\n",
    "각 데이터에 대해서 최고의 성능을 보이는 `n_estimators`를 탐색"
   ]
  },
  {
   "cell_type": "markdown",
   "metadata": {},
   "source": [
    "#### 3.1.1 Data filled with the average of the entire data"
   ]
  },
  {
   "cell_type": "code",
   "execution_count": 31,
   "metadata": {
    "ExecuteTime": {
     "end_time": "2022-04-08T08:42:44.086551Z",
     "start_time": "2022-04-08T08:42:17.774436Z"
    }
   },
   "outputs": [],
   "source": [
    "n_estimators = [n for n in range(50, 1050, 50)]\n",
    "\n",
    "mean_accuracy = []\n",
    "for n_estimator in n_estimators:\n",
    "    mean_random_forest = RandomForestClassifier(n_estimators=n_estimator)\n",
    "    mean_random_forest.fit(mean_train_data, train_label)\n",
    "    mean_valid_pred = mean_random_forest.predict(mean_valid_data)\n",
    "    mean_accuracy += [accuracy_score(valid_label, mean_valid_pred)]"
   ]
  },
  {
   "cell_type": "code",
   "execution_count": 32,
   "metadata": {
    "ExecuteTime": {
     "end_time": "2022-04-08T08:42:44.101418Z",
     "start_time": "2022-04-08T08:42:44.086551Z"
    }
   },
   "outputs": [
    {
     "data": {
      "text/plain": [
       "[(50, 0.8582375478927203),\n",
       " (100, 0.8582375478927203),\n",
       " (150, 0.8544061302681992),\n",
       " (200, 0.8582375478927203),\n",
       " (250, 0.8620689655172413),\n",
       " (300, 0.8582375478927203),\n",
       " (350, 0.8544061302681992),\n",
       " (400, 0.8582375478927203),\n",
       " (450, 0.8544061302681992),\n",
       " (500, 0.8582375478927203),\n",
       " (550, 0.8544061302681992),\n",
       " (600, 0.8582375478927203),\n",
       " (650, 0.8620689655172413),\n",
       " (700, 0.8544061302681992),\n",
       " (750, 0.8582375478927203),\n",
       " (800, 0.8582375478927203),\n",
       " (850, 0.8544061302681992),\n",
       " (900, 0.8582375478927203),\n",
       " (950, 0.8582375478927203),\n",
       " (1000, 0.8582375478927203)]"
      ]
     },
     "execution_count": 32,
     "metadata": {},
     "output_type": "execute_result"
    }
   ],
   "source": [
    "list(zip(n_estimators, mean_accuracy))"
   ]
  },
  {
   "cell_type": "code",
   "execution_count": 33,
   "metadata": {
    "ExecuteTime": {
     "end_time": "2022-04-08T08:42:44.118438Z",
     "start_time": "2022-04-08T08:42:44.105415Z"
    }
   },
   "outputs": [
    {
     "name": "stdout",
     "output_type": "stream",
     "text": [
      "Best n_estimator for mean data is 250, it's valid accuracy is 0.8621\n"
     ]
    }
   ],
   "source": [
    "mean_best_n_estimator = n_estimators[np.argmax(mean_accuracy)]\n",
    "print(f\"Best n_estimator for mean data is {mean_best_n_estimator}, it's valid accuracy is {max(mean_accuracy):.4f}\")"
   ]
  },
  {
   "cell_type": "markdown",
   "metadata": {},
   "source": [
    "#### 3.1.2 Data filled with the average of similar data"
   ]
  },
  {
   "cell_type": "code",
   "execution_count": 34,
   "metadata": {
    "ExecuteTime": {
     "end_time": "2022-04-08T08:43:14.941256Z",
     "start_time": "2022-04-08T08:42:44.124432Z"
    }
   },
   "outputs": [],
   "source": [
    "cluster_accuracy = []\n",
    "for n_estimator in n_estimators:\n",
    "    cluster_random_forest = RandomForestClassifier(n_estimators=n_estimator)\n",
    "    cluster_random_forest.fit(cluster_train_data, train_label)\n",
    "    cluster_valid_pred = cluster_random_forest.predict(cluster_valid_data)\n",
    "    cluster_accuracy += [accuracy_score(valid_label, cluster_valid_pred)]"
   ]
  },
  {
   "cell_type": "code",
   "execution_count": 35,
   "metadata": {
    "ExecuteTime": {
     "end_time": "2022-04-08T08:43:14.956592Z",
     "start_time": "2022-04-08T08:43:14.941256Z"
    }
   },
   "outputs": [
    {
     "data": {
      "text/plain": [
       "[(50, 0.8544061302681992),\n",
       " (100, 0.8505747126436781),\n",
       " (150, 0.8544061302681992),\n",
       " (200, 0.8544061302681992),\n",
       " (250, 0.8582375478927203),\n",
       " (300, 0.8582375478927203),\n",
       " (350, 0.8544061302681992),\n",
       " (400, 0.8544061302681992),\n",
       " (450, 0.8582375478927203),\n",
       " (500, 0.8582375478927203),\n",
       " (550, 0.8582375478927203),\n",
       " (600, 0.8582375478927203),\n",
       " (650, 0.8544061302681992),\n",
       " (700, 0.8544061302681992),\n",
       " (750, 0.8582375478927203),\n",
       " (800, 0.8620689655172413),\n",
       " (850, 0.8582375478927203),\n",
       " (900, 0.8620689655172413),\n",
       " (950, 0.8544061302681992),\n",
       " (1000, 0.8544061302681992)]"
      ]
     },
     "execution_count": 35,
     "metadata": {},
     "output_type": "execute_result"
    }
   ],
   "source": [
    "list(zip(n_estimators, cluster_accuracy))"
   ]
  },
  {
   "cell_type": "code",
   "execution_count": 36,
   "metadata": {
    "ExecuteTime": {
     "end_time": "2022-04-08T08:43:15.002599Z",
     "start_time": "2022-04-08T08:43:14.960590Z"
    }
   },
   "outputs": [
    {
     "name": "stdout",
     "output_type": "stream",
     "text": [
      "Best n_estimator for cluster data is 800, it's valid accuracy is 0.8621\n"
     ]
    }
   ],
   "source": [
    "cluster_best_n_estimator = n_estimators[np.argmax(cluster_accuracy)]\n",
    "print(f\"Best n_estimator for cluster data is {cluster_best_n_estimator}, it's valid accuracy is {max(cluster_accuracy):.4f}\")"
   ]
  },
  {
   "cell_type": "markdown",
   "metadata": {},
   "source": [
    "#### 3.1.3 Best Parameter"
   ]
  },
  {
   "cell_type": "code",
   "execution_count": 37,
   "metadata": {
    "ExecuteTime": {
     "end_time": "2022-04-08T08:43:15.036617Z",
     "start_time": "2022-04-08T08:43:15.008592Z"
    }
   },
   "outputs": [],
   "source": [
    "mean_random_forest = RandomForestClassifier(n_estimators=mean_best_n_estimator)\n",
    "cluster_random_forest = RandomForestClassifier(n_estimators=cluster_best_n_estimator)"
   ]
  },
  {
   "cell_type": "markdown",
   "metadata": {},
   "source": [
    "### 3.2 Learning"
   ]
  },
  {
   "cell_type": "code",
   "execution_count": 38,
   "metadata": {
    "ExecuteTime": {
     "end_time": "2022-04-08T08:43:18.048507Z",
     "start_time": "2022-04-08T08:43:15.045601Z"
    }
   },
   "outputs": [
    {
     "data": {
      "text/plain": [
       "RandomForestClassifier(n_estimators=800)"
      ]
     },
     "execution_count": 38,
     "metadata": {},
     "output_type": "execute_result"
    }
   ],
   "source": [
    "mean_random_forest.fit(mean_train_data, train_label)\n",
    "cluster_random_forest.fit(cluster_train_data, train_label)"
   ]
  },
  {
   "cell_type": "markdown",
   "metadata": {},
   "source": [
    "### 3.3 Predict"
   ]
  },
  {
   "cell_type": "code",
   "execution_count": 39,
   "metadata": {
    "ExecuteTime": {
     "end_time": "2022-04-08T08:43:18.319743Z",
     "start_time": "2022-04-08T08:43:18.052507Z"
    }
   },
   "outputs": [],
   "source": [
    "mean_test_pred = mean_random_forest.predict(mean_test_data)\n",
    "cluster_test_pred = cluster_random_forest.predict(cluster_test_data)"
   ]
  },
  {
   "cell_type": "markdown",
   "metadata": {},
   "source": [
    "### 3.4 Evalution"
   ]
  },
  {
   "cell_type": "code",
   "execution_count": 40,
   "metadata": {
    "ExecuteTime": {
     "end_time": "2022-04-08T08:43:18.334507Z",
     "start_time": "2022-04-08T08:43:18.322511Z"
    }
   },
   "outputs": [
    {
     "name": "stdout",
     "output_type": "stream",
     "text": [
      "Test Accuracy for mean data is 0.8588\n",
      "Test Accuracy for cluster data is 0.8626\n"
     ]
    }
   ],
   "source": [
    "mean_test_accuracy = accuracy_score(test_label, mean_test_pred)\n",
    "cluster_test_accuracy = accuracy_score(test_label, cluster_test_pred)\n",
    "\n",
    "print(f\"Test Accuracy for mean data is {mean_test_accuracy:.4f}\")\n",
    "print(f\"Test Accuracy for cluster data is {cluster_test_accuracy:.4f}\")"
   ]
  },
  {
   "cell_type": "code",
   "execution_count": null,
   "metadata": {},
   "outputs": [],
   "source": []
  }
 ],
 "metadata": {
  "hide_input": false,
  "kernelspec": {
   "display_name": "ojt",
   "language": "python",
   "name": "ojt"
  },
  "language_info": {
   "codemirror_mode": {
    "name": "ipython",
    "version": 3
   },
   "file_extension": ".py",
   "mimetype": "text/x-python",
   "name": "python",
   "nbconvert_exporter": "python",
   "pygments_lexer": "ipython3",
   "version": "3.6.5"
  },
  "toc": {
   "base_numbering": 1,
   "nav_menu": {},
   "number_sections": false,
   "sideBar": true,
   "skip_h1_title": false,
   "title_cell": "Table of Contents",
   "title_sidebar": "Contents",
   "toc_cell": false,
   "toc_position": {},
   "toc_section_display": true,
   "toc_window_display": false
  },
  "varInspector": {
   "cols": {
    "lenName": 16,
    "lenType": 16,
    "lenVar": 40
   },
   "kernels_config": {
    "python": {
     "delete_cmd_postfix": "",
     "delete_cmd_prefix": "del ",
     "library": "var_list.py",
     "varRefreshCmd": "print(var_dic_list())"
    },
    "r": {
     "delete_cmd_postfix": ") ",
     "delete_cmd_prefix": "rm(",
     "library": "var_list.r",
     "varRefreshCmd": "cat(var_dic_list()) "
    }
   },
   "types_to_exclude": [
    "module",
    "function",
    "builtin_function_or_method",
    "instance",
    "_Feature"
   ],
   "window_display": false
  }
 },
 "nbformat": 4,
 "nbformat_minor": 2
}
