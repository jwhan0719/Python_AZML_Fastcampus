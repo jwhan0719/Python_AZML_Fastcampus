{
 "cells": [
  {
   "cell_type": "markdown",
   "metadata": {},
   "source": [
    "# 1. Univariate Regression(단변량 회귀분석)\n",
    "\n",
    "### 1.1 Data"
   ]
  },
  {
   "cell_type": "code",
   "execution_count": 1,
   "metadata": {
    "ExecuteTime": {
     "end_time": "2022-03-31T06:36:28.905546Z",
     "start_time": "2022-03-31T06:36:27.405475Z"
    }
   },
   "outputs": [],
   "source": [
    "import pandas as pd\n",
    "import numpy as np\n",
    "import matplotlib.pyplot as plt\n",
    "\n",
    "np.random.seed(2021)"
   ]
  },
  {
   "cell_type": "code",
   "execution_count": 2,
   "metadata": {
    "ExecuteTime": {
     "end_time": "2022-03-31T06:36:29.170529Z",
     "start_time": "2022-03-31T06:36:28.905546Z"
    }
   },
   "outputs": [
    {
     "data": {
      "text/plain": [
       "<matplotlib.collections.PathCollection at 0x1582c709780>"
      ]
     },
     "execution_count": 2,
     "metadata": {},
     "output_type": "execute_result"
    },
    {
     "data": {
      "image/png": "[encoded data removed]",
      "text/plain": [
       "<Figure size 432x288 with 1 Axes>"
      ]
     },
     "metadata": {
      "needs_background": "light"
     },
     "output_type": "display_data"
    }
   ],
   "source": [
    "X = np.array([1,2,3,4])\n",
    "y = np.array([2,1,4,3])\n",
    "\n",
    "plt.scatter(X, y)"
   ]
  },
  {
   "cell_type": "markdown",
   "metadata": {},
   "source": [
    "### 1.2 Data Trans"
   ]
  },
  {
   "cell_type": "code",
   "execution_count": 3,
   "metadata": {
    "ExecuteTime": {
     "end_time": "2022-03-31T06:36:29.188344Z",
     "start_time": "2022-03-31T06:36:29.173528Z"
    }
   },
   "outputs": [
    {
     "name": "stdout",
     "output_type": "stream",
     "text": [
      "[1 2 3 4]\n",
      "(4,)\n"
     ]
    }
   ],
   "source": [
    "print(X)\n",
    "print(X.shape)"
   ]
  },
  {
   "cell_type": "code",
   "execution_count": 4,
   "metadata": {
    "ExecuteTime": {
     "end_time": "2022-03-31T06:36:29.210056Z",
     "start_time": "2022-03-31T06:36:29.191345Z"
    }
   },
   "outputs": [
    {
     "name": "stdout",
     "output_type": "stream",
     "text": [
      "[[1]\n",
      " [2]\n",
      " [3]\n",
      " [4]]\n",
      "(4, 1)\n"
     ]
    }
   ],
   "source": [
    "data = X.reshape(-1, 1)\n",
    "\n",
    "print(data)\n",
    "print(data.shape)"
   ]
  },
  {
   "cell_type": "markdown",
   "metadata": {},
   "source": [
    "### 1.3 Learning"
   ]
  },
  {
   "cell_type": "code",
   "execution_count": 5,
   "metadata": {
    "ExecuteTime": {
     "end_time": "2022-03-31T06:36:30.285137Z",
     "start_time": "2022-03-31T06:36:29.210056Z"
    }
   },
   "outputs": [
    {
     "name": "stdout",
     "output_type": "stream",
     "text": [
      "1.0000000000000004\n",
      "[0.6]\n"
     ]
    }
   ],
   "source": [
    "from sklearn.linear_model import LinearRegression\n",
    "\n",
    "# 모델 변수 선언\n",
    "model = LinearRegression()\n",
    "\n",
    "# 모델 학습\n",
    "model.fit(X=data, y=y)\n",
    "\n",
    "# 모델 식 확인\n",
    "print(model.intercept_)\n",
    "\n",
    "# 회귀계수 확인\n",
    "print(model.coef_)"
   ]
  },
  {
   "cell_type": "markdown",
   "metadata": {},
   "source": [
    "위의 두 결과로 다음과 같은 회귀선을 얻을 수 있다.  \n",
    "`y = 1.0000000000000004 + 0.6 * x`"
   ]
  },
  {
   "cell_type": "markdown",
   "metadata": {},
   "source": [
    "### 1.4 Predict"
   ]
  },
  {
   "cell_type": "code",
   "execution_count": 6,
   "metadata": {
    "ExecuteTime": {
     "end_time": "2022-03-31T06:36:30.300226Z",
     "start_time": "2022-03-31T06:36:30.285137Z"
    }
   },
   "outputs": [
    {
     "data": {
      "text/plain": [
       "array([1.6, 2.2, 2.8, 3.4])"
      ]
     },
     "execution_count": 6,
     "metadata": {},
     "output_type": "execute_result"
    }
   ],
   "source": [
    "# X(data)는 예측하고자 하는 데이터\n",
    "pred = model.predict(data)\n",
    "\n",
    "# 예측 결과\n",
    "pred"
   ]
  },
  {
   "cell_type": "markdown",
   "metadata": {},
   "source": [
    "### 1.5 Plot"
   ]
  },
  {
   "cell_type": "code",
   "execution_count": 7,
   "metadata": {
    "ExecuteTime": {
     "end_time": "2022-03-31T06:36:30.464850Z",
     "start_time": "2022-03-31T06:36:30.306225Z"
    }
   },
   "outputs": [
    {
     "data": {
      "text/plain": [
       "[<matplotlib.lines.Line2D at 0x158095c6c50>]"
      ]
     },
     "execution_count": 7,
     "metadata": {},
     "output_type": "execute_result"
    },
    {
     "data": {
      "image/png": "[encoded data removed]",
      "text/plain": [
       "<Figure size 432x288 with 1 Axes>"
      ]
     },
     "metadata": {
      "needs_background": "light"
     },
     "output_type": "display_data"
    }
   ],
   "source": [
    "# 회귀선 plot 표현\n",
    "plt.scatter(X, y)\n",
    "plt.plot(X, pred, color='green')"
   ]
  },
  {
   "cell_type": "markdown",
   "metadata": {},
   "source": [
    "# 2. Multivariate Regression(다변량 회귀분석)"
   ]
  },
  {
   "cell_type": "markdown",
   "metadata": {},
   "source": [
    "### 2.1 Data"
   ]
  },
  {
   "cell_type": "code",
   "execution_count": 8,
   "metadata": {
    "ExecuteTime": {
     "end_time": "2022-03-31T06:36:30.479968Z",
     "start_time": "2022-03-31T06:36:30.465389Z"
    }
   },
   "outputs": [],
   "source": [
    "bias = 1\n",
    "beta = np.array([2,3,4,5]).reshape(4, 1)\n",
    "noise = np.random.randn(100, 1)"
   ]
  },
  {
   "cell_type": "code",
   "execution_count": 9,
   "metadata": {
    "ExecuteTime": {
     "end_time": "2022-03-31T06:36:30.495121Z",
     "start_time": "2022-03-31T06:36:30.479968Z"
    }
   },
   "outputs": [],
   "source": [
    "X = np.random.randn(100, 4)\n",
    "y = bias + X.dot(beta)\n",
    "y_with_noise = y + noise"
   ]
  },
  {
   "cell_type": "code",
   "execution_count": 10,
   "metadata": {
    "ExecuteTime": {
     "end_time": "2022-03-31T06:36:30.511568Z",
     "start_time": "2022-03-31T06:36:30.495121Z"
    }
   },
   "outputs": [
    {
     "data": {
      "text/plain": [
       "array([[-0.74057432,  0.45823318,  1.2572469 , -0.44170407],\n",
       "       [ 0.5413351 ,  0.5672784 , -0.43538181,  0.76681236],\n",
       "       [ 0.48084856, -0.88128189, -0.68428578,  0.45401778],\n",
       "       [-0.72516608, -1.43882635,  2.15079225,  0.04869812],\n",
       "       [ 0.64711296, -1.07448408,  0.24474502,  0.37090588],\n",
       "       [ 0.41423217,  1.19669386,  1.0824733 ,  0.27691761],\n",
       "       [ 0.9303673 ,  0.33499986,  1.79409578, -0.95259799],\n",
       "       [-0.56992369,  0.24691765,  0.51129208, -0.43980433],\n",
       "       [ 1.79024025,  0.18092909,  0.38195648,  0.51485676],\n",
       "       [ 0.59167189,  1.9003216 ,  0.60031973, -0.12461753]])"
      ]
     },
     "execution_count": 10,
     "metadata": {},
     "output_type": "execute_result"
    }
   ],
   "source": [
    "X[:10]"
   ]
  },
  {
   "cell_type": "code",
   "execution_count": 11,
   "metadata": {
    "ExecuteTime": {
     "end_time": "2022-03-31T06:36:30.529770Z",
     "start_time": "2022-03-31T06:36:30.515059Z"
    }
   },
   "outputs": [
    {
     "data": {
      "text/plain": [
       "array([[ 3.71401813],\n",
       "       [ 5.87703996],\n",
       "       [-1.14920281],\n",
       "       [ 4.0798484 ],\n",
       "       [ 1.90428314],\n",
       "       [11.13302717],\n",
       "       [ 6.27912737],\n",
       "       [ 0.44705225],\n",
       "       [ 9.22537749],\n",
       "       [ 9.66249986]])"
      ]
     },
     "execution_count": 11,
     "metadata": {},
     "output_type": "execute_result"
    }
   ],
   "source": [
    "y[:10]"
   ]
  },
  {
   "cell_type": "markdown",
   "metadata": {},
   "source": [
    "### 2.2 Learning"
   ]
  },
  {
   "cell_type": "code",
   "execution_count": 12,
   "metadata": {
    "ExecuteTime": {
     "end_time": "2022-03-31T06:36:30.545360Z",
     "start_time": "2022-03-31T06:36:30.529770Z"
    }
   },
   "outputs": [
    {
     "name": "stdout",
     "output_type": "stream",
     "text": [
      "[1.11417641]\n",
      "[[1.99383579 2.94374717 3.97346537 4.84223742]]\n"
     ]
    }
   ],
   "source": [
    "model = LinearRegression()\n",
    "model.fit(X, y_with_noise)\n",
    "\n",
    "# 모델 식 확인\n",
    "print(model.intercept_)\n",
    "\n",
    "# 회귀계수 확인\n",
    "print(model.coef_)"
   ]
  },
  {
   "cell_type": "markdown",
   "metadata": {},
   "source": [
    "### 2.3 통계적 방법 활용한 회귀식 계산"
   ]
  },
  {
   "cell_type": "code",
   "execution_count": 13,
   "metadata": {
    "ExecuteTime": {
     "end_time": "2022-03-31T06:36:30.565562Z",
     "start_time": "2022-03-31T06:36:30.548240Z"
    }
   },
   "outputs": [],
   "source": [
    "bias_X = np.array([1]*len(X)).reshape(-1, 1)\n",
    "stat_X = np.hstack([bias_X, X])\n",
    "X_X_transpose = stat_X.transpose().dot(stat_X)\n",
    "X_X_transpose_inverse = np.linalg.inv(X_X_transpose)"
   ]
  },
  {
   "cell_type": "code",
   "execution_count": 14,
   "metadata": {
    "ExecuteTime": {
     "end_time": "2022-03-31T06:36:30.588846Z",
     "start_time": "2022-03-31T06:36:30.570580Z"
    }
   },
   "outputs": [
    {
     "data": {
      "text/plain": [
       "array([[1.11417641],\n",
       "       [1.99383579],\n",
       "       [2.94374717],\n",
       "       [3.97346537],\n",
       "       [4.84223742]])"
      ]
     },
     "execution_count": 14,
     "metadata": {},
     "output_type": "execute_result"
    }
   ],
   "source": [
    "stat_beta = X_X_transpose_inverse.dot(stat_X.transpose()).dot(y_with_noise)\n",
    "stat_beta"
   ]
  },
  {
   "cell_type": "markdown",
   "metadata": {},
   "source": [
    "# 3. Polynomial Regression(다항 회귀분석)"
   ]
  },
  {
   "cell_type": "markdown",
   "metadata": {},
   "source": [
    "### 3.1 Data"
   ]
  },
  {
   "cell_type": "code",
   "execution_count": 15,
   "metadata": {
    "ExecuteTime": {
     "end_time": "2022-03-31T06:36:30.605688Z",
     "start_time": "2022-03-31T06:36:30.588846Z"
    }
   },
   "outputs": [],
   "source": [
    "# 비선형 데이터 생성\n",
    "bias = 1\n",
    "beta = np.array([2,3]).reshape(2, 1)\n",
    "noise = np.random.randn(100, 1)"
   ]
  },
  {
   "cell_type": "code",
   "execution_count": 16,
   "metadata": {
    "ExecuteTime": {
     "end_time": "2022-03-31T06:36:30.623905Z",
     "start_time": "2022-03-31T06:36:30.605688Z"
    }
   },
   "outputs": [
    {
     "data": {
      "text/plain": [
       "array([[-0.92491748,  0.85547234],\n",
       "       [ 1.01010697,  1.02031609],\n",
       "       [ 0.75532068,  0.57050933],\n",
       "       [ 0.8542725 ,  0.7297815 ],\n",
       "       [ 0.70907623,  0.5027891 ],\n",
       "       [ 0.82063592,  0.67344331],\n",
       "       [ 0.12924242,  0.0167036 ],\n",
       "       [ 0.07362991,  0.00542136],\n",
       "       [-0.25463986,  0.06484146],\n",
       "       [ 0.06335837,  0.00401428]])"
      ]
     },
     "execution_count": 16,
     "metadata": {},
     "output_type": "execute_result"
    }
   ],
   "source": [
    "X = np.random.randn(100, 1)\n",
    "X_poly = np.hstack([X, X**2])\n",
    "\n",
    "X_poly[:10]"
   ]
  },
  {
   "cell_type": "code",
   "execution_count": 17,
   "metadata": {
    "ExecuteTime": {
     "end_time": "2022-03-31T06:36:30.770044Z",
     "start_time": "2022-03-31T06:36:30.627557Z"
    }
   },
   "outputs": [
    {
     "data": {
      "text/plain": [
       "<matplotlib.collections.PathCollection at 0x15836d5a198>"
      ]
     },
     "execution_count": 17,
     "metadata": {},
     "output_type": "execute_result"
    },
    {
     "data": {
      "image/png": "[encoded data removed]",
      "text/plain": [
       "<Figure size 432x288 with 1 Axes>"
      ]
     },
     "metadata": {
      "needs_background": "light"
     },
     "output_type": "display_data"
    }
   ],
   "source": [
    "y = bias + X_poly.dot(beta)\n",
    "y_with_noise = y + noise\n",
    "\n",
    "plt.scatter(X, y_with_noise)"
   ]
  },
  {
   "cell_type": "markdown",
   "metadata": {},
   "source": [
    "### 3.2 Learning"
   ]
  },
  {
   "cell_type": "code",
   "execution_count": 18,
   "metadata": {
    "ExecuteTime": {
     "end_time": "2022-03-31T06:36:30.790425Z",
     "start_time": "2022-03-31T06:36:30.770044Z"
    }
   },
   "outputs": [
    {
     "name": "stdout",
     "output_type": "stream",
     "text": [
      "[1.0466608]\n",
      "[[2.02459592 2.96023615]]\n"
     ]
    }
   ],
   "source": [
    "# 학습\n",
    "model = LinearRegression()\n",
    "model.fit(X_poly, y_with_noise)\n",
    "\n",
    "# 회귀식\n",
    "print(model.intercept_)\n",
    "\n",
    "# 회귀 계수\n",
    "print(model.coef_)"
   ]
  },
  {
   "cell_type": "markdown",
   "metadata": {
    "ExecuteTime": {
     "end_time": "2022-03-31T06:17:19.043043Z",
     "start_time": "2022-03-31T06:17:19.037043Z"
    }
   },
   "source": [
    "### 3.3 Predict and Plot"
   ]
  },
  {
   "cell_type": "code",
   "execution_count": 19,
   "metadata": {
    "ExecuteTime": {
     "end_time": "2022-03-31T06:36:30.923380Z",
     "start_time": "2022-03-31T06:36:30.790425Z"
    }
   },
   "outputs": [
    {
     "data": {
      "text/plain": [
       "<matplotlib.collections.PathCollection at 0x15836daceb8>"
      ]
     },
     "execution_count": 19,
     "metadata": {},
     "output_type": "execute_result"
    },
    {
     "data": {
      "image/png": "[encoded data removed]",
      "text/plain": [
       "<Figure size 432x288 with 1 Axes>"
      ]
     },
     "metadata": {
      "needs_background": "light"
     },
     "output_type": "display_data"
    }
   ],
   "source": [
    "pred = model.predict(X_poly)\n",
    "\n",
    "plt.scatter(X, pred)"
   ]
  },
  {
   "cell_type": "code",
   "execution_count": null,
   "metadata": {},
   "outputs": [],
   "source": []
  }
 ],
 "metadata": {
  "hide_input": false,
  "kernelspec": {
   "display_name": "ojt",
   "language": "python",
   "name": "ojt"
  },
  "language_info": {
   "codemirror_mode": {
    "name": "ipython",
    "version": 3
   },
   "file_extension": ".py",
   "mimetype": "text/x-python",
   "name": "python",
   "nbconvert_exporter": "python",
   "pygments_lexer": "ipython3",
   "version": "3.6.5"
  },
  "toc": {
   "base_numbering": 1,
   "nav_menu": {},
   "number_sections": false,
   "sideBar": true,
   "skip_h1_title": false,
   "title_cell": "Table of Contents",
   "title_sidebar": "Contents",
   "toc_cell": false,
   "toc_position": {},
   "toc_section_display": true,
   "toc_window_display": false
  },
  "varInspector": {
   "cols": {
    "lenName": 16,
    "lenType": 16,
    "lenVar": 40
   },
   "kernels_config": {
    "python": {
     "delete_cmd_postfix": "",
     "delete_cmd_prefix": "del ",
     "library": "var_list.py",
     "varRefreshCmd": "print(var_dic_list())"
    },
    "r": {
     "delete_cmd_postfix": ") ",
     "delete_cmd_prefix": "rm(",
     "library": "var_list.r",
     "varRefreshCmd": "cat(var_dic_list()) "
    }
   },
   "types_to_exclude": [
    "module",
    "function",
    "builtin_function_or_method",
    "instance",
    "_Feature"
   ],
   "window_display": false
  }
 },
 "nbformat": 4,
 "nbformat_minor": 2
}
