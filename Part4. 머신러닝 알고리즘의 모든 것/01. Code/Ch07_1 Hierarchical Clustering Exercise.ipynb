{
 "cells": [
  {
   "cell_type": "markdown",
   "metadata": {},
   "source": [
    "# 1. Sample Data and Hierarchical Clustering"
   ]
  },
  {
   "cell_type": "code",
   "execution_count": 1,
   "metadata": {
    "ExecuteTime": {
     "end_time": "2022-04-07T08:41:27.444080Z",
     "start_time": "2022-04-07T08:41:26.055214Z"
    }
   },
   "outputs": [],
   "source": [
    "import pandas as pd\n",
    "import numpy as np\n",
    "import matplotlib.pyplot as plt\n",
    "\n",
    "np.random.seed(2021)"
   ]
  },
  {
   "cell_type": "markdown",
   "metadata": {},
   "source": [
    "### 1.1 Data"
   ]
  },
  {
   "cell_type": "code",
   "execution_count": 2,
   "metadata": {
    "ExecuteTime": {
     "end_time": "2022-04-07T08:41:27.476066Z",
     "start_time": "2022-04-07T08:41:27.448067Z"
    }
   },
   "outputs": [
    {
     "data": {
      "text/plain": [
       "array([[1, 5],\n",
       "       [2, 4],\n",
       "       [4, 6],\n",
       "       [4, 3],\n",
       "       [5, 3]])"
      ]
     },
     "execution_count": 2,
     "metadata": {},
     "output_type": "execute_result"
    }
   ],
   "source": [
    "data = np.array(\n",
    "    [\n",
    "        (1, 5),\n",
    "        (2, 4),\n",
    "        (4, 6),\n",
    "        (4, 3),\n",
    "        (5, 3),\n",
    "    ]\n",
    ")\n",
    "\n",
    "data"
   ]
  },
  {
   "cell_type": "markdown",
   "metadata": {},
   "source": [
    "# 2. Hierarchical Clustering\n",
    "Hierarchical Clustering은 `sklearn.cluster` 의 `AgglomerativeClustering` 를 이용\n",
    "강의에서 배운 연결 법들은 4가지\n",
    "1. 최단 연결법\n",
    "2. 최장 연결법\n",
    "3. 평균 연결법\n",
    "4. 중심 연결법\n",
    "이를 적용하기 위해서는 `linkage` argument를 통해서 가능\n",
    "- average\n",
    "    - 평균 연결법\n",
    "- complete\n",
    "    - 최장 연결법\n",
    "- single\n",
    "    - 최단 연결법\n",
    "- ward\n",
    "    - 중심 연결법\n",
    "   \n",
    "기본 값은 `ward` "
   ]
  },
  {
   "cell_type": "markdown",
   "metadata": {},
   "source": [
    "### 2.1 Learning"
   ]
  },
  {
   "cell_type": "code",
   "execution_count": 3,
   "metadata": {
    "ExecuteTime": {
     "end_time": "2022-04-07T08:41:28.961927Z",
     "start_time": "2022-04-07T08:41:27.482068Z"
    }
   },
   "outputs": [
    {
     "data": {
      "text/plain": [
       "AgglomerativeClustering(distance_threshold=0, linkage='single', n_clusters=None)"
      ]
     },
     "execution_count": 3,
     "metadata": {},
     "output_type": "execute_result"
    }
   ],
   "source": [
    "# 최단연결법\n",
    "from sklearn.cluster import AgglomerativeClustering\n",
    "\n",
    "\n",
    "single_cluster = AgglomerativeClustering(\n",
    "    distance_threshold=0, n_clusters=None, linkage=\"single\")\n",
    "\n",
    "single_cluster.fit(data)"
   ]
  },
  {
   "cell_type": "markdown",
   "metadata": {},
   "source": [
    "### 2.2 Dendrogram"
   ]
  },
  {
   "cell_type": "code",
   "execution_count": 4,
   "metadata": {
    "ExecuteTime": {
     "end_time": "2022-04-07T08:41:28.994929Z",
     "start_time": "2022-04-07T08:41:28.964929Z"
    }
   },
   "outputs": [],
   "source": [
    "from scipy.cluster.hierarchy import dendrogram\n",
    "\n",
    "\n",
    "def plot_dendrogram(model, **kwargs):\n",
    "    counts = np.zeros(model.children_.shape[0])\n",
    "    n_samples = len(model.labels_)\n",
    "    for i, merge in enumerate(model.children_):\n",
    "        current_count = 0\n",
    "        for child_idx in merge:\n",
    "            if child_idx < n_samples:\n",
    "                current_count += 1  # leaf node\n",
    "            else:\n",
    "                current_count += counts[child_idx - n_samples]\n",
    "        counts[i] = current_count\n",
    "\n",
    "    linkage_matrix = np.column_stack([model.children_, model.distances_,\n",
    "                                      counts]).astype(float)\n",
    "\n",
    "    dendrogram(linkage_matrix, **kwargs, labels=[\"A\", \"B\", \"C\", \"D\", \"E\"])"
   ]
  },
  {
   "cell_type": "code",
   "execution_count": 5,
   "metadata": {
    "ExecuteTime": {
     "end_time": "2022-04-07T08:41:29.325475Z",
     "start_time": "2022-04-07T08:41:28.998927Z"
    }
   },
   "outputs": [
    {
     "data": {
      "image/png": "[encoded data removed]",
      "text/plain": [
       "<Figure size 432x288 with 1 Axes>"
      ]
     },
     "metadata": {
      "needs_background": "light"
     },
     "output_type": "display_data"
    }
   ],
   "source": [
    "plt.title('Hierarchical Clustering Dendrogram with single linkage')\n",
    "plot_dendrogram(single_cluster, truncate_mode='level', p=3)\n",
    "plt.show()"
   ]
  },
  {
   "cell_type": "markdown",
   "metadata": {
    "ExecuteTime": {
     "end_time": "2022-04-07T08:37:45.856314Z",
     "start_time": "2022-04-07T08:37:45.840314Z"
    }
   },
   "source": [
    "### 2.3 Multiple Clusters\n",
    "위에서 사용한 argument들은 데이터 전부를 묶는 방식의 Clustering  \n",
    "이제 n 개의 clustering으로 생성"
   ]
  },
  {
   "cell_type": "markdown",
   "metadata": {},
   "source": [
    "#### 2.3.1 Two Clusters"
   ]
  },
  {
   "cell_type": "code",
   "execution_count": 6,
   "metadata": {
    "ExecuteTime": {
     "end_time": "2022-04-07T08:41:29.358492Z",
     "start_time": "2022-04-07T08:41:29.330495Z"
    }
   },
   "outputs": [
    {
     "data": {
      "text/plain": [
       "AgglomerativeClustering(linkage='single')"
      ]
     },
     "execution_count": 6,
     "metadata": {},
     "output_type": "execute_result"
    }
   ],
   "source": [
    "single_cluster_2 = AgglomerativeClustering(\n",
    "    n_clusters=2, linkage=\"single\")\n",
    "\n",
    "single_cluster_2.fit(data)"
   ]
  },
  {
   "cell_type": "code",
   "execution_count": 7,
   "metadata": {
    "ExecuteTime": {
     "end_time": "2022-04-07T08:41:29.388481Z",
     "start_time": "2022-04-07T08:41:29.364481Z"
    }
   },
   "outputs": [
    {
     "data": {
      "text/plain": [
       "array([0, 0, 1, 0, 0], dtype=int64)"
      ]
     },
     "execution_count": 7,
     "metadata": {},
     "output_type": "execute_result"
    }
   ],
   "source": [
    "single_cluster_2.labels_"
   ]
  },
  {
   "cell_type": "code",
   "execution_count": 8,
   "metadata": {
    "ExecuteTime": {
     "end_time": "2022-04-07T08:41:29.673476Z",
     "start_time": "2022-04-07T08:41:29.395482Z"
    }
   },
   "outputs": [
    {
     "data": {
      "image/png": "[encoded data removed]",
      "text/plain": [
       "<Figure size 504x504 with 1 Axes>"
      ]
     },
     "metadata": {
      "needs_background": "light"
     },
     "output_type": "display_data"
    }
   ],
   "source": [
    "plt.figure(figsize=(7, 7))\n",
    "plt.scatter(data[:, 0], data[:, 1], c=single_cluster_2.labels_)\n",
    "for i, txt in enumerate([\"A\", \"B\", \"C\", \"D\", \"E\"]):\n",
    "    plt.annotate(txt, (data[i, 0], data[i, 1]))"
   ]
  },
  {
   "cell_type": "markdown",
   "metadata": {},
   "source": [
    "#### 2.3.2 Three Clusters"
   ]
  },
  {
   "cell_type": "code",
   "execution_count": 9,
   "metadata": {
    "ExecuteTime": {
     "end_time": "2022-04-07T08:41:29.703559Z",
     "start_time": "2022-04-07T08:41:29.675479Z"
    }
   },
   "outputs": [
    {
     "data": {
      "text/plain": [
       "AgglomerativeClustering(linkage='single', n_clusters=3)"
      ]
     },
     "execution_count": 9,
     "metadata": {},
     "output_type": "execute_result"
    }
   ],
   "source": [
    "single_cluster_3 = AgglomerativeClustering(\n",
    "    n_clusters=3, linkage=\"single\")\n",
    "\n",
    "single_cluster_3.fit(data)"
   ]
  },
  {
   "cell_type": "code",
   "execution_count": 10,
   "metadata": {
    "ExecuteTime": {
     "end_time": "2022-04-07T08:41:29.720498Z",
     "start_time": "2022-04-07T08:41:29.707484Z"
    }
   },
   "outputs": [
    {
     "data": {
      "text/plain": [
       "array([0, 0, 1, 2, 2], dtype=int64)"
      ]
     },
     "execution_count": 10,
     "metadata": {},
     "output_type": "execute_result"
    }
   ],
   "source": [
    "single_cluster_3.labels_"
   ]
  },
  {
   "cell_type": "code",
   "execution_count": 11,
   "metadata": {
    "ExecuteTime": {
     "end_time": "2022-04-07T08:41:29.942482Z",
     "start_time": "2022-04-07T08:41:29.726482Z"
    }
   },
   "outputs": [
    {
     "data": {
      "image/png": "[encoded data removed]",
      "text/plain": [
       "<Figure size 504x504 with 1 Axes>"
      ]
     },
     "metadata": {
      "needs_background": "light"
     },
     "output_type": "display_data"
    }
   ],
   "source": [
    "plt.figure(figsize=(7, 7))\n",
    "plt.scatter(data[:, 0], data[:, 1], c=single_cluster_3.labels_)\n",
    "for i, txt in enumerate([\"A\", \"B\", \"C\", \"D\", \"E\"]):\n",
    "    plt.annotate(txt, (data[i, 0], data[i, 1]))"
   ]
  },
  {
   "cell_type": "markdown",
   "metadata": {},
   "source": [
    "# 3. Different connection methods"
   ]
  },
  {
   "cell_type": "markdown",
   "metadata": {},
   "source": [
    "### 3.1 Mean method of connection"
   ]
  },
  {
   "cell_type": "code",
   "execution_count": 12,
   "metadata": {
    "ExecuteTime": {
     "end_time": "2022-04-07T08:41:29.973479Z",
     "start_time": "2022-04-07T08:41:29.945482Z"
    }
   },
   "outputs": [
    {
     "data": {
      "text/plain": [
       "AgglomerativeClustering(distance_threshold=0, linkage='average',\n",
       "                        n_clusters=None)"
      ]
     },
     "execution_count": 12,
     "metadata": {},
     "output_type": "execute_result"
    }
   ],
   "source": [
    "avg_cluster = AgglomerativeClustering(\n",
    "    distance_threshold=0, n_clusters=None, linkage=\"average\")\n",
    "\n",
    "avg_cluster.fit(data)"
   ]
  },
  {
   "cell_type": "code",
   "execution_count": 13,
   "metadata": {
    "ExecuteTime": {
     "end_time": "2022-04-07T08:41:30.243371Z",
     "start_time": "2022-04-07T08:41:29.983481Z"
    }
   },
   "outputs": [
    {
     "data": {
      "image/png": "[encoded data removed]",
      "text/plain": [
       "<Figure size 432x288 with 1 Axes>"
      ]
     },
     "metadata": {
      "needs_background": "light"
     },
     "output_type": "display_data"
    }
   ],
   "source": [
    "plt.title('Hierarchical Clustering Dendrogram with Average linkage')\n",
    "plot_dendrogram(avg_cluster, truncate_mode='level', p=3)\n",
    "plt.show()"
   ]
  },
  {
   "cell_type": "markdown",
   "metadata": {},
   "source": [
    "### 3.2 Longest connection method"
   ]
  },
  {
   "cell_type": "code",
   "execution_count": 14,
   "metadata": {
    "ExecuteTime": {
     "end_time": "2022-04-07T08:41:30.259388Z",
     "start_time": "2022-04-07T08:41:30.245375Z"
    }
   },
   "outputs": [
    {
     "data": {
      "text/plain": [
       "AgglomerativeClustering(distance_threshold=0, linkage='complete',\n",
       "                        n_clusters=None)"
      ]
     },
     "execution_count": 14,
     "metadata": {},
     "output_type": "execute_result"
    }
   ],
   "source": [
    "max_cluster = AgglomerativeClustering(\n",
    "    distance_threshold=0, n_clusters=None, linkage=\"complete\")\n",
    "\n",
    "max_cluster.fit(data)"
   ]
  },
  {
   "cell_type": "code",
   "execution_count": 15,
   "metadata": {
    "ExecuteTime": {
     "end_time": "2022-04-07T08:41:30.465371Z",
     "start_time": "2022-04-07T08:41:30.262373Z"
    }
   },
   "outputs": [
    {
     "data": {
      "image/png": "[encoded data removed]",
      "text/plain": [
       "<Figure size 432x288 with 1 Axes>"
      ]
     },
     "metadata": {
      "needs_background": "light"
     },
     "output_type": "display_data"
    }
   ],
   "source": [
    "plt.title('Hierarchical Clustering Dendrogram with Maximum linkage')\n",
    "plot_dendrogram(max_cluster, truncate_mode='level', p=3)\n",
    "plt.show()"
   ]
  },
  {
   "cell_type": "markdown",
   "metadata": {},
   "source": [
    "### 3.3 Center connection method"
   ]
  },
  {
   "cell_type": "code",
   "execution_count": 16,
   "metadata": {
    "ExecuteTime": {
     "end_time": "2022-04-07T08:41:30.496373Z",
     "start_time": "2022-04-07T08:41:30.471397Z"
    }
   },
   "outputs": [
    {
     "data": {
      "text/plain": [
       "AgglomerativeClustering(distance_threshold=0, n_clusters=None)"
      ]
     },
     "execution_count": 16,
     "metadata": {},
     "output_type": "execute_result"
    }
   ],
   "source": [
    "centroid_cluster = AgglomerativeClustering(\n",
    "    distance_threshold=0, n_clusters=None, linkage=\"ward\")\n",
    "\n",
    "centroid_cluster.fit(data)"
   ]
  },
  {
   "cell_type": "code",
   "execution_count": 17,
   "metadata": {
    "ExecuteTime": {
     "end_time": "2022-04-07T08:41:30.719394Z",
     "start_time": "2022-04-07T08:41:30.499390Z"
    }
   },
   "outputs": [
    {
     "data": {
      "image/png": "[encoded data removed]",
      "text/plain": [
       "<Figure size 432x288 with 1 Axes>"
      ]
     },
     "metadata": {
      "needs_background": "light"
     },
     "output_type": "display_data"
    }
   ],
   "source": [
    "plt.title('Hierarchical Clustering Dendrogram with Centorid linkage')\n",
    "plot_dendrogram(centroid_cluster, truncate_mode='level', p=3)\n",
    "plt.show()"
   ]
  },
  {
   "cell_type": "markdown",
   "metadata": {},
   "source": [
    "# 4. Total"
   ]
  },
  {
   "cell_type": "code",
   "execution_count": 18,
   "metadata": {
    "ExecuteTime": {
     "end_time": "2022-04-07T08:41:30.735375Z",
     "start_time": "2022-04-07T08:41:30.723372Z"
    }
   },
   "outputs": [],
   "source": [
    "clusters = [\n",
    "    (\"Single\", single_cluster),\n",
    "    (\"Average\", avg_cluster),\n",
    "    (\"Maximum\", max_cluster),\n",
    "    (\"Centroid\", centroid_cluster),\n",
    "]"
   ]
  },
  {
   "cell_type": "code",
   "execution_count": 19,
   "metadata": {
    "ExecuteTime": {
     "end_time": "2022-04-07T08:41:31.447375Z",
     "start_time": "2022-04-07T08:41:30.741373Z"
    }
   },
   "outputs": [
    {
     "data": {
      "image/png": "[encoded data removed]",
      "text/plain": [
       "<Figure size 1080x720 with 4 Axes>"
      ]
     },
     "metadata": {
      "needs_background": "light"
     },
     "output_type": "display_data"
    }
   ],
   "source": [
    "fig, axes = plt.subplots(nrows=2, ncols=2, figsize=(15, 10))\n",
    "\n",
    "for idx, (name, cluster) in enumerate(clusters):\n",
    "    ax = axes[idx//2, idx%2]\n",
    "    ax.set_title(f'Hierarchical Clustering Dendrogram with {name} linkage')\n",
    "    plot_dendrogram(cluster, truncate_mode='level', p=3, ax=ax)"
   ]
  },
  {
   "cell_type": "markdown",
   "metadata": {},
   "source": [
    "# 5. Summary"
   ]
  },
  {
   "cell_type": "markdown",
   "metadata": {},
   "source": [
    "> Clustering(군집화)\n",
    "- 유사한 속성을 갖는 데이터를 묶어 전체 데이터를 몇 개 군집으로 나누는 것\n",
    "- 소속 집단의 정보를 모르고 있는 상태\n",
    "- Label이 없는 데이터를 나누는 방법\n",
    "\n",
    "> 군집분석 종류\n",
    "- 계층적 군집화\n",
    "- 비계층적 군집화\n",
    "\n",
    "> 계층적 군집화\n",
    "- 개체들을 가까운 집단부터 묶어 나가는 방식\n",
    "- 유사 개체들이 결합되는 dendrogram 생성\n",
    "- Cluster들은 sub-cluster를 갖고 있음\n",
    "\n",
    ">> 군집화 거리 종류\n",
    "1. 유클리드 거리\n",
    "2. 맨해튼 거리\n",
    "3. 표준화 거리\n",
    "4. 민콥스키 거리\n",
    "\n",
    ">> 계층 군집화 종류\n",
    "1. 최단 연결법 : 군집에서 가장 가까운 데이터가 새로운 거리가 된다\n",
    "2. 최장 연결법 : 군집에서 가장 먼 데이터가 군집과 데이터의 거리가 된다\n",
    "3. 평균 연결법 : 군집의 데이터들 간의 거리의 평균이 군집과 데이터의 거리가 된다\n",
    "4. 중심 연결법 : 군집의 중심이 새로운 거리가 된다\n",
    "\n",
    ">> 좋은 클러스팅이란\n",
    "- 군집 내 유사도를 최대화(거리를 최소화)\n",
    "- 군집 간 유사도를 최소화(거리를 최대화)\n",
    "\n",
    ">> 클러스터링 평가\n",
    "- 내부 평가 : 군집된 결과 그 자체를 놓고 평가\n",
    "\t- Dunn Index : 군집과 군집 사이 거리가 클수록, 군집 내 데이터 간 거리가 작을 수록 좋은 모델 -> DI가 큰모델\n",
    "\t- 실루엣(Silhouette) : 군집을 만든 결과가 얼마나 유용한지 따지는 군집타당성지표\n",
    "- 외부 평가 : 군집화에 사용되지 않은 데이터로 평가\n",
    "\n",
    "> 비계층적 군집화\n",
    "- 전체 데이터를 확인하고 특정 기준으로 데이터 동시 구분\n",
    "- 각 데이터를 사전에 정의된 개수의 군집 중 하나에 속하게 된다\n",
    "\n",
    ">> 비계층적 군집화 중류\n",
    "- K-Means\n",
    "\t- 정의\n",
    "\t\t- 주어진 데이터를 K개의 군집으로 묶는 방법\n",
    "\t\t- 각 군집은 하나의 중심을 가지며 각 데이터는 가장 가까운 중심에 할당\n",
    "\t\t- 같은 중심에 할당된 개체들이 모여 하나의 ㄱ누집 형성, 사전에 군집의 수, K가 정해져야함\n",
    "\t- 방법\n",
    "\t\t1. 데이터 중 임의로 K개의 중심점 설정\n",
    "\t\t2. 모든 데이터에서 설정된 각 군집의 중심점까지의 거리 계산\n",
    "\t\t3. 모든 데이터를 가장 가까운 중심점이 속한 군집으로 할당\n",
    "\t\t4. 각 군집의 중심점 재설정\n",
    "\t\t5. 군집의 중심점이 변경되지 않을 때까지 2~5를 반복\n",
    "\t- 초기 중심점 설정\n",
    "\t\t- K-Means의 성능은 초기 중심점의 위치에 크게 좌우\n",
    "\t\t- 무작위로 초기 중심 설정되는 위협 방지위한 다양한 방법\n",
    "\t\t\t1. 반복적 수행하여 가장 많이 나타나는 군집 사용 방법\n",
    "\t\t\t2. 전체 데이터 중 일부만 추출하여 계층적 군집화 수행한 뒤 초기 군집 중심 설정 방법\n",
    "\t\t\t3. 데이터 분포의 정보를 사용하여 초기 중심 설정\n",
    "\t- 장점\n",
    "\t\t- 적용하기 쉽다\n",
    "\t\t- 새로운 데이터에 대한 군집 계산할 때 각 군집의 중심점과의 거리만 계산하면 되므로 빠르다\n",
    "\t- 단점\n",
    "\t\t- 서로 다른 크기의 군집을 잘 못찾음\n",
    "\t\t- 서로 다른 밀도의 군집을 잘 못찾음\n",
    "\t\t- 지역적 패턴이 존재하는 군집을 잘 못찾음\n",
    "- DB Scan\n",
    "\t- 정의\n",
    "\t\t- 점 P에서부터 거리가 e(epsilon) 내 m(minPts)개 이상 있으면 하나의 군집으로 인식\n",
    "\t- 학습방법\n",
    "\t\t1. Core Points : 거리 eps이내에 데이터가(자신포함) minPts개 이상 있는 포인트\n",
    "\t\t2. Border Points : Core Points를 이웃으로 갖고 있지만 eps 이내 데이터가 minPts개 보다 적은 포인트\n",
    "\t\t3. Noise Points : Core Points를 이웃으로 갖고 있지 않고 eps 이내 데이터가 minPts개 보다 적은 포인트\n",
    "\t- DBSCAN 모수\n",
    "\t\t1. minPts\n",
    "\t\t\t- 최적의 minPts를 구하는 방법에 대해서는 알려진 방법이 없음\n",
    "\t\t\t- Corss Validation등의 방법으루 구해야 함\n",
    "\t\t2. eps\n",
    "\t\t\t- 주어진 minPts에 대한 최적 거리 구하는 방법에 대해선 K-Dist Graph 사용\n",
    "\t\t\t- K-Dist Graph : minPts번째 인접한 이웃 데이터 포인트까지의 거리, 급격히 증가하기 직전의 지점을 eps로 설정\n",
    "\t- 장점\n",
    "\t\t- 지역적 패턴이 잇는 데이터의 군집 찾을 수 있다\n",
    "\t\t- 노이즈 데이터를 따로 분류하여 노이즈 데이터들이 군집에 영향을 주지 않음\n",
    "\t- 단점\n",
    "\t\t- 밀도가 구역에 따라 바뀔 경우 파악하지 못함"
   ]
  },
  {
   "cell_type": "code",
   "execution_count": null,
   "metadata": {},
   "outputs": [],
   "source": []
  }
 ],
 "metadata": {
  "hide_input": false,
  "kernelspec": {
   "display_name": "ojt",
   "language": "python",
   "name": "ojt"
  },
  "language_info": {
   "codemirror_mode": {
    "name": "ipython",
    "version": 3
   },
   "file_extension": ".py",
   "mimetype": "text/x-python",
   "name": "python",
   "nbconvert_exporter": "python",
   "pygments_lexer": "ipython3",
   "version": "3.6.5"
  },
  "toc": {
   "base_numbering": 1,
   "nav_menu": {},
   "number_sections": false,
   "sideBar": true,
   "skip_h1_title": false,
   "title_cell": "Table of Contents",
   "title_sidebar": "Contents",
   "toc_cell": false,
   "toc_position": {},
   "toc_section_display": true,
   "toc_window_display": false
  },
  "varInspector": {
   "cols": {
    "lenName": 16,
    "lenType": 16,
    "lenVar": 40
   },
   "kernels_config": {
    "python": {
     "delete_cmd_postfix": "",
     "delete_cmd_prefix": "del ",
     "library": "var_list.py",
     "varRefreshCmd": "print(var_dic_list())"
    },
    "r": {
     "delete_cmd_postfix": ") ",
     "delete_cmd_prefix": "rm(",
     "library": "var_list.r",
     "varRefreshCmd": "cat(var_dic_list()) "
    }
   },
   "types_to_exclude": [
    "module",
    "function",
    "builtin_function_or_method",
    "instance",
    "_Feature"
   ],
   "window_display": false
  }
 },
 "nbformat": 4,
 "nbformat_minor": 2
}
