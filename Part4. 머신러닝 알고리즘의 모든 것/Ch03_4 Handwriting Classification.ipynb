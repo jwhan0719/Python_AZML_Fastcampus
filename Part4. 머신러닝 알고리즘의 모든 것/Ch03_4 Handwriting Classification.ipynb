{
 "cells": [
  {
   "cell_type": "markdown",
   "metadata": {},
   "source": [
    "# 1. Handwriting classification in RandomForest"
   ]
  },
  {
   "cell_type": "code",
   "execution_count": 1,
   "metadata": {
    "ExecuteTime": {
     "end_time": "2022-04-01T00:35:19.150358Z",
     "start_time": "2022-04-01T00:35:17.719370Z"
    }
   },
   "outputs": [],
   "source": [
    "import pandas as pd\n",
    "import numpy as np\n",
    "import matplotlib.pyplot as plt\n",
    "\n",
    "np.random.seed(2021)"
   ]
  },
  {
   "cell_type": "markdown",
   "metadata": {},
   "source": [
    "### 1.1 Data\n",
    "- 데이터는 0~9까지의 숫자를 손으로 쓴 데이터"
   ]
  },
  {
   "cell_type": "code",
   "execution_count": 2,
   "metadata": {
    "ExecuteTime": {
     "end_time": "2022-04-01T00:35:20.969265Z",
     "start_time": "2022-04-01T00:35:19.154339Z"
    }
   },
   "outputs": [],
   "source": [
    "from sklearn.datasets import load_digits\n",
    "\n",
    "digits = load_digits()\n",
    "data, target = digits[\"data\"], digits[\"target\"]"
   ]
  },
  {
   "cell_type": "markdown",
   "metadata": {},
   "source": [
    "### 1.2 EDA\n",
    "- 데이터는 각 픽셀값"
   ]
  },
  {
   "cell_type": "code",
   "execution_count": 3,
   "metadata": {
    "ExecuteTime": {
     "end_time": "2022-04-01T00:35:21.000267Z",
     "start_time": "2022-04-01T00:35:20.975253Z"
    }
   },
   "outputs": [
    {
     "data": {
      "text/plain": [
       "array([ 0.,  0.,  5., 13.,  9.,  1.,  0.,  0.,  0.,  0., 13., 15., 10.,\n",
       "       15.,  5.,  0.,  0.,  3., 15.,  2.,  0., 11.,  8.,  0.,  0.,  4.,\n",
       "       12.,  0.,  0.,  8.,  8.,  0.,  0.,  5.,  8.,  0.,  0.,  9.,  8.,\n",
       "        0.,  0.,  4., 11.,  0.,  1., 12.,  7.,  0.,  0.,  2., 14.,  5.,\n",
       "       10., 12.,  0.,  0.,  0.,  0.,  6., 13., 10.,  0.,  0.,  0.])"
      ]
     },
     "execution_count": 3,
     "metadata": {},
     "output_type": "execute_result"
    }
   ],
   "source": [
    "data[0]"
   ]
  },
  {
   "cell_type": "code",
   "execution_count": 4,
   "metadata": {
    "ExecuteTime": {
     "end_time": "2022-04-01T00:35:21.017253Z",
     "start_time": "2022-04-01T00:35:21.008264Z"
    }
   },
   "outputs": [
    {
     "data": {
      "text/plain": [
       "0"
      ]
     },
     "execution_count": 4,
     "metadata": {},
     "output_type": "execute_result"
    }
   ],
   "source": [
    "target[0]"
   ]
  },
  {
   "cell_type": "code",
   "execution_count": 5,
   "metadata": {
    "ExecuteTime": {
     "end_time": "2022-04-01T00:35:21.048253Z",
     "start_time": "2022-04-01T00:35:21.027252Z"
    }
   },
   "outputs": [
    {
     "data": {
      "text/plain": [
       "(64,)"
      ]
     },
     "execution_count": 5,
     "metadata": {},
     "output_type": "execute_result"
    }
   ],
   "source": [
    "data[0].shape"
   ]
  },
  {
   "cell_type": "code",
   "execution_count": 6,
   "metadata": {
    "ExecuteTime": {
     "end_time": "2022-04-01T00:35:24.062510Z",
     "start_time": "2022-04-01T00:35:21.059254Z"
    }
   },
   "outputs": [
    {
     "data": {
      "image/png": "[encoded data removed]",
      "text/plain": [
       "<Figure size 1440x720 with 10 Axes>"
      ]
     },
     "metadata": {
      "needs_background": "light"
     },
     "output_type": "display_data"
    }
   ],
   "source": [
    "# 0~9까지 데이터 시각화\n",
    "samples = data[:10].reshape(10, 8, 8)\n",
    "fig, axes = plt.subplots(nrows=2, ncols=5, figsize=(20, 10))\n",
    "for idx, sample in enumerate(samples):\n",
    "    axes[idx//5, idx%5].imshow(sample, cmap=\"gray\")"
   ]
  },
  {
   "cell_type": "markdown",
   "metadata": {},
   "source": [
    "### 1.3 Data Split"
   ]
  },
  {
   "cell_type": "code",
   "execution_count": 7,
   "metadata": {
    "ExecuteTime": {
     "end_time": "2022-04-01T00:35:24.190510Z",
     "start_time": "2022-04-01T00:35:24.073509Z"
    }
   },
   "outputs": [
    {
     "name": "stdout",
     "output_type": "stream",
     "text": [
      "train_data size: 1257, 0.70\n",
      "test_data size: 540, 0.30\n"
     ]
    }
   ],
   "source": [
    "from sklearn.model_selection import train_test_split\n",
    "\n",
    "train_data, test_data, train_target, test_target = train_test_split(\n",
    "    data, target, train_size=0.7, random_state=2021)\n",
    "\n",
    "print(f\"train_data size: {len(train_target)}, {len(train_target)/len(data):.2f}\")\n",
    "print(f\"test_data size: {len(test_target)}, {len(test_target)/len(data):.2f}\")"
   ]
  },
  {
   "cell_type": "markdown",
   "metadata": {},
   "source": [
    "# 2. Random Forest"
   ]
  },
  {
   "cell_type": "code",
   "execution_count": 8,
   "metadata": {
    "ExecuteTime": {
     "end_time": "2022-04-01T00:35:24.444505Z",
     "start_time": "2022-04-01T00:35:24.195510Z"
    }
   },
   "outputs": [],
   "source": [
    "from sklearn.ensemble import RandomForestClassifier\n",
    "\n",
    "random_forest = RandomForestClassifier()"
   ]
  },
  {
   "cell_type": "markdown",
   "metadata": {},
   "source": [
    "### 2.1 Learning"
   ]
  },
  {
   "cell_type": "code",
   "execution_count": 9,
   "metadata": {
    "ExecuteTime": {
     "end_time": "2022-04-01T00:35:25.029640Z",
     "start_time": "2022-04-01T00:35:24.446508Z"
    }
   },
   "outputs": [
    {
     "data": {
      "text/plain": [
       "RandomForestClassifier()"
      ]
     },
     "execution_count": 9,
     "metadata": {},
     "output_type": "execute_result"
    }
   ],
   "source": [
    "random_forest.fit(train_data, train_target)"
   ]
  },
  {
   "cell_type": "markdown",
   "metadata": {},
   "source": [
    "### 2.2 Feature Importance"
   ]
  },
  {
   "cell_type": "code",
   "execution_count": 10,
   "metadata": {
    "ExecuteTime": {
     "end_time": "2022-04-01T00:35:25.169612Z",
     "start_time": "2022-04-01T00:35:25.047588Z"
    }
   },
   "outputs": [
    {
     "data": {
      "text/plain": [
       "array([0.00000000e+00, 2.22027389e-03, 2.01089999e-02, 1.07830476e-02,\n",
       "       9.51528198e-03, 2.36360479e-02, 9.31093623e-03, 6.69196714e-04,\n",
       "       8.85114030e-06, 8.82351373e-03, 2.63886754e-02, 6.78867334e-03,\n",
       "       1.54145479e-02, 2.58694831e-02, 5.88021424e-03, 4.15847662e-04,\n",
       "       0.00000000e+00, 6.79631151e-03, 2.29701107e-02, 2.65587908e-02,\n",
       "       3.23883747e-02, 4.61493602e-02, 9.64852734e-03, 2.12386017e-04,\n",
       "       1.65085512e-05, 1.53382481e-02, 4.21053792e-02, 2.57443328e-02,\n",
       "       3.07340934e-02, 1.89734748e-02, 3.20272649e-02, 6.33666089e-05,\n",
       "       0.00000000e+00, 3.04673193e-02, 2.16692479e-02, 2.20796421e-02,\n",
       "       3.91744952e-02, 1.99743626e-02, 2.36173762e-02, 0.00000000e+00,\n",
       "       1.17972340e-05, 1.03136921e-02, 3.92388221e-02, 3.67256272e-02,\n",
       "       2.11985343e-02, 2.03332950e-02, 1.74046206e-02, 8.96174336e-05,\n",
       "       4.31000081e-05, 2.92475245e-03, 1.62593325e-02, 2.46582747e-02,\n",
       "       1.44533638e-02, 2.65565338e-02, 2.35906893e-02, 1.84734419e-03,\n",
       "       7.11059765e-05, 2.59587724e-03, 2.17536511e-02, 1.20310587e-02,\n",
       "       2.69356351e-02, 2.94907310e-02, 1.61051482e-02, 2.82483197e-03])"
      ]
     },
     "execution_count": 10,
     "metadata": {},
     "output_type": "execute_result"
    }
   ],
   "source": [
    "random_forest.feature_importances_"
   ]
  },
  {
   "cell_type": "code",
   "execution_count": 11,
   "metadata": {
    "ExecuteTime": {
     "end_time": "2022-04-01T00:35:25.248323Z",
     "start_time": "2022-04-01T00:35:25.178163Z"
    }
   },
   "outputs": [
    {
     "data": {
      "text/plain": [
       "0    0.000000\n",
       "1    0.002220\n",
       "2    0.020109\n",
       "3    0.010783\n",
       "4    0.009515\n",
       "5    0.023636\n",
       "6    0.009311\n",
       "7    0.000669\n",
       "8    0.000009\n",
       "9    0.008824\n",
       "dtype: float64"
      ]
     },
     "execution_count": 11,
     "metadata": {},
     "output_type": "execute_result"
    }
   ],
   "source": [
    "feature_importance = pd.Series(random_forest.feature_importances_)\n",
    "feature_importance.head(10)"
   ]
  },
  {
   "cell_type": "code",
   "execution_count": 12,
   "metadata": {
    "ExecuteTime": {
     "end_time": "2022-04-01T00:35:25.280323Z",
     "start_time": "2022-04-01T00:35:25.256323Z"
    }
   },
   "outputs": [
    {
     "data": {
      "text/plain": [
       "21    0.046149\n",
       "26    0.042105\n",
       "42    0.039239\n",
       "36    0.039174\n",
       "43    0.036726\n",
       "20    0.032388\n",
       "30    0.032027\n",
       "28    0.030734\n",
       "33    0.030467\n",
       "61    0.029491\n",
       "dtype: float64"
      ]
     },
     "execution_count": 12,
     "metadata": {},
     "output_type": "execute_result"
    }
   ],
   "source": [
    "feature_importance = feature_importance.sort_values(ascending=False)\n",
    "feature_importance.head(10)"
   ]
  },
  {
   "cell_type": "code",
   "execution_count": 13,
   "metadata": {
    "ExecuteTime": {
     "end_time": "2022-04-01T00:35:25.802328Z",
     "start_time": "2022-04-01T00:35:25.289323Z"
    }
   },
   "outputs": [
    {
     "data": {
      "text/plain": [
       "<AxesSubplot:>"
      ]
     },
     "execution_count": 13,
     "metadata": {},
     "output_type": "execute_result"
    },
    {
     "data": {
      "image/png": "[encoded data removed]",
      "text/plain": [
       "<Figure size 432x288 with 1 Axes>"
      ]
     },
     "metadata": {
      "needs_background": "light"
     },
     "output_type": "display_data"
    }
   ],
   "source": [
    "feature_importance.head(10).plot(kind=\"barh\")"
   ]
  },
  {
   "cell_type": "code",
   "execution_count": 14,
   "metadata": {
    "ExecuteTime": {
     "end_time": "2022-04-01T00:35:26.153321Z",
     "start_time": "2022-04-01T00:35:25.806326Z"
    }
   },
   "outputs": [
    {
     "data": {
      "text/plain": [
       "(-0.5, 7.5, 7.5, -0.5)"
      ]
     },
     "execution_count": 14,
     "metadata": {},
     "output_type": "execute_result"
    },
    {
     "data": {
      "image/png": "[encoded data removed]",
      "text/plain": [
       "<Figure size 432x288 with 2 Axes>"
      ]
     },
     "metadata": {
      "needs_background": "light"
     },
     "output_type": "display_data"
    }
   ],
   "source": [
    "image = random_forest.feature_importances_.reshape(8, 8)\n",
    "\n",
    "plt.imshow(image, cmap=plt.cm.hot, interpolation=\"nearest\")\n",
    "cbar = plt.colorbar(ticks=[random_forest.feature_importances_.min(), random_forest.feature_importances_.max()])\n",
    "cbar.ax.set_yticklabels(['Not Important', 'Very Important'])\n",
    "plt.axis(\"off\")"
   ]
  },
  {
   "cell_type": "code",
   "execution_count": 15,
   "metadata": {
    "ExecuteTime": {
     "end_time": "2022-04-01T00:35:26.864863Z",
     "start_time": "2022-04-01T00:35:26.155321Z"
    }
   },
   "outputs": [
    {
     "data": {
      "text/plain": [
       "<matplotlib.image.AxesImage at 0x24f44972b00>"
      ]
     },
     "execution_count": 15,
     "metadata": {},
     "output_type": "execute_result"
    },
    {
     "data": {
      "image/png": "[encoded data removed]",
      "text/plain": [
       "<Figure size 432x288 with 1 Axes>"
      ]
     },
     "metadata": {
      "needs_background": "light"
     },
     "output_type": "display_data"
    }
   ],
   "source": [
    "### 2.3 Predict\n",
    "\n",
    "train_pred = random_forest.predict(train_data)\n",
    "test_pred = random_forest.predict(test_data)\n",
    "\n",
    "plt.imshow(train_data[4].reshape(8, 8), cmap=\"gray\")"
   ]
  },
  {
   "cell_type": "code",
   "execution_count": 16,
   "metadata": {
    "ExecuteTime": {
     "end_time": "2022-04-01T00:35:26.895861Z",
     "start_time": "2022-04-01T00:35:26.869875Z"
    }
   },
   "outputs": [
    {
     "data": {
      "text/plain": [
       "9"
      ]
     },
     "execution_count": 16,
     "metadata": {},
     "output_type": "execute_result"
    }
   ],
   "source": [
    "train_pred[4]"
   ]
  },
  {
   "cell_type": "markdown",
   "metadata": {},
   "source": [
    "### 2.4 Evalution"
   ]
  },
  {
   "cell_type": "code",
   "execution_count": 17,
   "metadata": {
    "ExecuteTime": {
     "end_time": "2022-04-01T00:35:26.926861Z",
     "start_time": "2022-04-01T00:35:26.904862Z"
    }
   },
   "outputs": [
    {
     "name": "stdout",
     "output_type": "stream",
     "text": [
      "train accuracy is 1.0000\n",
      "test accuracy is 0.9667\n"
     ]
    }
   ],
   "source": [
    "from sklearn.metrics import accuracy_score\n",
    "\n",
    "train_acc = accuracy_score(train_target, train_pred)\n",
    "test_acc = accuracy_score(test_target, test_pred)\n",
    "\n",
    "print(f\"train accuracy is {train_acc:.4f}\")\n",
    "print(f\"test accuracy is {test_acc:.4f}\")"
   ]
  },
  {
   "cell_type": "markdown",
   "metadata": {},
   "source": [
    "# 3. Best Hyper Parameter"
   ]
  },
  {
   "cell_type": "markdown",
   "metadata": {},
   "source": [
    "RandomForestClassifier에서 주로 탐색하는 argument\n",
    "- n_estimators\n",
    "    - 몇 개의 나무를 생성할 것 인지 설정\n",
    "- criterion\n",
    "    - 어떤 정보 이득을 기준으로 데이터를 나눌지 설정\n",
    "    - \"gini\", \"entropy\"\n",
    "- max_depth\n",
    "    - 나무의 최대 깊이 설정\n",
    "- min_samples_split\n",
    "    - 노드가 나눠질 수 있는 최소 데이터 개수를 설정"
   ]
  },
  {
   "cell_type": "markdown",
   "metadata": {},
   "source": [
    "탐색해야할 argument들이 많을 때 일일이 지정을 하거나 for loop을 작성하기 힘듬  \n",
    "이 때 사용할 수 있는 것이 `sklearn.model_selection`의 `GridSearchCV` 함수"
   ]
  },
  {
   "cell_type": "markdown",
   "metadata": {},
   "source": [
    "### 3.1 Search Range Selection\n",
    "- 탐색할 값들의 argument와 범위 설정"
   ]
  },
  {
   "cell_type": "code",
   "execution_count": 18,
   "metadata": {
    "ExecuteTime": {
     "end_time": "2022-04-01T00:35:26.958862Z",
     "start_time": "2022-04-01T00:35:26.935861Z"
    }
   },
   "outputs": [
    {
     "data": {
      "text/plain": [
       "{'n_estimators': [100, 300, 500, 700, 900], 'max_depth': [10, 20, 30, 40]}"
      ]
     },
     "execution_count": 18,
     "metadata": {},
     "output_type": "execute_result"
    }
   ],
   "source": [
    "params = {\n",
    "    \"n_estimators\": [i for i in range(100, 1000, 200)],\n",
    "    \"max_depth\": [i for i in range(10, 50, 10)],}\n",
    "\n",
    "params"
   ]
  },
  {
   "cell_type": "code",
   "execution_count": 19,
   "metadata": {
    "ExecuteTime": {
     "end_time": "2022-04-01T00:35:26.990863Z",
     "start_time": "2022-04-01T00:35:26.967863Z"
    }
   },
   "outputs": [],
   "source": [
    "# 탐색에 사용할 모델 생성\n",
    "random_forest = RandomForestClassifier()"
   ]
  },
  {
   "cell_type": "markdown",
   "metadata": {},
   "source": [
    "### 3.2 Exploration\n",
    "- `cv`는 k-fold의 k값"
   ]
  },
  {
   "cell_type": "code",
   "execution_count": 20,
   "metadata": {
    "ExecuteTime": {
     "end_time": "2022-04-01T00:37:03.837027Z",
     "start_time": "2022-04-01T00:35:26.999868Z"
    }
   },
   "outputs": [],
   "source": [
    "from sklearn.model_selection import GridSearchCV\n",
    "\n",
    "grid = GridSearchCV(estimator=random_forest, param_grid=params, cv=3)\n",
    "grid = grid.fit(train_data, train_target)"
   ]
  },
  {
   "cell_type": "markdown",
   "metadata": {},
   "source": [
    "### 3.3 Result"
   ]
  },
  {
   "cell_type": "code",
   "execution_count": 21,
   "metadata": {
    "ExecuteTime": {
     "end_time": "2022-04-01T00:37:03.853026Z",
     "start_time": "2022-04-01T00:37:03.840029Z"
    }
   },
   "outputs": [
    {
     "name": "stdout",
     "output_type": "stream",
     "text": [
      "Best score of paramter search is: 0.9730\n",
      "Best parameter of best score is : {'max_depth': 30, 'n_estimators': 300}\n"
     ]
    }
   ],
   "source": [
    "print(f\"Best score of paramter search is: {grid.best_score_:.4f}\")\n",
    "print(f\"Best parameter of best score is : {grid.best_params_:}\")"
   ]
  },
  {
   "cell_type": "code",
   "execution_count": 22,
   "metadata": {
    "ExecuteTime": {
     "end_time": "2022-04-01T00:37:03.885025Z",
     "start_time": "2022-04-01T00:37:03.862026Z"
    }
   },
   "outputs": [
    {
     "data": {
      "text/plain": [
       "RandomForestClassifier(max_depth=30, n_estimators=300)"
      ]
     },
     "execution_count": 22,
     "metadata": {},
     "output_type": "execute_result"
    }
   ],
   "source": [
    "best_rf = grid.best_estimator_\n",
    "best_rf"
   ]
  },
  {
   "cell_type": "markdown",
   "metadata": {},
   "source": [
    "### 3.4 Predict"
   ]
  },
  {
   "cell_type": "code",
   "execution_count": 23,
   "metadata": {
    "ExecuteTime": {
     "end_time": "2022-04-01T00:37:04.116750Z",
     "start_time": "2022-04-01T00:37:03.892028Z"
    }
   },
   "outputs": [],
   "source": [
    "train_pred = best_rf.predict(train_data)\n",
    "test_pred = best_rf.predict(test_data)"
   ]
  },
  {
   "cell_type": "markdown",
   "metadata": {
    "ExecuteTime": {
     "end_time": "2022-04-01T00:34:25.754230Z",
     "start_time": "2022-04-01T00:34:25.740231Z"
    }
   },
   "source": [
    "### 3.5 Evalution"
   ]
  },
  {
   "cell_type": "code",
   "execution_count": 24,
   "metadata": {
    "ExecuteTime": {
     "end_time": "2022-04-01T00:37:04.131757Z",
     "start_time": "2022-04-01T00:37:04.119768Z"
    }
   },
   "outputs": [
    {
     "name": "stdout",
     "output_type": "stream",
     "text": [
      "Best parameter train accuracy is 1.0000\n",
      "Best parameter test accuracy is 0.9704\n"
     ]
    }
   ],
   "source": [
    "best_train_acc = accuracy_score(train_target, train_pred)\n",
    "best_test_acc = accuracy_score(test_target, test_pred)\n",
    "\n",
    "print(f\"Best parameter train accuracy is {best_train_acc:.4f}\")\n",
    "print(f\"Best parameter test accuracy is {best_test_acc:.4f}\")"
   ]
  },
  {
   "cell_type": "code",
   "execution_count": 25,
   "metadata": {
    "ExecuteTime": {
     "end_time": "2022-04-01T00:37:04.146763Z",
     "start_time": "2022-04-01T00:37:04.135750Z"
    }
   },
   "outputs": [
    {
     "name": "stdout",
     "output_type": "stream",
     "text": [
      "train accuracy is 1.0000\n",
      "test accuracy is 0.9667\n"
     ]
    }
   ],
   "source": [
    "print(f\"train accuracy is {train_acc:.4f}\")\n",
    "print(f\"test accuracy is {test_acc:.4f}\")"
   ]
  },
  {
   "cell_type": "markdown",
   "metadata": {},
   "source": [
    "# 4. Feature importance"
   ]
  },
  {
   "cell_type": "code",
   "execution_count": 26,
   "metadata": {
    "ExecuteTime": {
     "end_time": "2022-04-01T00:37:04.210748Z",
     "start_time": "2022-04-01T00:37:04.150766Z"
    }
   },
   "outputs": [
    {
     "data": {
      "text/plain": [
       "21    0.045323\n",
       "26    0.044439\n",
       "43    0.043824\n",
       "36    0.040624\n",
       "42    0.035054\n",
       "28    0.033223\n",
       "20    0.030152\n",
       "30    0.029488\n",
       "27    0.028930\n",
       "60    0.028078\n",
       "dtype: float64"
      ]
     },
     "execution_count": 26,
     "metadata": {},
     "output_type": "execute_result"
    }
   ],
   "source": [
    "best_feature_importance = pd.Series(best_rf.feature_importances_)\n",
    "best_feature_importance = best_feature_importance.sort_values(ascending=False)\n",
    "\n",
    "best_feature_importance.head(10)"
   ]
  },
  {
   "cell_type": "code",
   "execution_count": 27,
   "metadata": {
    "ExecuteTime": {
     "end_time": "2022-04-01T00:37:04.542274Z",
     "start_time": "2022-04-01T00:37:04.213749Z"
    }
   },
   "outputs": [
    {
     "data": {
      "text/plain": [
       "<AxesSubplot:title={'center':'Best Parameter Feature Importance'}>"
      ]
     },
     "execution_count": 27,
     "metadata": {},
     "output_type": "execute_result"
    },
    {
     "data": {
      "image/png": "[encoded data removed]",
      "text/plain": [
       "<Figure size 1080x360 with 2 Axes>"
      ]
     },
     "metadata": {
      "needs_background": "light"
     },
     "output_type": "display_data"
    }
   ],
   "source": [
    "fig, axes = plt.subplots(nrows=1, ncols=2, figsize=(15, 5))\n",
    "feature_importance.head(10).plot(kind=\"barh\", ax=axes[0], title=\"Random Forest Feature Importance\")\n",
    "best_feature_importance.head(10).plot(kind=\"barh\", ax=axes[1], title=\"Best Parameter Feature Importance\")"
   ]
  },
  {
   "cell_type": "code",
   "execution_count": null,
   "metadata": {},
   "outputs": [],
   "source": []
  },
  {
   "cell_type": "code",
   "execution_count": null,
   "metadata": {},
   "outputs": [],
   "source": []
  }
 ],
 "metadata": {
  "hide_input": false,
  "kernelspec": {
   "display_name": "ojt",
   "language": "python",
   "name": "ojt"
  },
  "language_info": {
   "codemirror_mode": {
    "name": "ipython",
    "version": 3
   },
   "file_extension": ".py",
   "mimetype": "text/x-python",
   "name": "python",
   "nbconvert_exporter": "python",
   "pygments_lexer": "ipython3",
   "version": "3.6.5"
  },
  "toc": {
   "base_numbering": 1,
   "nav_menu": {},
   "number_sections": false,
   "sideBar": true,
   "skip_h1_title": false,
   "title_cell": "Table of Contents",
   "title_sidebar": "Contents",
   "toc_cell": false,
   "toc_position": {},
   "toc_section_display": true,
   "toc_window_display": false
  },
  "varInspector": {
   "cols": {
    "lenName": 16,
    "lenType": 16,
    "lenVar": 40
   },
   "kernels_config": {
    "python": {
     "delete_cmd_postfix": "",
     "delete_cmd_prefix": "del ",
     "library": "var_list.py",
     "varRefreshCmd": "print(var_dic_list())"
    },
    "r": {
     "delete_cmd_postfix": ") ",
     "delete_cmd_prefix": "rm(",
     "library": "var_list.r",
     "varRefreshCmd": "cat(var_dic_list()) "
    }
   },
   "types_to_exclude": [
    "module",
    "function",
    "builtin_function_or_method",
    "instance",
    "_Feature"
   ],
   "window_display": false
  }
 },
 "nbformat": 4,
 "nbformat_minor": 2
}
